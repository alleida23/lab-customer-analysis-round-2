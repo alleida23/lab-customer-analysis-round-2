{
 "cells": [
  {
   "cell_type": "markdown",
   "id": "5c915f3d",
   "metadata": {},
   "source": [
    "# LAB-CUSTOMER ANALYSIS"
   ]
  },
  {
   "cell_type": "markdown",
   "id": "c81ebb2b",
   "metadata": {},
   "source": [
    "## Lab | Customer Analysis Round 2"
   ]
  },
  {
   "cell_type": "markdown",
   "id": "1731cfb9",
   "metadata": {},
   "source": [
    "\n",
    "For this lab, we will be using the marketing_customer_analysis.csv file that you can find in the files_for_lab folder. Check out the files_for_lab/about.md to get more information if you are using the Online Excel.\n",
    "\n",
    "Note: For the next labs we will be using the same data file. Please save the code, so that you can re-use it later in the labs following this lab.\n",
    "\n",
    "1. Dealing with the data\n",
    "2. Show the dataframe shape.\n",
    "3. Standardize header names.\n",
    "4. Which columns are numerical?\n",
    "5. Which columns are categorical?\n",
    "6. Check and deal with NaN values.\n",
    "7. Datetime format - Extract the months from the dataset and store in a separate column. Then filter the data to show only the information for the first quarter , ie. January, February and March. Hint: If data from March does not exist, consider only January and February.\n",
    "8. BONUS: Put all the previously mentioned data transformations into a function."
   ]
  },
  {
   "cell_type": "code",
   "execution_count": 3127,
   "id": "10c941b3",
   "metadata": {},
   "outputs": [],
   "source": [
    "import pandas as pd\n",
    "import numpy as np"
   ]
  },
  {
   "cell_type": "markdown",
   "id": "b2deaef0",
   "metadata": {},
   "source": [
    "#### 1. IMPORTING FILE & DEALING WITH DATA"
   ]
  },
  {
   "cell_type": "code",
   "execution_count": 3128,
   "id": "7591fe77",
   "metadata": {
    "scrolled": false
   },
   "outputs": [
    {
     "data": {
      "text/html": [
       "<div>\n",
       "<style scoped>\n",
       "    .dataframe tbody tr th:only-of-type {\n",
       "        vertical-align: middle;\n",
       "    }\n",
       "\n",
       "    .dataframe tbody tr th {\n",
       "        vertical-align: top;\n",
       "    }\n",
       "\n",
       "    .dataframe thead th {\n",
       "        text-align: right;\n",
       "    }\n",
       "</style>\n",
       "<table border=\"1\" class=\"dataframe\">\n",
       "  <thead>\n",
       "    <tr style=\"text-align: right;\">\n",
       "      <th></th>\n",
       "      <th>Unnamed: 0</th>\n",
       "      <th>Customer</th>\n",
       "      <th>State</th>\n",
       "      <th>Customer Lifetime Value</th>\n",
       "      <th>Response</th>\n",
       "      <th>Coverage</th>\n",
       "      <th>Education</th>\n",
       "      <th>Effective To Date</th>\n",
       "      <th>EmploymentStatus</th>\n",
       "      <th>Gender</th>\n",
       "      <th>...</th>\n",
       "      <th>Number of Open Complaints</th>\n",
       "      <th>Number of Policies</th>\n",
       "      <th>Policy Type</th>\n",
       "      <th>Policy</th>\n",
       "      <th>Renew Offer Type</th>\n",
       "      <th>Sales Channel</th>\n",
       "      <th>Total Claim Amount</th>\n",
       "      <th>Vehicle Class</th>\n",
       "      <th>Vehicle Size</th>\n",
       "      <th>Vehicle Type</th>\n",
       "    </tr>\n",
       "  </thead>\n",
       "  <tbody>\n",
       "    <tr>\n",
       "      <th>0</th>\n",
       "      <td>0</td>\n",
       "      <td>DK49336</td>\n",
       "      <td>Arizona</td>\n",
       "      <td>4809.216960</td>\n",
       "      <td>No</td>\n",
       "      <td>Basic</td>\n",
       "      <td>College</td>\n",
       "      <td>2/18/11</td>\n",
       "      <td>Employed</td>\n",
       "      <td>M</td>\n",
       "      <td>...</td>\n",
       "      <td>0.0</td>\n",
       "      <td>9</td>\n",
       "      <td>Corporate Auto</td>\n",
       "      <td>Corporate L3</td>\n",
       "      <td>Offer3</td>\n",
       "      <td>Agent</td>\n",
       "      <td>292.800000</td>\n",
       "      <td>Four-Door Car</td>\n",
       "      <td>Medsize</td>\n",
       "      <td>NaN</td>\n",
       "    </tr>\n",
       "    <tr>\n",
       "      <th>1</th>\n",
       "      <td>1</td>\n",
       "      <td>KX64629</td>\n",
       "      <td>California</td>\n",
       "      <td>2228.525238</td>\n",
       "      <td>No</td>\n",
       "      <td>Basic</td>\n",
       "      <td>College</td>\n",
       "      <td>1/18/11</td>\n",
       "      <td>Unemployed</td>\n",
       "      <td>F</td>\n",
       "      <td>...</td>\n",
       "      <td>0.0</td>\n",
       "      <td>1</td>\n",
       "      <td>Personal Auto</td>\n",
       "      <td>Personal L3</td>\n",
       "      <td>Offer4</td>\n",
       "      <td>Call Center</td>\n",
       "      <td>744.924331</td>\n",
       "      <td>Four-Door Car</td>\n",
       "      <td>Medsize</td>\n",
       "      <td>NaN</td>\n",
       "    </tr>\n",
       "    <tr>\n",
       "      <th>2</th>\n",
       "      <td>2</td>\n",
       "      <td>LZ68649</td>\n",
       "      <td>Washington</td>\n",
       "      <td>14947.917300</td>\n",
       "      <td>No</td>\n",
       "      <td>Basic</td>\n",
       "      <td>Bachelor</td>\n",
       "      <td>2/10/11</td>\n",
       "      <td>Employed</td>\n",
       "      <td>M</td>\n",
       "      <td>...</td>\n",
       "      <td>0.0</td>\n",
       "      <td>2</td>\n",
       "      <td>Personal Auto</td>\n",
       "      <td>Personal L3</td>\n",
       "      <td>Offer3</td>\n",
       "      <td>Call Center</td>\n",
       "      <td>480.000000</td>\n",
       "      <td>SUV</td>\n",
       "      <td>Medsize</td>\n",
       "      <td>A</td>\n",
       "    </tr>\n",
       "    <tr>\n",
       "      <th>3</th>\n",
       "      <td>3</td>\n",
       "      <td>XL78013</td>\n",
       "      <td>Oregon</td>\n",
       "      <td>22332.439460</td>\n",
       "      <td>Yes</td>\n",
       "      <td>Extended</td>\n",
       "      <td>College</td>\n",
       "      <td>1/11/11</td>\n",
       "      <td>Employed</td>\n",
       "      <td>M</td>\n",
       "      <td>...</td>\n",
       "      <td>0.0</td>\n",
       "      <td>2</td>\n",
       "      <td>Corporate Auto</td>\n",
       "      <td>Corporate L3</td>\n",
       "      <td>Offer2</td>\n",
       "      <td>Branch</td>\n",
       "      <td>484.013411</td>\n",
       "      <td>Four-Door Car</td>\n",
       "      <td>Medsize</td>\n",
       "      <td>A</td>\n",
       "    </tr>\n",
       "    <tr>\n",
       "      <th>4</th>\n",
       "      <td>4</td>\n",
       "      <td>QA50777</td>\n",
       "      <td>Oregon</td>\n",
       "      <td>9025.067525</td>\n",
       "      <td>No</td>\n",
       "      <td>Premium</td>\n",
       "      <td>Bachelor</td>\n",
       "      <td>1/17/11</td>\n",
       "      <td>Medical Leave</td>\n",
       "      <td>F</td>\n",
       "      <td>...</td>\n",
       "      <td>NaN</td>\n",
       "      <td>7</td>\n",
       "      <td>Personal Auto</td>\n",
       "      <td>Personal L2</td>\n",
       "      <td>Offer1</td>\n",
       "      <td>Branch</td>\n",
       "      <td>707.925645</td>\n",
       "      <td>Four-Door Car</td>\n",
       "      <td>Medsize</td>\n",
       "      <td>NaN</td>\n",
       "    </tr>\n",
       "  </tbody>\n",
       "</table>\n",
       "<p>5 rows × 26 columns</p>\n",
       "</div>"
      ],
      "text/plain": [
       "   Unnamed: 0 Customer       State  Customer Lifetime Value Response  \\\n",
       "0           0  DK49336     Arizona              4809.216960       No   \n",
       "1           1  KX64629  California              2228.525238       No   \n",
       "2           2  LZ68649  Washington             14947.917300       No   \n",
       "3           3  XL78013      Oregon             22332.439460      Yes   \n",
       "4           4  QA50777      Oregon              9025.067525       No   \n",
       "\n",
       "   Coverage Education Effective To Date EmploymentStatus Gender  ...  \\\n",
       "0     Basic   College           2/18/11         Employed      M  ...   \n",
       "1     Basic   College           1/18/11       Unemployed      F  ...   \n",
       "2     Basic  Bachelor           2/10/11         Employed      M  ...   \n",
       "3  Extended   College           1/11/11         Employed      M  ...   \n",
       "4   Premium  Bachelor           1/17/11    Medical Leave      F  ...   \n",
       "\n",
       "   Number of Open Complaints Number of Policies     Policy Type        Policy  \\\n",
       "0                        0.0                  9  Corporate Auto  Corporate L3   \n",
       "1                        0.0                  1   Personal Auto   Personal L3   \n",
       "2                        0.0                  2   Personal Auto   Personal L3   \n",
       "3                        0.0                  2  Corporate Auto  Corporate L3   \n",
       "4                        NaN                  7   Personal Auto   Personal L2   \n",
       "\n",
       "   Renew Offer Type  Sales Channel  Total Claim Amount  Vehicle Class  \\\n",
       "0            Offer3          Agent          292.800000  Four-Door Car   \n",
       "1            Offer4    Call Center          744.924331  Four-Door Car   \n",
       "2            Offer3    Call Center          480.000000            SUV   \n",
       "3            Offer2         Branch          484.013411  Four-Door Car   \n",
       "4            Offer1         Branch          707.925645  Four-Door Car   \n",
       "\n",
       "  Vehicle Size Vehicle Type  \n",
       "0      Medsize          NaN  \n",
       "1      Medsize          NaN  \n",
       "2      Medsize            A  \n",
       "3      Medsize            A  \n",
       "4      Medsize          NaN  \n",
       "\n",
       "[5 rows x 26 columns]"
      ]
     },
     "execution_count": 3128,
     "metadata": {},
     "output_type": "execute_result"
    }
   ],
   "source": [
    "mca_file = pd.read_csv('./csv_files/marketing_customer_analysis.csv')\n",
    "mca_file.head()"
   ]
  },
  {
   "cell_type": "code",
   "execution_count": 3129,
   "id": "225b1ce7",
   "metadata": {},
   "outputs": [
    {
     "data": {
      "text/plain": [
       "Index(['Customer', 'State', 'Customer Lifetime Value', 'Response', 'Coverage',\n",
       "       'Education', 'Effective To Date', 'EmploymentStatus', 'Gender',\n",
       "       'Income', 'Location Code', 'Marital Status', 'Monthly Premium Auto',\n",
       "       'Months Since Last Claim', 'Months Since Policy Inception',\n",
       "       'Number of Open Complaints', 'Number of Policies', 'Policy Type',\n",
       "       'Policy', 'Renew Offer Type', 'Sales Channel', 'Total Claim Amount',\n",
       "       'Vehicle Class', 'Vehicle Size', 'Vehicle Type'],\n",
       "      dtype='object')"
      ]
     },
     "execution_count": 3129,
     "metadata": {},
     "output_type": "execute_result"
    }
   ],
   "source": [
    "# Deleting original column 'Unnamed: 0' of de DF\n",
    "mca_file = mca_file.drop (['Unnamed: 0'], axis=1)\n",
    "\n",
    "# Checking\n",
    "mca_file.columns"
   ]
  },
  {
   "cell_type": "code",
   "execution_count": 3130,
   "id": "afb2dfb3",
   "metadata": {},
   "outputs": [
    {
     "data": {
      "text/html": [
       "<div>\n",
       "<style scoped>\n",
       "    .dataframe tbody tr th:only-of-type {\n",
       "        vertical-align: middle;\n",
       "    }\n",
       "\n",
       "    .dataframe tbody tr th {\n",
       "        vertical-align: top;\n",
       "    }\n",
       "\n",
       "    .dataframe thead th {\n",
       "        text-align: right;\n",
       "    }\n",
       "</style>\n",
       "<table border=\"1\" class=\"dataframe\">\n",
       "  <thead>\n",
       "    <tr style=\"text-align: right;\">\n",
       "      <th></th>\n",
       "      <th>Customer</th>\n",
       "      <th>State</th>\n",
       "      <th>Customer Lifetime Value</th>\n",
       "      <th>Response</th>\n",
       "      <th>Coverage</th>\n",
       "      <th>Education</th>\n",
       "      <th>Effective To Date</th>\n",
       "      <th>EmploymentStatus</th>\n",
       "      <th>Gender</th>\n",
       "      <th>Income</th>\n",
       "      <th>...</th>\n",
       "      <th>Number of Open Complaints</th>\n",
       "      <th>Number of Policies</th>\n",
       "      <th>Policy Type</th>\n",
       "      <th>Policy</th>\n",
       "      <th>Renew Offer Type</th>\n",
       "      <th>Sales Channel</th>\n",
       "      <th>Total Claim Amount</th>\n",
       "      <th>Vehicle Class</th>\n",
       "      <th>Vehicle Size</th>\n",
       "      <th>Vehicle Type</th>\n",
       "    </tr>\n",
       "  </thead>\n",
       "  <tbody>\n",
       "    <tr>\n",
       "      <th>0</th>\n",
       "      <td>DK49336</td>\n",
       "      <td>Arizona</td>\n",
       "      <td>4809.216960</td>\n",
       "      <td>No</td>\n",
       "      <td>Basic</td>\n",
       "      <td>College</td>\n",
       "      <td>2/18/11</td>\n",
       "      <td>Employed</td>\n",
       "      <td>M</td>\n",
       "      <td>48029</td>\n",
       "      <td>...</td>\n",
       "      <td>0.0</td>\n",
       "      <td>9</td>\n",
       "      <td>Corporate Auto</td>\n",
       "      <td>Corporate L3</td>\n",
       "      <td>Offer3</td>\n",
       "      <td>Agent</td>\n",
       "      <td>292.800000</td>\n",
       "      <td>Four-Door Car</td>\n",
       "      <td>Medsize</td>\n",
       "      <td>NaN</td>\n",
       "    </tr>\n",
       "    <tr>\n",
       "      <th>1</th>\n",
       "      <td>KX64629</td>\n",
       "      <td>California</td>\n",
       "      <td>2228.525238</td>\n",
       "      <td>No</td>\n",
       "      <td>Basic</td>\n",
       "      <td>College</td>\n",
       "      <td>1/18/11</td>\n",
       "      <td>Unemployed</td>\n",
       "      <td>F</td>\n",
       "      <td>0</td>\n",
       "      <td>...</td>\n",
       "      <td>0.0</td>\n",
       "      <td>1</td>\n",
       "      <td>Personal Auto</td>\n",
       "      <td>Personal L3</td>\n",
       "      <td>Offer4</td>\n",
       "      <td>Call Center</td>\n",
       "      <td>744.924331</td>\n",
       "      <td>Four-Door Car</td>\n",
       "      <td>Medsize</td>\n",
       "      <td>NaN</td>\n",
       "    </tr>\n",
       "    <tr>\n",
       "      <th>2</th>\n",
       "      <td>LZ68649</td>\n",
       "      <td>Washington</td>\n",
       "      <td>14947.917300</td>\n",
       "      <td>No</td>\n",
       "      <td>Basic</td>\n",
       "      <td>Bachelor</td>\n",
       "      <td>2/10/11</td>\n",
       "      <td>Employed</td>\n",
       "      <td>M</td>\n",
       "      <td>22139</td>\n",
       "      <td>...</td>\n",
       "      <td>0.0</td>\n",
       "      <td>2</td>\n",
       "      <td>Personal Auto</td>\n",
       "      <td>Personal L3</td>\n",
       "      <td>Offer3</td>\n",
       "      <td>Call Center</td>\n",
       "      <td>480.000000</td>\n",
       "      <td>SUV</td>\n",
       "      <td>Medsize</td>\n",
       "      <td>A</td>\n",
       "    </tr>\n",
       "    <tr>\n",
       "      <th>3</th>\n",
       "      <td>XL78013</td>\n",
       "      <td>Oregon</td>\n",
       "      <td>22332.439460</td>\n",
       "      <td>Yes</td>\n",
       "      <td>Extended</td>\n",
       "      <td>College</td>\n",
       "      <td>1/11/11</td>\n",
       "      <td>Employed</td>\n",
       "      <td>M</td>\n",
       "      <td>49078</td>\n",
       "      <td>...</td>\n",
       "      <td>0.0</td>\n",
       "      <td>2</td>\n",
       "      <td>Corporate Auto</td>\n",
       "      <td>Corporate L3</td>\n",
       "      <td>Offer2</td>\n",
       "      <td>Branch</td>\n",
       "      <td>484.013411</td>\n",
       "      <td>Four-Door Car</td>\n",
       "      <td>Medsize</td>\n",
       "      <td>A</td>\n",
       "    </tr>\n",
       "    <tr>\n",
       "      <th>4</th>\n",
       "      <td>QA50777</td>\n",
       "      <td>Oregon</td>\n",
       "      <td>9025.067525</td>\n",
       "      <td>No</td>\n",
       "      <td>Premium</td>\n",
       "      <td>Bachelor</td>\n",
       "      <td>1/17/11</td>\n",
       "      <td>Medical Leave</td>\n",
       "      <td>F</td>\n",
       "      <td>23675</td>\n",
       "      <td>...</td>\n",
       "      <td>NaN</td>\n",
       "      <td>7</td>\n",
       "      <td>Personal Auto</td>\n",
       "      <td>Personal L2</td>\n",
       "      <td>Offer1</td>\n",
       "      <td>Branch</td>\n",
       "      <td>707.925645</td>\n",
       "      <td>Four-Door Car</td>\n",
       "      <td>Medsize</td>\n",
       "      <td>NaN</td>\n",
       "    </tr>\n",
       "  </tbody>\n",
       "</table>\n",
       "<p>5 rows × 25 columns</p>\n",
       "</div>"
      ],
      "text/plain": [
       "  Customer       State  Customer Lifetime Value Response  Coverage Education  \\\n",
       "0  DK49336     Arizona              4809.216960       No     Basic   College   \n",
       "1  KX64629  California              2228.525238       No     Basic   College   \n",
       "2  LZ68649  Washington             14947.917300       No     Basic  Bachelor   \n",
       "3  XL78013      Oregon             22332.439460      Yes  Extended   College   \n",
       "4  QA50777      Oregon              9025.067525       No   Premium  Bachelor   \n",
       "\n",
       "  Effective To Date EmploymentStatus Gender  Income  ...  \\\n",
       "0           2/18/11         Employed      M   48029  ...   \n",
       "1           1/18/11       Unemployed      F       0  ...   \n",
       "2           2/10/11         Employed      M   22139  ...   \n",
       "3           1/11/11         Employed      M   49078  ...   \n",
       "4           1/17/11    Medical Leave      F   23675  ...   \n",
       "\n",
       "  Number of Open Complaints Number of Policies     Policy Type        Policy  \\\n",
       "0                       0.0                  9  Corporate Auto  Corporate L3   \n",
       "1                       0.0                  1   Personal Auto   Personal L3   \n",
       "2                       0.0                  2   Personal Auto   Personal L3   \n",
       "3                       0.0                  2  Corporate Auto  Corporate L3   \n",
       "4                       NaN                  7   Personal Auto   Personal L2   \n",
       "\n",
       "   Renew Offer Type  Sales Channel  Total Claim Amount  Vehicle Class  \\\n",
       "0            Offer3          Agent          292.800000  Four-Door Car   \n",
       "1            Offer4    Call Center          744.924331  Four-Door Car   \n",
       "2            Offer3    Call Center          480.000000            SUV   \n",
       "3            Offer2         Branch          484.013411  Four-Door Car   \n",
       "4            Offer1         Branch          707.925645  Four-Door Car   \n",
       "\n",
       "  Vehicle Size Vehicle Type  \n",
       "0      Medsize          NaN  \n",
       "1      Medsize          NaN  \n",
       "2      Medsize            A  \n",
       "3      Medsize            A  \n",
       "4      Medsize          NaN  \n",
       "\n",
       "[5 rows x 25 columns]"
      ]
     },
     "execution_count": 3130,
     "metadata": {},
     "output_type": "execute_result"
    }
   ],
   "source": [
    "mca_file.head()"
   ]
  },
  {
   "cell_type": "markdown",
   "id": "efa8a1d1",
   "metadata": {},
   "source": [
    "#### 2. SHOW THE DATAFRAME SHAPE"
   ]
  },
  {
   "cell_type": "code",
   "execution_count": 3131,
   "id": "38418426",
   "metadata": {},
   "outputs": [
    {
     "data": {
      "text/plain": [
       "(10910, 25)"
      ]
     },
     "execution_count": 3131,
     "metadata": {},
     "output_type": "execute_result"
    }
   ],
   "source": [
    "mca_file.shape"
   ]
  },
  {
   "cell_type": "markdown",
   "id": "3734e87f",
   "metadata": {},
   "source": [
    "#### 3. STANDARDIZE HEADER NAMES"
   ]
  },
  {
   "cell_type": "code",
   "execution_count": 3132,
   "id": "bc586f8a",
   "metadata": {
    "scrolled": true
   },
   "outputs": [
    {
     "data": {
      "text/plain": [
       "Index(['customer', 'state', 'customer lifetime value', 'response', 'coverage',\n",
       "       'education', 'effective to date', 'employmentstatus', 'gender',\n",
       "       'income', 'location code', 'marital status', 'monthly premium auto',\n",
       "       'months since last claim', 'months since policy inception',\n",
       "       'number of open complaints', 'number of policies', 'policy type',\n",
       "       'policy', 'renew offer type', 'sales channel', 'total claim amount',\n",
       "       'vehicle class', 'vehicle size', 'vehicle type'],\n",
       "      dtype='object')"
      ]
     },
     "execution_count": 3132,
     "metadata": {},
     "output_type": "execute_result"
    }
   ],
   "source": [
    "# Getting columns names\n",
    "columns_names = mca_file.columns\n",
    "\n",
    "# Converting all column's name to lowercase \n",
    "cols = []\n",
    "for c in columns_names:\n",
    "    cols.append(c.lower())\n",
    "cols\n",
    "\n",
    "mca_file.columns = cols\n",
    "\n",
    "#checking\n",
    "mca_file.columns\n"
   ]
  },
  {
   "cell_type": "markdown",
   "id": "8afa079d",
   "metadata": {},
   "source": [
    "#### 4-5. WHICH COLUMNS ARE NUMERICAL? AND WHICH CATEGORICAL?"
   ]
  },
  {
   "cell_type": "code",
   "execution_count": 3133,
   "id": "e8a1fb87",
   "metadata": {},
   "outputs": [
    {
     "data": {
      "text/plain": [
       "customer                          object\n",
       "state                             object\n",
       "customer lifetime value          float64\n",
       "response                          object\n",
       "coverage                          object\n",
       "education                         object\n",
       "effective to date                 object\n",
       "employmentstatus                  object\n",
       "gender                            object\n",
       "income                             int64\n",
       "location code                     object\n",
       "marital status                    object\n",
       "monthly premium auto               int64\n",
       "months since last claim          float64\n",
       "months since policy inception      int64\n",
       "number of open complaints        float64\n",
       "number of policies                 int64\n",
       "policy type                       object\n",
       "policy                            object\n",
       "renew offer type                  object\n",
       "sales channel                     object\n",
       "total claim amount               float64\n",
       "vehicle class                     object\n",
       "vehicle size                      object\n",
       "vehicle type                      object\n",
       "dtype: object"
      ]
     },
     "metadata": {},
     "output_type": "display_data"
    }
   ],
   "source": [
    "# Checking data types \n",
    "display(mca_file.dtypes)"
   ]
  },
  {
   "cell_type": "code",
   "execution_count": 3134,
   "id": "763ad04f",
   "metadata": {},
   "outputs": [
    {
     "name": "stdout",
     "output_type": "stream",
     "text": [
      "Categorical Columns are: \n"
     ]
    },
    {
     "data": {
      "text/plain": [
       "customer             object\n",
       "state                object\n",
       "response             object\n",
       "coverage             object\n",
       "education            object\n",
       "effective to date    object\n",
       "employmentstatus     object\n",
       "gender               object\n",
       "location code        object\n",
       "marital status       object\n",
       "policy type          object\n",
       "policy               object\n",
       "renew offer type     object\n",
       "sales channel        object\n",
       "vehicle class        object\n",
       "vehicle size         object\n",
       "vehicle type         object\n",
       "dtype: object"
      ]
     },
     "metadata": {},
     "output_type": "display_data"
    },
    {
     "name": "stdout",
     "output_type": "stream",
     "text": [
      "Numerical Columns are: \n"
     ]
    },
    {
     "data": {
      "text/plain": [
       "customer lifetime value          float64\n",
       "income                             int64\n",
       "monthly premium auto               int64\n",
       "months since last claim          float64\n",
       "months since policy inception      int64\n",
       "number of open complaints        float64\n",
       "number of policies                 int64\n",
       "total claim amount               float64\n",
       "dtype: object"
      ]
     },
     "metadata": {},
     "output_type": "display_data"
    }
   ],
   "source": [
    "#Checking for categorical types\n",
    "categorical_columns = mca_file.select_dtypes(include=['object'])\n",
    "\n",
    "print(\"Categorical Columns are: \")\n",
    "display(categorical_columns.dtypes)\n",
    "\n",
    "\n",
    "#Checking for categorical types\n",
    "numerical_columns = mca_file.select_dtypes(include=['float64','int64'])\n",
    "\n",
    "print(\"Numerical Columns are: \")\n",
    "display(numerical_columns.dtypes)\n",
    "\n"
   ]
  },
  {
   "cell_type": "markdown",
   "id": "e933a2eb",
   "metadata": {},
   "source": [
    "#### 6. Check and deal with NaN values."
   ]
  },
  {
   "cell_type": "code",
   "execution_count": 3135,
   "id": "9fd23802",
   "metadata": {},
   "outputs": [
    {
     "name": "stdout",
     "output_type": "stream",
     "text": [
      "Columns with Nan Values:\n",
      "\n",
      "customer                            0\n",
      "state                             631\n",
      "customer lifetime value             0\n",
      "response                          631\n",
      "coverage                            0\n",
      "education                           0\n",
      "effective to date                   0\n",
      "employmentstatus                    0\n",
      "gender                              0\n",
      "income                              0\n",
      "location code                       0\n",
      "marital status                      0\n",
      "monthly premium auto                0\n",
      "months since last claim           633\n",
      "months since policy inception       0\n",
      "number of open complaints         633\n",
      "number of policies                  0\n",
      "policy type                         0\n",
      "policy                              0\n",
      "renew offer type                    0\n",
      "sales channel                       0\n",
      "total claim amount                  0\n",
      "vehicle class                     622\n",
      "vehicle size                      622\n",
      "vehicle type                     5482\n",
      "dtype: int64\n"
     ]
    }
   ],
   "source": [
    "null_values = mca_file.isnull()\n",
    "\n",
    "print(\"Columns with Nan Values:\")\n",
    "print()\n",
    "print(null_values.sum())\n"
   ]
  },
  {
   "cell_type": "code",
   "execution_count": 3136,
   "id": "97cd313f",
   "metadata": {},
   "outputs": [
    {
     "name": "stdout",
     "output_type": "stream",
     "text": [
      "Checking no remaining Nan Values:\n",
      "\n",
      "customer                         0\n",
      "state                            0\n",
      "customer lifetime value          0\n",
      "response                         0\n",
      "coverage                         0\n",
      "education                        0\n",
      "effective to date                0\n",
      "employmentstatus                 0\n",
      "gender                           0\n",
      "income                           0\n",
      "location code                    0\n",
      "marital status                   0\n",
      "monthly premium auto             0\n",
      "months since last claim          0\n",
      "months since policy inception    0\n",
      "number of open complaints        0\n",
      "number of policies               0\n",
      "policy type                      0\n",
      "policy                           0\n",
      "renew offer type                 0\n",
      "sales channel                    0\n",
      "total claim amount               0\n",
      "vehicle class                    0\n",
      "vehicle size                     0\n",
      "vehicle type                     0\n",
      "dtype: int64\n"
     ]
    }
   ],
   "source": [
    "# Removing null values\n",
    "\n",
    "mca_file = mca_file.dropna()\n",
    "\n",
    "null_values2=mca_file.isnull()\n",
    "\n",
    "print(\"Checking no remaining Nan Values:\")\n",
    "print()\n",
    "print(null_values2.sum())"
   ]
  },
  {
   "cell_type": "markdown",
   "id": "312c6b47",
   "metadata": {},
   "source": [
    "#### 7. Datetime format - Extract the months from the dataset and store in a separate column.\n",
    "##### Then filter the data to show only the information for the first quarter , ie. January, February and March. Hint: If data from March does not exist, consider only January and February.\n"
   ]
  },
  {
   "cell_type": "code",
   "execution_count": 3137,
   "id": "7cd22dea",
   "metadata": {},
   "outputs": [
    {
     "data": {
      "text/plain": [
       "array([2, 1])"
      ]
     },
     "execution_count": 3137,
     "metadata": {},
     "output_type": "execute_result"
    }
   ],
   "source": [
    "#extracting months\n",
    "mca_file['months'] = pd.DatetimeIndex(mca_file['effective to date']).month\n",
    "mca_file.head()\n",
    "\n",
    "#checking unique values in column 'Months'\n",
    "mca_file['months'].unique()\n"
   ]
  },
  {
   "cell_type": "code",
   "execution_count": 3138,
   "id": "a98d85f5",
   "metadata": {},
   "outputs": [
    {
     "data": {
      "text/plain": [
       "array(['February', 'January'], dtype=object)"
      ]
     },
     "execution_count": 3138,
     "metadata": {},
     "output_type": "execute_result"
    }
   ],
   "source": [
    "# Assigning names to months\n",
    "mca_file['months'] = mca_file['months'].replace({1:'January', 2:'February'})\n",
    "\n",
    "#Checking\n",
    "mca_file['months'].unique()\n"
   ]
  },
  {
   "cell_type": "code",
   "execution_count": 3139,
   "id": "6ef73ec4",
   "metadata": {
    "scrolled": true
   },
   "outputs": [
    {
     "data": {
      "text/plain": [
       "Index(['customer', 'state', 'customer lifetime value', 'response', 'coverage',\n",
       "       'education', 'employmentstatus', 'gender', 'income', 'location code',\n",
       "       'marital status', 'monthly premium auto', 'months since last claim',\n",
       "       'months since policy inception', 'number of open complaints',\n",
       "       'number of policies', 'policy type', 'policy', 'renew offer type',\n",
       "       'sales channel', 'total claim amount', 'vehicle class', 'vehicle size',\n",
       "       'vehicle type', 'months'],\n",
       "      dtype='object')"
      ]
     },
     "execution_count": 3139,
     "metadata": {},
     "output_type": "execute_result"
    }
   ],
   "source": [
    "# Deleting original column 'effective to date' of de DF\n",
    "mca_file = mca_file.drop (['effective to date'], axis=1)\n",
    "\n",
    "# Checking\n",
    "mca_file.columns"
   ]
  },
  {
   "cell_type": "markdown",
   "id": "bc8621c8",
   "metadata": {},
   "source": [
    "#### 8. BONUS: Put all the previously mentioned data transformations into a function."
   ]
  },
  {
   "cell_type": "code",
   "execution_count": null,
   "id": "901c642b",
   "metadata": {},
   "outputs": [],
   "source": []
  },
  {
   "cell_type": "code",
   "execution_count": null,
   "id": "a6b564b2",
   "metadata": {},
   "outputs": [],
   "source": []
  },
  {
   "cell_type": "code",
   "execution_count": null,
   "id": "fc49328b",
   "metadata": {},
   "outputs": [],
   "source": []
  },
  {
   "cell_type": "markdown",
   "id": "00685d19",
   "metadata": {},
   "source": [
    "## Lab | Customer Analysis Round 3"
   ]
  },
  {
   "cell_type": "markdown",
   "id": "3ae26f5b",
   "metadata": {},
   "source": [
    "For this lab, we still keep using the marketing_customer_analysis.csv file. You can find the file in the files_for_lab folder.\n",
    "\n",
    "#### Get the data\n",
    "Use the same jupyter file from the last lab, Customer Analysis Round 3\n",
    "\n",
    "##### EDA (Exploratory Data Analysis) - Complete the following tasks to explore the data:\n",
    "1. Show DataFrame info.\n",
    "2. Describe DataFrame.\n",
    "3. Show a plot of the total number of responses.\n",
    "4. Show a plot of the response rate by the sales channel.\n",
    "5. Show a plot of the response rate by the total claim amount.\n",
    "6. Show a plot of the response rate by income.\n"
   ]
  },
  {
   "cell_type": "code",
   "execution_count": 3140,
   "id": "9a624cf3",
   "metadata": {},
   "outputs": [
    {
     "data": {
      "text/html": [
       "<div>\n",
       "<style scoped>\n",
       "    .dataframe tbody tr th:only-of-type {\n",
       "        vertical-align: middle;\n",
       "    }\n",
       "\n",
       "    .dataframe tbody tr th {\n",
       "        vertical-align: top;\n",
       "    }\n",
       "\n",
       "    .dataframe thead th {\n",
       "        text-align: right;\n",
       "    }\n",
       "</style>\n",
       "<table border=\"1\" class=\"dataframe\">\n",
       "  <thead>\n",
       "    <tr style=\"text-align: right;\">\n",
       "      <th></th>\n",
       "      <th>customer</th>\n",
       "      <th>state</th>\n",
       "      <th>customer lifetime value</th>\n",
       "      <th>response</th>\n",
       "      <th>coverage</th>\n",
       "      <th>education</th>\n",
       "      <th>employmentstatus</th>\n",
       "      <th>gender</th>\n",
       "      <th>income</th>\n",
       "      <th>location code</th>\n",
       "      <th>...</th>\n",
       "      <th>number of policies</th>\n",
       "      <th>policy type</th>\n",
       "      <th>policy</th>\n",
       "      <th>renew offer type</th>\n",
       "      <th>sales channel</th>\n",
       "      <th>total claim amount</th>\n",
       "      <th>vehicle class</th>\n",
       "      <th>vehicle size</th>\n",
       "      <th>vehicle type</th>\n",
       "      <th>months</th>\n",
       "    </tr>\n",
       "  </thead>\n",
       "  <tbody>\n",
       "    <tr>\n",
       "      <th>2</th>\n",
       "      <td>LZ68649</td>\n",
       "      <td>Washington</td>\n",
       "      <td>14947.917300</td>\n",
       "      <td>No</td>\n",
       "      <td>Basic</td>\n",
       "      <td>Bachelor</td>\n",
       "      <td>Employed</td>\n",
       "      <td>M</td>\n",
       "      <td>22139</td>\n",
       "      <td>Suburban</td>\n",
       "      <td>...</td>\n",
       "      <td>2</td>\n",
       "      <td>Personal Auto</td>\n",
       "      <td>Personal L3</td>\n",
       "      <td>Offer3</td>\n",
       "      <td>Call Center</td>\n",
       "      <td>480.000000</td>\n",
       "      <td>SUV</td>\n",
       "      <td>Medsize</td>\n",
       "      <td>A</td>\n",
       "      <td>February</td>\n",
       "    </tr>\n",
       "    <tr>\n",
       "      <th>3</th>\n",
       "      <td>XL78013</td>\n",
       "      <td>Oregon</td>\n",
       "      <td>22332.439460</td>\n",
       "      <td>Yes</td>\n",
       "      <td>Extended</td>\n",
       "      <td>College</td>\n",
       "      <td>Employed</td>\n",
       "      <td>M</td>\n",
       "      <td>49078</td>\n",
       "      <td>Suburban</td>\n",
       "      <td>...</td>\n",
       "      <td>2</td>\n",
       "      <td>Corporate Auto</td>\n",
       "      <td>Corporate L3</td>\n",
       "      <td>Offer2</td>\n",
       "      <td>Branch</td>\n",
       "      <td>484.013411</td>\n",
       "      <td>Four-Door Car</td>\n",
       "      <td>Medsize</td>\n",
       "      <td>A</td>\n",
       "      <td>January</td>\n",
       "    </tr>\n",
       "    <tr>\n",
       "      <th>10</th>\n",
       "      <td>HG93801</td>\n",
       "      <td>Arizona</td>\n",
       "      <td>5154.764074</td>\n",
       "      <td>No</td>\n",
       "      <td>Extended</td>\n",
       "      <td>High School or Below</td>\n",
       "      <td>Employed</td>\n",
       "      <td>M</td>\n",
       "      <td>82730</td>\n",
       "      <td>Urban</td>\n",
       "      <td>...</td>\n",
       "      <td>1</td>\n",
       "      <td>Corporate Auto</td>\n",
       "      <td>Corporate L3</td>\n",
       "      <td>Offer2</td>\n",
       "      <td>Branch</td>\n",
       "      <td>442.521087</td>\n",
       "      <td>SUV</td>\n",
       "      <td>Large</td>\n",
       "      <td>A</td>\n",
       "      <td>January</td>\n",
       "    </tr>\n",
       "    <tr>\n",
       "      <th>13</th>\n",
       "      <td>KR82385</td>\n",
       "      <td>California</td>\n",
       "      <td>5454.587929</td>\n",
       "      <td>No</td>\n",
       "      <td>Basic</td>\n",
       "      <td>Master</td>\n",
       "      <td>Employed</td>\n",
       "      <td>M</td>\n",
       "      <td>66334</td>\n",
       "      <td>Suburban</td>\n",
       "      <td>...</td>\n",
       "      <td>4</td>\n",
       "      <td>Personal Auto</td>\n",
       "      <td>Personal L3</td>\n",
       "      <td>Offer4</td>\n",
       "      <td>Call Center</td>\n",
       "      <td>331.200000</td>\n",
       "      <td>Two-Door Car</td>\n",
       "      <td>Medsize</td>\n",
       "      <td>A</td>\n",
       "      <td>January</td>\n",
       "    </tr>\n",
       "    <tr>\n",
       "      <th>16</th>\n",
       "      <td>FH51383</td>\n",
       "      <td>California</td>\n",
       "      <td>5326.677654</td>\n",
       "      <td>No</td>\n",
       "      <td>Basic</td>\n",
       "      <td>High School or Below</td>\n",
       "      <td>Employed</td>\n",
       "      <td>F</td>\n",
       "      <td>76717</td>\n",
       "      <td>Urban</td>\n",
       "      <td>...</td>\n",
       "      <td>6</td>\n",
       "      <td>Personal Auto</td>\n",
       "      <td>Personal L3</td>\n",
       "      <td>Offer4</td>\n",
       "      <td>Call Center</td>\n",
       "      <td>300.528579</td>\n",
       "      <td>Two-Door Car</td>\n",
       "      <td>Large</td>\n",
       "      <td>A</td>\n",
       "      <td>February</td>\n",
       "    </tr>\n",
       "  </tbody>\n",
       "</table>\n",
       "<p>5 rows × 25 columns</p>\n",
       "</div>"
      ],
      "text/plain": [
       "   customer       state  customer lifetime value response  coverage  \\\n",
       "2   LZ68649  Washington             14947.917300       No     Basic   \n",
       "3   XL78013      Oregon             22332.439460      Yes  Extended   \n",
       "10  HG93801     Arizona              5154.764074       No  Extended   \n",
       "13  KR82385  California              5454.587929       No     Basic   \n",
       "16  FH51383  California              5326.677654       No     Basic   \n",
       "\n",
       "               education employmentstatus gender  income location code  ...  \\\n",
       "2               Bachelor         Employed      M   22139      Suburban  ...   \n",
       "3                College         Employed      M   49078      Suburban  ...   \n",
       "10  High School or Below         Employed      M   82730         Urban  ...   \n",
       "13                Master         Employed      M   66334      Suburban  ...   \n",
       "16  High School or Below         Employed      F   76717         Urban  ...   \n",
       "\n",
       "   number of policies     policy type        policy  renew offer type  \\\n",
       "2                   2   Personal Auto   Personal L3            Offer3   \n",
       "3                   2  Corporate Auto  Corporate L3            Offer2   \n",
       "10                  1  Corporate Auto  Corporate L3            Offer2   \n",
       "13                  4   Personal Auto   Personal L3            Offer4   \n",
       "16                  6   Personal Auto   Personal L3            Offer4   \n",
       "\n",
       "    sales channel  total claim amount  vehicle class vehicle size  \\\n",
       "2     Call Center          480.000000            SUV      Medsize   \n",
       "3          Branch          484.013411  Four-Door Car      Medsize   \n",
       "10         Branch          442.521087            SUV        Large   \n",
       "13    Call Center          331.200000   Two-Door Car      Medsize   \n",
       "16    Call Center          300.528579   Two-Door Car        Large   \n",
       "\n",
       "   vehicle type    months  \n",
       "2             A  February  \n",
       "3             A   January  \n",
       "10            A   January  \n",
       "13            A   January  \n",
       "16            A  February  \n",
       "\n",
       "[5 rows x 25 columns]"
      ]
     },
     "metadata": {},
     "output_type": "display_data"
    }
   ],
   "source": [
    "display(mca_file.head())"
   ]
  },
  {
   "cell_type": "markdown",
   "id": "ed5a5a42",
   "metadata": {},
   "source": [
    "### EDA (Exploratory Data Analysis) - Complete the following tasks to explore the data:\n",
    "\n"
   ]
  },
  {
   "cell_type": "code",
   "execution_count": 3141,
   "id": "b5a784c6",
   "metadata": {},
   "outputs": [],
   "source": [
    "import matplotlib.pyplot as plt\n",
    "import seaborn as sns"
   ]
  },
  {
   "cell_type": "markdown",
   "id": "bab6b15b",
   "metadata": {},
   "source": [
    "#### 1 Show DataFrame info."
   ]
  },
  {
   "cell_type": "code",
   "execution_count": 3142,
   "id": "e5b13536",
   "metadata": {},
   "outputs": [
    {
     "data": {
      "text/plain": [
       "(4543, 25)"
      ]
     },
     "execution_count": 3142,
     "metadata": {},
     "output_type": "execute_result"
    }
   ],
   "source": [
    "mca_file.shape"
   ]
  },
  {
   "cell_type": "markdown",
   "id": "c511dc47",
   "metadata": {},
   "source": [
    "#### 2 Describe DataFrame."
   ]
  },
  {
   "cell_type": "code",
   "execution_count": 3143,
   "id": "6672b83b",
   "metadata": {},
   "outputs": [
    {
     "name": "stderr",
     "output_type": "stream",
     "text": [
      "/Users/albertlleidaestival/opt/anaconda3/lib/python3.9/site-packages/IPython/core/displayhook.py:275: UserWarning: Output cache limit (currently 1000 entries) hit.\n",
      "Flushing oldest 200 entries.\n",
      "  warn('Output cache limit (currently {sz} entries) hit.\\n'\n"
     ]
    },
    {
     "data": {
      "text/html": [
       "<div>\n",
       "<style scoped>\n",
       "    .dataframe tbody tr th:only-of-type {\n",
       "        vertical-align: middle;\n",
       "    }\n",
       "\n",
       "    .dataframe tbody tr th {\n",
       "        vertical-align: top;\n",
       "    }\n",
       "\n",
       "    .dataframe thead th {\n",
       "        text-align: right;\n",
       "    }\n",
       "</style>\n",
       "<table border=\"1\" class=\"dataframe\">\n",
       "  <thead>\n",
       "    <tr style=\"text-align: right;\">\n",
       "      <th></th>\n",
       "      <th>count</th>\n",
       "      <th>mean</th>\n",
       "      <th>std</th>\n",
       "      <th>min</th>\n",
       "      <th>25%</th>\n",
       "      <th>50%</th>\n",
       "      <th>75%</th>\n",
       "      <th>max</th>\n",
       "    </tr>\n",
       "  </thead>\n",
       "  <tbody>\n",
       "    <tr>\n",
       "      <th>customer lifetime value</th>\n",
       "      <td>4543.0</td>\n",
       "      <td>8033.714059</td>\n",
       "      <td>6959.529443</td>\n",
       "      <td>1904.000852</td>\n",
       "      <td>4039.089902</td>\n",
       "      <td>5846.520588</td>\n",
       "      <td>8936.596938</td>\n",
       "      <td>83325.381190</td>\n",
       "    </tr>\n",
       "    <tr>\n",
       "      <th>income</th>\n",
       "      <td>4543.0</td>\n",
       "      <td>37453.033238</td>\n",
       "      <td>30257.399536</td>\n",
       "      <td>0.000000</td>\n",
       "      <td>0.000000</td>\n",
       "      <td>34455.000000</td>\n",
       "      <td>61560.000000</td>\n",
       "      <td>99961.000000</td>\n",
       "    </tr>\n",
       "    <tr>\n",
       "      <th>monthly premium auto</th>\n",
       "      <td>4543.0</td>\n",
       "      <td>93.773278</td>\n",
       "      <td>35.093661</td>\n",
       "      <td>61.000000</td>\n",
       "      <td>69.000000</td>\n",
       "      <td>83.000000</td>\n",
       "      <td>110.000000</td>\n",
       "      <td>298.000000</td>\n",
       "    </tr>\n",
       "    <tr>\n",
       "      <th>months since last claim</th>\n",
       "      <td>4543.0</td>\n",
       "      <td>15.111820</td>\n",
       "      <td>10.157925</td>\n",
       "      <td>0.000000</td>\n",
       "      <td>6.000000</td>\n",
       "      <td>14.000000</td>\n",
       "      <td>23.000000</td>\n",
       "      <td>35.000000</td>\n",
       "    </tr>\n",
       "    <tr>\n",
       "      <th>months since policy inception</th>\n",
       "      <td>4543.0</td>\n",
       "      <td>48.153863</td>\n",
       "      <td>28.146904</td>\n",
       "      <td>0.000000</td>\n",
       "      <td>24.000000</td>\n",
       "      <td>47.000000</td>\n",
       "      <td>72.000000</td>\n",
       "      <td>99.000000</td>\n",
       "    </tr>\n",
       "    <tr>\n",
       "      <th>number of open complaints</th>\n",
       "      <td>4543.0</td>\n",
       "      <td>0.386309</td>\n",
       "      <td>0.907553</td>\n",
       "      <td>0.000000</td>\n",
       "      <td>0.000000</td>\n",
       "      <td>0.000000</td>\n",
       "      <td>0.000000</td>\n",
       "      <td>5.000000</td>\n",
       "    </tr>\n",
       "    <tr>\n",
       "      <th>number of policies</th>\n",
       "      <td>4543.0</td>\n",
       "      <td>2.980189</td>\n",
       "      <td>2.390362</td>\n",
       "      <td>1.000000</td>\n",
       "      <td>1.000000</td>\n",
       "      <td>2.000000</td>\n",
       "      <td>4.000000</td>\n",
       "      <td>9.000000</td>\n",
       "    </tr>\n",
       "    <tr>\n",
       "      <th>total claim amount</th>\n",
       "      <td>4543.0</td>\n",
       "      <td>436.477525</td>\n",
       "      <td>295.026990</td>\n",
       "      <td>0.099007</td>\n",
       "      <td>265.686145</td>\n",
       "      <td>384.000000</td>\n",
       "      <td>552.000000</td>\n",
       "      <td>2893.239678</td>\n",
       "    </tr>\n",
       "  </tbody>\n",
       "</table>\n",
       "</div>"
      ],
      "text/plain": [
       "                                count          mean           std  \\\n",
       "customer lifetime value        4543.0   8033.714059   6959.529443   \n",
       "income                         4543.0  37453.033238  30257.399536   \n",
       "monthly premium auto           4543.0     93.773278     35.093661   \n",
       "months since last claim        4543.0     15.111820     10.157925   \n",
       "months since policy inception  4543.0     48.153863     28.146904   \n",
       "number of open complaints      4543.0      0.386309      0.907553   \n",
       "number of policies             4543.0      2.980189      2.390362   \n",
       "total claim amount             4543.0    436.477525    295.026990   \n",
       "\n",
       "                                       min          25%           50%  \\\n",
       "customer lifetime value        1904.000852  4039.089902   5846.520588   \n",
       "income                            0.000000     0.000000  34455.000000   \n",
       "monthly premium auto             61.000000    69.000000     83.000000   \n",
       "months since last claim           0.000000     6.000000     14.000000   \n",
       "months since policy inception     0.000000    24.000000     47.000000   \n",
       "number of open complaints         0.000000     0.000000      0.000000   \n",
       "number of policies                1.000000     1.000000      2.000000   \n",
       "total claim amount                0.099007   265.686145    384.000000   \n",
       "\n",
       "                                        75%           max  \n",
       "customer lifetime value         8936.596938  83325.381190  \n",
       "income                         61560.000000  99961.000000  \n",
       "monthly premium auto             110.000000    298.000000  \n",
       "months since last claim           23.000000     35.000000  \n",
       "months since policy inception     72.000000     99.000000  \n",
       "number of open complaints          0.000000      5.000000  \n",
       "number of policies                 4.000000      9.000000  \n",
       "total claim amount               552.000000   2893.239678  "
      ]
     },
     "execution_count": 3143,
     "metadata": {},
     "output_type": "execute_result"
    }
   ],
   "source": [
    "mca_file.describe().T"
   ]
  },
  {
   "cell_type": "markdown",
   "id": "63f18575",
   "metadata": {},
   "source": [
    "#### 3 Show a plot of the total number of responses."
   ]
  },
  {
   "cell_type": "code",
   "execution_count": 3144,
   "id": "cb81109b",
   "metadata": {},
   "outputs": [
    {
     "data": {
      "text/plain": [
       "<AxesSubplot:>"
      ]
     },
     "execution_count": 3144,
     "metadata": {},
     "output_type": "execute_result"
    },
    {
     "data": {
      "image/png": "[encoded data removed]",
      "text/plain": [
       "<Figure size 640x480 with 1 Axes>"
      ]
     },
     "metadata": {},
     "output_type": "display_data"
    }
   ],
   "source": [
    "mca_file['response'].value_counts().plot(kind='bar')"
   ]
  },
  {
   "cell_type": "code",
   "execution_count": 3145,
   "id": "fe4f7a20",
   "metadata": {},
   "outputs": [
    {
     "data": {
      "image/png": "[encoded data removed]",
      "text/plain": [
       "<Figure size 640x480 with 1 Axes>"
      ]
     },
     "metadata": {},
     "output_type": "display_data"
    }
   ],
   "source": [
    "# Checking % of responses ('Yes' or 'No')\n",
    "val_count_resp = mca_file['response'].value_counts()\n",
    "categ_responses = mca_file['response'].unique()\n",
    "\n",
    "plt.pie(val_count_resp, labels=categ_responses, autopct='%d%%')\n",
    "plt.axis('equal')\n",
    "plt.show()"
   ]
  },
  {
   "cell_type": "markdown",
   "id": "f44d715c",
   "metadata": {},
   "source": [
    "#### 4 Show a plot of the response rate by the sales channel.\n"
   ]
  },
  {
   "cell_type": "code",
   "execution_count": 3146,
   "id": "1cb8c7bb",
   "metadata": {},
   "outputs": [
    {
     "data": {
      "text/plain": [
       "array([0, 1])"
      ]
     },
     "execution_count": 3146,
     "metadata": {},
     "output_type": "execute_result"
    }
   ],
   "source": [
    "#Generating 'response rate' column and value\n",
    "mca_file['response rate'] = np.where(mca_file['response'] == \"Yes\", 1, 0)\n",
    "\n",
    "#checking\n",
    "mca_file['response rate'].unique()"
   ]
  },
  {
   "cell_type": "code",
   "execution_count": 3147,
   "id": "664ba32f",
   "metadata": {},
   "outputs": [
    {
     "data": {
      "image/png": "[encoded data removed]",
      "text/plain": [
       "<Figure size 640x480 with 1 Axes>"
      ]
     },
     "metadata": {},
     "output_type": "display_data"
    }
   ],
   "source": [
    "#Plotting\n",
    "\n",
    "sns.barplot(x =\"sales channel\",y = \"response rate\", data = mca_file)\n",
    "plt.show()"
   ]
  },
  {
   "cell_type": "code",
   "execution_count": 3148,
   "id": "0f11b709",
   "metadata": {},
   "outputs": [
    {
     "data": {
      "text/html": [
       "<div>\n",
       "<style scoped>\n",
       "    .dataframe tbody tr th:only-of-type {\n",
       "        vertical-align: middle;\n",
       "    }\n",
       "\n",
       "    .dataframe tbody tr th {\n",
       "        vertical-align: top;\n",
       "    }\n",
       "\n",
       "    .dataframe thead th {\n",
       "        text-align: right;\n",
       "    }\n",
       "</style>\n",
       "<table border=\"1\" class=\"dataframe\">\n",
       "  <thead>\n",
       "    <tr style=\"text-align: right;\">\n",
       "      <th></th>\n",
       "      <th>customer</th>\n",
       "      <th>state</th>\n",
       "      <th>customer lifetime value</th>\n",
       "      <th>response</th>\n",
       "      <th>coverage</th>\n",
       "      <th>education</th>\n",
       "      <th>employmentstatus</th>\n",
       "      <th>gender</th>\n",
       "      <th>income</th>\n",
       "      <th>location code</th>\n",
       "      <th>...</th>\n",
       "      <th>policy type</th>\n",
       "      <th>policy</th>\n",
       "      <th>renew offer type</th>\n",
       "      <th>sales channel</th>\n",
       "      <th>total claim amount</th>\n",
       "      <th>vehicle class</th>\n",
       "      <th>vehicle size</th>\n",
       "      <th>vehicle type</th>\n",
       "      <th>months</th>\n",
       "      <th>response rate</th>\n",
       "    </tr>\n",
       "  </thead>\n",
       "  <tbody>\n",
       "    <tr>\n",
       "      <th>2</th>\n",
       "      <td>LZ68649</td>\n",
       "      <td>Washington</td>\n",
       "      <td>14947.917300</td>\n",
       "      <td>No</td>\n",
       "      <td>Basic</td>\n",
       "      <td>Bachelor</td>\n",
       "      <td>Employed</td>\n",
       "      <td>M</td>\n",
       "      <td>22139</td>\n",
       "      <td>Suburban</td>\n",
       "      <td>...</td>\n",
       "      <td>Personal Auto</td>\n",
       "      <td>Personal L3</td>\n",
       "      <td>Offer3</td>\n",
       "      <td>Call Center</td>\n",
       "      <td>480.000000</td>\n",
       "      <td>SUV</td>\n",
       "      <td>Medsize</td>\n",
       "      <td>A</td>\n",
       "      <td>February</td>\n",
       "      <td>0</td>\n",
       "    </tr>\n",
       "    <tr>\n",
       "      <th>3</th>\n",
       "      <td>XL78013</td>\n",
       "      <td>Oregon</td>\n",
       "      <td>22332.439460</td>\n",
       "      <td>Yes</td>\n",
       "      <td>Extended</td>\n",
       "      <td>College</td>\n",
       "      <td>Employed</td>\n",
       "      <td>M</td>\n",
       "      <td>49078</td>\n",
       "      <td>Suburban</td>\n",
       "      <td>...</td>\n",
       "      <td>Corporate Auto</td>\n",
       "      <td>Corporate L3</td>\n",
       "      <td>Offer2</td>\n",
       "      <td>Branch</td>\n",
       "      <td>484.013411</td>\n",
       "      <td>Four-Door Car</td>\n",
       "      <td>Medsize</td>\n",
       "      <td>A</td>\n",
       "      <td>January</td>\n",
       "      <td>1</td>\n",
       "    </tr>\n",
       "    <tr>\n",
       "      <th>10</th>\n",
       "      <td>HG93801</td>\n",
       "      <td>Arizona</td>\n",
       "      <td>5154.764074</td>\n",
       "      <td>No</td>\n",
       "      <td>Extended</td>\n",
       "      <td>High School or Below</td>\n",
       "      <td>Employed</td>\n",
       "      <td>M</td>\n",
       "      <td>82730</td>\n",
       "      <td>Urban</td>\n",
       "      <td>...</td>\n",
       "      <td>Corporate Auto</td>\n",
       "      <td>Corporate L3</td>\n",
       "      <td>Offer2</td>\n",
       "      <td>Branch</td>\n",
       "      <td>442.521087</td>\n",
       "      <td>SUV</td>\n",
       "      <td>Large</td>\n",
       "      <td>A</td>\n",
       "      <td>January</td>\n",
       "      <td>0</td>\n",
       "    </tr>\n",
       "  </tbody>\n",
       "</table>\n",
       "<p>3 rows × 26 columns</p>\n",
       "</div>"
      ],
      "text/plain": [
       "   customer       state  customer lifetime value response  coverage  \\\n",
       "2   LZ68649  Washington             14947.917300       No     Basic   \n",
       "3   XL78013      Oregon             22332.439460      Yes  Extended   \n",
       "10  HG93801     Arizona              5154.764074       No  Extended   \n",
       "\n",
       "               education employmentstatus gender  income location code  ...  \\\n",
       "2               Bachelor         Employed      M   22139      Suburban  ...   \n",
       "3                College         Employed      M   49078      Suburban  ...   \n",
       "10  High School or Below         Employed      M   82730         Urban  ...   \n",
       "\n",
       "       policy type        policy  renew offer type  sales channel  \\\n",
       "2    Personal Auto   Personal L3            Offer3    Call Center   \n",
       "3   Corporate Auto  Corporate L3            Offer2         Branch   \n",
       "10  Corporate Auto  Corporate L3            Offer2         Branch   \n",
       "\n",
       "    total claim amount  vehicle class vehicle size vehicle type    months  \\\n",
       "2           480.000000            SUV      Medsize            A  February   \n",
       "3           484.013411  Four-Door Car      Medsize            A   January   \n",
       "10          442.521087            SUV        Large            A   January   \n",
       "\n",
       "   response rate  \n",
       "2              0  \n",
       "3              1  \n",
       "10             0  \n",
       "\n",
       "[3 rows x 26 columns]"
      ]
     },
     "execution_count": 3148,
     "metadata": {},
     "output_type": "execute_result"
    }
   ],
   "source": [
    "mca_file.head(3)"
   ]
  },
  {
   "cell_type": "markdown",
   "id": "5b91b0c6",
   "metadata": {},
   "source": [
    "#### 6. Show a plot of the response rate by the total claim amount."
   ]
  },
  {
   "cell_type": "code",
   "execution_count": 3149,
   "id": "46888022",
   "metadata": {},
   "outputs": [
    {
     "data": {
      "text/plain": [
       "count    4543.000000\n",
       "mean      436.477525\n",
       "std       295.026990\n",
       "min         0.099007\n",
       "25%       265.686145\n",
       "50%       384.000000\n",
       "75%       552.000000\n",
       "max      2893.239678\n",
       "Name: total claim amount, dtype: float64"
      ]
     },
     "execution_count": 3149,
     "metadata": {},
     "output_type": "execute_result"
    }
   ],
   "source": [
    "# Getting information in order to establish bins.\n",
    "mca_file['total claim amount'].describe()"
   ]
  },
  {
   "cell_type": "code",
   "execution_count": 3150,
   "id": "fdcbd039",
   "metadata": {},
   "outputs": [
    {
     "data": {
      "text/plain": [
       "<AxesSubplot:ylabel='Frequency'>"
      ]
     },
     "execution_count": 3150,
     "metadata": {},
     "output_type": "execute_result"
    },
    {
     "data": {
      "image/png": "[encoded data removed]",
      "text/plain": [
       "<Figure size 640x480 with 1 Axes>"
      ]
     },
     "metadata": {},
     "output_type": "display_data"
    }
   ],
   "source": [
    "# Getting data distribution\n",
    "mca_file['total claim amount'].plot(kind='hist')"
   ]
  },
  {
   "cell_type": "code",
   "execution_count": 3151,
   "id": "a2d9bad7",
   "metadata": {
    "scrolled": false
   },
   "outputs": [
    {
     "data": {
      "text/html": [
       "<div>\n",
       "<style scoped>\n",
       "    .dataframe tbody tr th:only-of-type {\n",
       "        vertical-align: middle;\n",
       "    }\n",
       "\n",
       "    .dataframe tbody tr th {\n",
       "        vertical-align: top;\n",
       "    }\n",
       "\n",
       "    .dataframe thead th {\n",
       "        text-align: right;\n",
       "    }\n",
       "</style>\n",
       "<table border=\"1\" class=\"dataframe\">\n",
       "  <thead>\n",
       "    <tr style=\"text-align: right;\">\n",
       "      <th></th>\n",
       "      <th>total claim amount</th>\n",
       "      <th>total claim range</th>\n",
       "    </tr>\n",
       "  </thead>\n",
       "  <tbody>\n",
       "    <tr>\n",
       "      <th>2</th>\n",
       "      <td>480.000000</td>\n",
       "      <td>250-500</td>\n",
       "    </tr>\n",
       "    <tr>\n",
       "      <th>3</th>\n",
       "      <td>484.013411</td>\n",
       "      <td>250-500</td>\n",
       "    </tr>\n",
       "    <tr>\n",
       "      <th>10</th>\n",
       "      <td>442.521087</td>\n",
       "      <td>250-500</td>\n",
       "    </tr>\n",
       "    <tr>\n",
       "      <th>13</th>\n",
       "      <td>331.200000</td>\n",
       "      <td>250-500</td>\n",
       "    </tr>\n",
       "    <tr>\n",
       "      <th>16</th>\n",
       "      <td>300.528579</td>\n",
       "      <td>250-500</td>\n",
       "    </tr>\n",
       "    <tr>\n",
       "      <th>17</th>\n",
       "      <td>272.381465</td>\n",
       "      <td>250-500</td>\n",
       "    </tr>\n",
       "    <tr>\n",
       "      <th>18</th>\n",
       "      <td>350.400000</td>\n",
       "      <td>250-500</td>\n",
       "    </tr>\n",
       "    <tr>\n",
       "      <th>19</th>\n",
       "      <td>19.575683</td>\n",
       "      <td>0-250</td>\n",
       "    </tr>\n",
       "    <tr>\n",
       "      <th>20</th>\n",
       "      <td>499.200000</td>\n",
       "      <td>250-500</td>\n",
       "    </tr>\n",
       "    <tr>\n",
       "      <th>22</th>\n",
       "      <td>907.200000</td>\n",
       "      <td>750-1000</td>\n",
       "    </tr>\n",
       "  </tbody>\n",
       "</table>\n",
       "</div>"
      ],
      "text/plain": [
       "    total claim amount total claim range\n",
       "2           480.000000           250-500\n",
       "3           484.013411           250-500\n",
       "10          442.521087           250-500\n",
       "13          331.200000           250-500\n",
       "16          300.528579           250-500\n",
       "17          272.381465           250-500\n",
       "18          350.400000           250-500\n",
       "19           19.575683             0-250\n",
       "20          499.200000           250-500\n",
       "22          907.200000          750-1000"
      ]
     },
     "metadata": {},
     "output_type": "display_data"
    }
   ],
   "source": [
    "# Division names \n",
    "claim_divisions = ['0-250', '250-500','500-750','750-1000','>1000']\n",
    "\n",
    "# Creating group division\n",
    "g1 = pd.cut(mca_file['total claim amount'], labels = claim_divisions, bins=[0,250,500,750,1000,3000])\n",
    "\n",
    "# Creating new column in dataframe\n",
    "mca_file['total claim range'] = g1\n",
    "\n",
    "display(mca_file[['total claim amount', 'total claim range']].head(10))"
   ]
  },
  {
   "cell_type": "code",
   "execution_count": 3152,
   "id": "88b052ab",
   "metadata": {},
   "outputs": [
    {
     "data": {
      "text/plain": [
       "count        4543\n",
       "unique          5\n",
       "top       250-500\n",
       "freq         1988\n",
       "Name: total claim range, dtype: object"
      ]
     },
     "execution_count": 3152,
     "metadata": {},
     "output_type": "execute_result"
    }
   ],
   "source": [
    "mca_file['total claim range'].describe()"
   ]
  },
  {
   "cell_type": "code",
   "execution_count": 3153,
   "id": "278cabe9",
   "metadata": {},
   "outputs": [
    {
     "data": {
      "text/plain": [
       "250-500     1988\n",
       "0-250       1072\n",
       "500-750      955\n",
       "750-1000     323\n",
       ">1000        205\n",
       "Name: total claim amount, dtype: int64"
      ]
     },
     "metadata": {},
     "output_type": "display_data"
    }
   ],
   "source": [
    "# Counting for groups \n",
    "display(g1.value_counts())"
   ]
  },
  {
   "cell_type": "code",
   "execution_count": 3154,
   "id": "4db46c0f",
   "metadata": {},
   "outputs": [
    {
     "data": {
      "text/plain": [
       "<AxesSubplot:xlabel='total claim range', ylabel='response rate'>"
      ]
     },
     "execution_count": 3154,
     "metadata": {},
     "output_type": "execute_result"
    },
    {
     "data": {
      "image/png": "[encoded data removed]",
      "text/plain": [
       "<Figure size 640x480 with 1 Axes>"
      ]
     },
     "metadata": {},
     "output_type": "display_data"
    }
   ],
   "source": [
    "sns.barplot(x='total claim range', y = 'response rate', data = mca_file) #didn't work as expected"
   ]
  },
  {
   "cell_type": "markdown",
   "id": "7cfd1bb6",
   "metadata": {},
   "source": [
    "#### 7 Show a plot of the response rate by income."
   ]
  },
  {
   "cell_type": "code",
   "execution_count": 3155,
   "id": "c63bbeb0",
   "metadata": {},
   "outputs": [
    {
     "data": {
      "text/plain": [
       "count     4543.000000\n",
       "mean     37453.033238\n",
       "std      30257.399536\n",
       "min          0.000000\n",
       "25%          0.000000\n",
       "50%      34455.000000\n",
       "75%      61560.000000\n",
       "max      99961.000000\n",
       "Name: income, dtype: float64"
      ]
     },
     "execution_count": 3155,
     "metadata": {},
     "output_type": "execute_result"
    }
   ],
   "source": [
    "# Getting information in order to establish bins.\n",
    "mca_file['income'].describe()"
   ]
  },
  {
   "cell_type": "code",
   "execution_count": 3156,
   "id": "13bfcddc",
   "metadata": {},
   "outputs": [
    {
     "data": {
      "text/plain": [
       "<AxesSubplot:ylabel='Frequency'>"
      ]
     },
     "execution_count": 3156,
     "metadata": {},
     "output_type": "execute_result"
    },
    {
     "data": {
      "image/png": "[encoded data removed]",
      "text/plain": [
       "<Figure size 640x480 with 1 Axes>"
      ]
     },
     "metadata": {},
     "output_type": "display_data"
    }
   ],
   "source": [
    "# Getting data distribution\n",
    "mca_file['income'].plot(kind='hist')"
   ]
  },
  {
   "cell_type": "code",
   "execution_count": 3157,
   "id": "14a7c435",
   "metadata": {},
   "outputs": [
    {
     "data": {
      "text/html": [
       "<div>\n",
       "<style scoped>\n",
       "    .dataframe tbody tr th:only-of-type {\n",
       "        vertical-align: middle;\n",
       "    }\n",
       "\n",
       "    .dataframe tbody tr th {\n",
       "        vertical-align: top;\n",
       "    }\n",
       "\n",
       "    .dataframe thead th {\n",
       "        text-align: right;\n",
       "    }\n",
       "</style>\n",
       "<table border=\"1\" class=\"dataframe\">\n",
       "  <thead>\n",
       "    <tr style=\"text-align: right;\">\n",
       "      <th></th>\n",
       "      <th>income</th>\n",
       "      <th>income range</th>\n",
       "    </tr>\n",
       "  </thead>\n",
       "  <tbody>\n",
       "    <tr>\n",
       "      <th>2</th>\n",
       "      <td>22139</td>\n",
       "      <td>0-20000</td>\n",
       "    </tr>\n",
       "    <tr>\n",
       "      <th>3</th>\n",
       "      <td>49078</td>\n",
       "      <td>20000-40000</td>\n",
       "    </tr>\n",
       "    <tr>\n",
       "      <th>10</th>\n",
       "      <td>82730</td>\n",
       "      <td>&gt;80000</td>\n",
       "    </tr>\n",
       "    <tr>\n",
       "      <th>13</th>\n",
       "      <td>66334</td>\n",
       "      <td>60000-80000</td>\n",
       "    </tr>\n",
       "    <tr>\n",
       "      <th>16</th>\n",
       "      <td>76717</td>\n",
       "      <td>&gt;80000</td>\n",
       "    </tr>\n",
       "    <tr>\n",
       "      <th>17</th>\n",
       "      <td>0</td>\n",
       "      <td>0-20000</td>\n",
       "    </tr>\n",
       "    <tr>\n",
       "      <th>18</th>\n",
       "      <td>17533</td>\n",
       "      <td>0-20000</td>\n",
       "    </tr>\n",
       "    <tr>\n",
       "      <th>19</th>\n",
       "      <td>41479</td>\n",
       "      <td>20000-40000</td>\n",
       "    </tr>\n",
       "    <tr>\n",
       "      <th>20</th>\n",
       "      <td>0</td>\n",
       "      <td>0-20000</td>\n",
       "    </tr>\n",
       "    <tr>\n",
       "      <th>22</th>\n",
       "      <td>59456</td>\n",
       "      <td>60000-80000</td>\n",
       "    </tr>\n",
       "  </tbody>\n",
       "</table>\n",
       "</div>"
      ],
      "text/plain": [
       "    income income range\n",
       "2    22139      0-20000\n",
       "3    49078  20000-40000\n",
       "10   82730       >80000\n",
       "13   66334  60000-80000\n",
       "16   76717       >80000\n",
       "17       0      0-20000\n",
       "18   17533      0-20000\n",
       "19   41479  20000-40000\n",
       "20       0      0-20000\n",
       "22   59456  60000-80000"
      ]
     },
     "metadata": {},
     "output_type": "display_data"
    }
   ],
   "source": [
    "# Division names \n",
    "income_divisions = ['0-20000', '20000-40000','60000-80000','>80000']\n",
    "\n",
    "# Creating group division\n",
    "g2 = pd.cut(mca_file['income'], labels = income_divisions, bins=4)\n",
    "\n",
    "# Creating new column in dataframe\n",
    "mca_file['income range'] = g2\n",
    "\n",
    "display(mca_file[['income', 'income range']].head(10)) #"
   ]
  },
  {
   "cell_type": "code",
   "execution_count": 3158,
   "id": "62842b59",
   "metadata": {},
   "outputs": [
    {
     "data": {
      "text/plain": [
       "0-20000        1748\n",
       "20000-40000    1179\n",
       "60000-80000     961\n",
       ">80000          655\n",
       "Name: income, dtype: int64"
      ]
     },
     "metadata": {},
     "output_type": "display_data"
    }
   ],
   "source": [
    "# Counting for groups \n",
    "display(g2.value_counts())"
   ]
  },
  {
   "cell_type": "code",
   "execution_count": 3159,
   "id": "42a08e8a",
   "metadata": {},
   "outputs": [
    {
     "data": {
      "text/plain": [
       "<AxesSubplot:xlabel='income range', ylabel='response rate'>"
      ]
     },
     "execution_count": 3159,
     "metadata": {},
     "output_type": "execute_result"
    },
    {
     "data": {
      "image/png": "[encoded data removed]",
      "text/plain": [
       "<Figure size 640x480 with 1 Axes>"
      ]
     },
     "metadata": {},
     "output_type": "display_data"
    }
   ],
   "source": [
    "sns.barplot(x='income range', y = 'response rate', data = mca_file)"
   ]
  },
  {
   "cell_type": "code",
   "execution_count": null,
   "id": "b820daa8",
   "metadata": {},
   "outputs": [],
   "source": []
  },
  {
   "cell_type": "markdown",
   "id": "cd4ec7cf",
   "metadata": {},
   "source": [
    "## Lab | Customer Analysis Round 4"
   ]
  },
  {
   "cell_type": "markdown",
   "id": "096dd3c6",
   "metadata": {},
   "source": [
    "### Get the data\n",
    "Use the jupyter file from the last lab (Customer Analysis Round 3)\n",
    "\n",
    "### Complete the following task\n",
    "\n",
    "1. Check the data types of the columns. Get the numeric data into dataframe called numerical and categorical columns in a dataframe called categoricals. (You can use np.number and np.object to select the numerical data types and categorical data types respectively)\n",
    "2. Now we will try to check the normality of the numerical variables visually\n",
    "3. Use seaborn library to construct distribution plots for the numerical variables\n",
    "    \n",
    "    3.1. Use Matplotlib to construct histograms\n",
    "    \n",
    "    3.2. Do the distributions for different numerical variables look like a normal distribution\n",
    "\n",
    "\n",
    "4. For the numerical variables, check the multicollinearity between the features. Please note that we will use the column total_claim_amount later as the target variable.\n",
    "    \n",
    "    4.1 Drop one of the two features that show a high correlation between them (greater than 0.9). Write code for both the correlation matrix and for seaborn heatmap. If there is no pair of features that have a high correlation, then do not drop any features\n"
   ]
  },
  {
   "cell_type": "markdown",
   "id": "3fc51967",
   "metadata": {},
   "source": [
    "#### 1.Check the data types of the columns."
   ]
  },
  {
   "cell_type": "code",
   "execution_count": 3160,
   "id": "4a75f77b",
   "metadata": {},
   "outputs": [
    {
     "data": {
      "text/plain": [
       "customer                           object\n",
       "state                              object\n",
       "customer lifetime value           float64\n",
       "response                           object\n",
       "coverage                           object\n",
       "education                          object\n",
       "employmentstatus                   object\n",
       "gender                             object\n",
       "income                              int64\n",
       "location code                      object\n",
       "marital status                     object\n",
       "monthly premium auto                int64\n",
       "months since last claim           float64\n",
       "months since policy inception       int64\n",
       "number of open complaints         float64\n",
       "number of policies                  int64\n",
       "policy type                        object\n",
       "policy                             object\n",
       "renew offer type                   object\n",
       "sales channel                      object\n",
       "total claim amount                float64\n",
       "vehicle class                      object\n",
       "vehicle size                       object\n",
       "vehicle type                       object\n",
       "months                             object\n",
       "response rate                       int64\n",
       "total claim range                category\n",
       "income range                     category\n",
       "dtype: object"
      ]
     },
     "execution_count": 3160,
     "metadata": {},
     "output_type": "execute_result"
    }
   ],
   "source": [
    "# Showing data types of each column\n",
    "mca_file.dtypes\n"
   ]
  },
  {
   "cell_type": "markdown",
   "id": "01274055",
   "metadata": {},
   "source": [
    "##### 1.1 Get the numeric data into dataframe called numerical and categorical columns in a dataframe called categoricals. (You can use np.number and np.object to select the numerical data types and categorical data types respectively)"
   ]
  },
  {
   "cell_type": "code",
   "execution_count": 3161,
   "id": "d838ad0b",
   "metadata": {},
   "outputs": [
    {
     "data": {
      "text/plain": [
       "Index(['customer lifetime value', 'income', 'monthly premium auto',\n",
       "       'months since last claim', 'months since policy inception',\n",
       "       'number of open complaints', 'number of policies', 'total claim amount',\n",
       "       'response rate'],\n",
       "      dtype='object')"
      ]
     },
     "execution_count": 3161,
     "metadata": {},
     "output_type": "execute_result"
    }
   ],
   "source": [
    "#Getting numerical data types\n",
    "numerical = mca_file.select_dtypes(include = np.number)\n",
    "numerical.columns"
   ]
  },
  {
   "cell_type": "code",
   "execution_count": 3162,
   "id": "90cae9ad",
   "metadata": {},
   "outputs": [
    {
     "data": {
      "text/plain": [
       "Index(['customer', 'state', 'response', 'coverage', 'education',\n",
       "       'employmentstatus', 'gender', 'location code', 'marital status',\n",
       "       'policy type', 'policy', 'renew offer type', 'sales channel',\n",
       "       'vehicle class', 'vehicle size', 'vehicle type', 'months'],\n",
       "      dtype='object')"
      ]
     },
     "execution_count": 3162,
     "metadata": {},
     "output_type": "execute_result"
    }
   ],
   "source": [
    "# Getting categorical objects\n",
    "categorical = mca_file.select_dtypes(include = 'object') #red warning --> using 'object' instead of np.object\n",
    "categorical.columns"
   ]
  },
  {
   "cell_type": "markdown",
   "id": "562d9122",
   "metadata": {},
   "source": [
    "#### 2.Now we will try to check the normality of the numerical variables visually"
   ]
  },
  {
   "cell_type": "markdown",
   "id": "e8ae9a87",
   "metadata": {},
   "source": [
    "##### 2.1.Use seaborn library to construct distribution plots for the numerical variables\n",
    "##### 2.2. Use Matplotlib to construct histograms\n",
    "##### 2.3. Do the distributions for different numerical variables look like a normal distribution\n"
   ]
  },
  {
   "cell_type": "code",
   "execution_count": 3163,
   "id": "97a8a2f7",
   "metadata": {},
   "outputs": [
    {
     "data": {
      "text/html": [
       "<div>\n",
       "<style scoped>\n",
       "    .dataframe tbody tr th:only-of-type {\n",
       "        vertical-align: middle;\n",
       "    }\n",
       "\n",
       "    .dataframe tbody tr th {\n",
       "        vertical-align: top;\n",
       "    }\n",
       "\n",
       "    .dataframe thead th {\n",
       "        text-align: right;\n",
       "    }\n",
       "</style>\n",
       "<table border=\"1\" class=\"dataframe\">\n",
       "  <thead>\n",
       "    <tr style=\"text-align: right;\">\n",
       "      <th></th>\n",
       "      <th>count</th>\n",
       "      <th>mean</th>\n",
       "      <th>std</th>\n",
       "      <th>min</th>\n",
       "      <th>25%</th>\n",
       "      <th>50%</th>\n",
       "      <th>75%</th>\n",
       "      <th>max</th>\n",
       "    </tr>\n",
       "  </thead>\n",
       "  <tbody>\n",
       "    <tr>\n",
       "      <th>customer lifetime value</th>\n",
       "      <td>4543.0</td>\n",
       "      <td>8033.714059</td>\n",
       "      <td>6959.529443</td>\n",
       "      <td>1904.000852</td>\n",
       "      <td>4039.089902</td>\n",
       "      <td>5846.520588</td>\n",
       "      <td>8936.596938</td>\n",
       "      <td>83325.381190</td>\n",
       "    </tr>\n",
       "    <tr>\n",
       "      <th>income</th>\n",
       "      <td>4543.0</td>\n",
       "      <td>37453.033238</td>\n",
       "      <td>30257.399536</td>\n",
       "      <td>0.000000</td>\n",
       "      <td>0.000000</td>\n",
       "      <td>34455.000000</td>\n",
       "      <td>61560.000000</td>\n",
       "      <td>99961.000000</td>\n",
       "    </tr>\n",
       "    <tr>\n",
       "      <th>monthly premium auto</th>\n",
       "      <td>4543.0</td>\n",
       "      <td>93.773278</td>\n",
       "      <td>35.093661</td>\n",
       "      <td>61.000000</td>\n",
       "      <td>69.000000</td>\n",
       "      <td>83.000000</td>\n",
       "      <td>110.000000</td>\n",
       "      <td>298.000000</td>\n",
       "    </tr>\n",
       "    <tr>\n",
       "      <th>months since last claim</th>\n",
       "      <td>4543.0</td>\n",
       "      <td>15.111820</td>\n",
       "      <td>10.157925</td>\n",
       "      <td>0.000000</td>\n",
       "      <td>6.000000</td>\n",
       "      <td>14.000000</td>\n",
       "      <td>23.000000</td>\n",
       "      <td>35.000000</td>\n",
       "    </tr>\n",
       "    <tr>\n",
       "      <th>months since policy inception</th>\n",
       "      <td>4543.0</td>\n",
       "      <td>48.153863</td>\n",
       "      <td>28.146904</td>\n",
       "      <td>0.000000</td>\n",
       "      <td>24.000000</td>\n",
       "      <td>47.000000</td>\n",
       "      <td>72.000000</td>\n",
       "      <td>99.000000</td>\n",
       "    </tr>\n",
       "    <tr>\n",
       "      <th>number of open complaints</th>\n",
       "      <td>4543.0</td>\n",
       "      <td>0.386309</td>\n",
       "      <td>0.907553</td>\n",
       "      <td>0.000000</td>\n",
       "      <td>0.000000</td>\n",
       "      <td>0.000000</td>\n",
       "      <td>0.000000</td>\n",
       "      <td>5.000000</td>\n",
       "    </tr>\n",
       "    <tr>\n",
       "      <th>number of policies</th>\n",
       "      <td>4543.0</td>\n",
       "      <td>2.980189</td>\n",
       "      <td>2.390362</td>\n",
       "      <td>1.000000</td>\n",
       "      <td>1.000000</td>\n",
       "      <td>2.000000</td>\n",
       "      <td>4.000000</td>\n",
       "      <td>9.000000</td>\n",
       "    </tr>\n",
       "    <tr>\n",
       "      <th>total claim amount</th>\n",
       "      <td>4543.0</td>\n",
       "      <td>436.477525</td>\n",
       "      <td>295.026990</td>\n",
       "      <td>0.099007</td>\n",
       "      <td>265.686145</td>\n",
       "      <td>384.000000</td>\n",
       "      <td>552.000000</td>\n",
       "      <td>2893.239678</td>\n",
       "    </tr>\n",
       "    <tr>\n",
       "      <th>response rate</th>\n",
       "      <td>4543.0</td>\n",
       "      <td>0.141096</td>\n",
       "      <td>0.348159</td>\n",
       "      <td>0.000000</td>\n",
       "      <td>0.000000</td>\n",
       "      <td>0.000000</td>\n",
       "      <td>0.000000</td>\n",
       "      <td>1.000000</td>\n",
       "    </tr>\n",
       "  </tbody>\n",
       "</table>\n",
       "</div>"
      ],
      "text/plain": [
       "                                count          mean           std  \\\n",
       "customer lifetime value        4543.0   8033.714059   6959.529443   \n",
       "income                         4543.0  37453.033238  30257.399536   \n",
       "monthly premium auto           4543.0     93.773278     35.093661   \n",
       "months since last claim        4543.0     15.111820     10.157925   \n",
       "months since policy inception  4543.0     48.153863     28.146904   \n",
       "number of open complaints      4543.0      0.386309      0.907553   \n",
       "number of policies             4543.0      2.980189      2.390362   \n",
       "total claim amount             4543.0    436.477525    295.026990   \n",
       "response rate                  4543.0      0.141096      0.348159   \n",
       "\n",
       "                                       min          25%           50%  \\\n",
       "customer lifetime value        1904.000852  4039.089902   5846.520588   \n",
       "income                            0.000000     0.000000  34455.000000   \n",
       "monthly premium auto             61.000000    69.000000     83.000000   \n",
       "months since last claim           0.000000     6.000000     14.000000   \n",
       "months since policy inception     0.000000    24.000000     47.000000   \n",
       "number of open complaints         0.000000     0.000000      0.000000   \n",
       "number of policies                1.000000     1.000000      2.000000   \n",
       "total claim amount                0.099007   265.686145    384.000000   \n",
       "response rate                     0.000000     0.000000      0.000000   \n",
       "\n",
       "                                        75%           max  \n",
       "customer lifetime value         8936.596938  83325.381190  \n",
       "income                         61560.000000  99961.000000  \n",
       "monthly premium auto             110.000000    298.000000  \n",
       "months since last claim           23.000000     35.000000  \n",
       "months since policy inception     72.000000     99.000000  \n",
       "number of open complaints          0.000000      5.000000  \n",
       "number of policies                 4.000000      9.000000  \n",
       "total claim amount               552.000000   2893.239678  \n",
       "response rate                      0.000000      1.000000  "
      ]
     },
     "execution_count": 3163,
     "metadata": {},
     "output_type": "execute_result"
    }
   ],
   "source": [
    "numerical.describe().T"
   ]
  },
  {
   "cell_type": "code",
   "execution_count": 3164,
   "id": "9e2ad676",
   "metadata": {},
   "outputs": [
    {
     "data": {
      "image/png": "[encoded data removed]",
      "text/plain": [
       "<Figure size 500x500 with 1 Axes>"
      ]
     },
     "metadata": {},
     "output_type": "display_data"
    },
    {
     "data": {
      "image/png": "[encoded data removed]",
      "text/plain": [
       "<Figure size 640x480 with 1 Axes>"
      ]
     },
     "metadata": {},
     "output_type": "display_data"
    }
   ],
   "source": [
    "sns.displot(numerical['customer lifetime value'])\n",
    "plt.show()\n",
    "\n",
    "plt.hist(numerical['customer lifetime value'])\n",
    "plt.show()\n"
   ]
  },
  {
   "cell_type": "markdown",
   "id": "023ff795",
   "metadata": {},
   "source": [
    "'Customer lifetime value' data is not normally distributed, as it's skewed to the right."
   ]
  },
  {
   "cell_type": "code",
   "execution_count": 3165,
   "id": "d5b4f149",
   "metadata": {},
   "outputs": [
    {
     "data": {
      "image/png": "[encoded data removed]",
      "text/plain": [
       "<Figure size 500x500 with 1 Axes>"
      ]
     },
     "metadata": {},
     "output_type": "display_data"
    },
    {
     "data": {
      "image/png": "[encoded data removed]",
      "text/plain": [
       "<Figure size 640x480 with 1 Axes>"
      ]
     },
     "metadata": {},
     "output_type": "display_data"
    }
   ],
   "source": [
    "sns.displot(numerical['income'])\n",
    "plt.show()\n",
    "\n",
    "plt.hist(numerical['income'])\n",
    "plt.show()"
   ]
  },
  {
   "cell_type": "markdown",
   "id": "d73a113e",
   "metadata": {},
   "source": [
    "'Income' data is not normally distributed"
   ]
  },
  {
   "cell_type": "code",
   "execution_count": 3166,
   "id": "52b845b9",
   "metadata": {
    "scrolled": true
   },
   "outputs": [
    {
     "data": {
      "image/png": "[encoded data removed]",
      "text/plain": [
       "<Figure size 500x500 with 1 Axes>"
      ]
     },
     "metadata": {},
     "output_type": "display_data"
    },
    {
     "data": {
      "image/png": "[encoded data removed]",
      "text/plain": [
       "<Figure size 640x480 with 1 Axes>"
      ]
     },
     "metadata": {},
     "output_type": "display_data"
    }
   ],
   "source": [
    "sns.displot(numerical['monthly premium auto'])\n",
    "plt.show()\n",
    "\n",
    "plt.hist(numerical['monthly premium auto'])\n",
    "plt.show()"
   ]
  },
  {
   "cell_type": "markdown",
   "id": "18873fa8",
   "metadata": {},
   "source": [
    "'Months premium auto' data is not normally distributed."
   ]
  },
  {
   "cell_type": "code",
   "execution_count": 3167,
   "id": "1d32cbfa",
   "metadata": {},
   "outputs": [
    {
     "data": {
      "image/png": "[encoded data removed]",
      "text/plain": [
       "<Figure size 500x500 with 1 Axes>"
      ]
     },
     "metadata": {},
     "output_type": "display_data"
    },
    {
     "data": {
      "image/png": "[encoded data removed]",
      "text/plain": [
       "<Figure size 640x480 with 1 Axes>"
      ]
     },
     "metadata": {},
     "output_type": "display_data"
    }
   ],
   "source": [
    "sns.displot(numerical['months since last claim'])\n",
    "plt.show()\n",
    "\n",
    "plt.hist(numerical['months since last claim'])\n",
    "plt.show()\n"
   ]
  },
  {
   "cell_type": "markdown",
   "id": "2ebffacb",
   "metadata": {},
   "source": [
    "'Months since last claim' data is not normally distributed."
   ]
  },
  {
   "cell_type": "code",
   "execution_count": 3168,
   "id": "0d62cc82",
   "metadata": {},
   "outputs": [
    {
     "data": {
      "image/png": "[encoded data removed]",
      "text/plain": [
       "<Figure size 500x500 with 1 Axes>"
      ]
     },
     "metadata": {},
     "output_type": "display_data"
    },
    {
     "data": {
      "image/png": "[encoded data removed]",
      "text/plain": [
       "<Figure size 640x480 with 1 Axes>"
      ]
     },
     "metadata": {},
     "output_type": "display_data"
    }
   ],
   "source": [
    "sns.displot(numerical['months since policy inception'])\n",
    "plt.show()\n",
    "\n",
    "plt.hist(numerical['months since policy inception'])\n",
    "plt.show()\n"
   ]
  },
  {
   "cell_type": "markdown",
   "id": "232b5881",
   "metadata": {},
   "source": [
    "'Months since policy inception' data is not normally distributed"
   ]
  },
  {
   "cell_type": "code",
   "execution_count": 3169,
   "id": "3c99125c",
   "metadata": {
    "scrolled": true
   },
   "outputs": [
    {
     "data": {
      "image/png": "[encoded data removed]",
      "text/plain": [
       "<Figure size 500x500 with 1 Axes>"
      ]
     },
     "metadata": {},
     "output_type": "display_data"
    },
    {
     "data": {
      "image/png": "[encoded data removed]",
      "text/plain": [
       "<Figure size 640x480 with 1 Axes>"
      ]
     },
     "metadata": {},
     "output_type": "display_data"
    }
   ],
   "source": [
    "sns.displot(numerical['number of open complaints'])\n",
    "plt.show()\n",
    "\n",
    "plt.hist(numerical['number of open complaints'])\n",
    "plt.show()\n"
   ]
  },
  {
   "cell_type": "markdown",
   "id": "6440326a",
   "metadata": {},
   "source": [
    "'Number of open complaints' data is not normally distributed"
   ]
  },
  {
   "cell_type": "code",
   "execution_count": 3170,
   "id": "1ffe78cb",
   "metadata": {},
   "outputs": [
    {
     "data": {
      "image/png": "[encoded data removed]",
      "text/plain": [
       "<Figure size 500x500 with 1 Axes>"
      ]
     },
     "metadata": {},
     "output_type": "display_data"
    },
    {
     "data": {
      "image/png": "[encoded data removed]",
      "text/plain": [
       "<Figure size 640x480 with 1 Axes>"
      ]
     },
     "metadata": {},
     "output_type": "display_data"
    }
   ],
   "source": [
    "sns.displot(numerical['number of policies'])\n",
    "plt.show()\n",
    "\n",
    "plt.hist(numerical['number of policies'])\n",
    "plt.show()\n"
   ]
  },
  {
   "cell_type": "markdown",
   "id": "9cc43481",
   "metadata": {},
   "source": [
    "'Number of policies' is not normally distributed."
   ]
  },
  {
   "cell_type": "code",
   "execution_count": 3171,
   "id": "3b5b7d2c",
   "metadata": {},
   "outputs": [
    {
     "data": {
      "image/png": "[encoded data removed]",
      "text/plain": [
       "<Figure size 500x500 with 1 Axes>"
      ]
     },
     "metadata": {},
     "output_type": "display_data"
    },
    {
     "data": {
      "image/png": "[encoded data removed]",
      "text/plain": [
       "<Figure size 640x480 with 1 Axes>"
      ]
     },
     "metadata": {},
     "output_type": "display_data"
    }
   ],
   "source": [
    "sns.displot(numerical['total claim amount'], bins = 25)\n",
    "plt.show()\n",
    "\n",
    "plt.hist(numerical['total claim amount'])\n",
    "plt.show()\n"
   ]
  },
  {
   "cell_type": "markdown",
   "id": "d0fbe568",
   "metadata": {},
   "source": [
    "'Total claim amount' data is not normally distributed."
   ]
  },
  {
   "cell_type": "code",
   "execution_count": 3172,
   "id": "c4ab93cd",
   "metadata": {},
   "outputs": [
    {
     "data": {
      "image/png": "[encoded data removed]",
      "text/plain": [
       "<Figure size 500x500 with 1 Axes>"
      ]
     },
     "metadata": {},
     "output_type": "display_data"
    },
    {
     "data": {
      "image/png": "[encoded data removed]",
      "text/plain": [
       "<Figure size 640x480 with 1 Axes>"
      ]
     },
     "metadata": {},
     "output_type": "display_data"
    }
   ],
   "source": [
    "sns.displot(numerical['response rate'])\n",
    "plt.show()\n",
    "\n",
    "plt.hist(numerical['response rate'])\n",
    "plt.show()\n"
   ]
  },
  {
   "cell_type": "markdown",
   "id": "c262579b",
   "metadata": {},
   "source": [
    "'Response rate' data is not normally distributed."
   ]
  },
  {
   "cell_type": "markdown",
   "id": "c14953f2",
   "metadata": {},
   "source": [
    "#### 4. For the numerical variables, check the multicollinearity between the features."
   ]
  },
  {
   "cell_type": "markdown",
   "id": "f8c00a77",
   "metadata": {},
   "source": [
    "##### Write code for both the correlation matrix and for seaborn heatmap.\n",
    "Drop one of the two features that show a high correlation between them (greater than 0.9).  If there is no pair of features that have a high correlation, then do not drop any features.\n",
    "\n",
    "Please note that we will use the column total_claim_amount later as the target variable."
   ]
  },
  {
   "cell_type": "code",
   "execution_count": 3173,
   "id": "d065a3b2",
   "metadata": {
    "scrolled": true
   },
   "outputs": [
    {
     "data": {
      "text/html": [
       "<div>\n",
       "<style scoped>\n",
       "    .dataframe tbody tr th:only-of-type {\n",
       "        vertical-align: middle;\n",
       "    }\n",
       "\n",
       "    .dataframe tbody tr th {\n",
       "        vertical-align: top;\n",
       "    }\n",
       "\n",
       "    .dataframe thead th {\n",
       "        text-align: right;\n",
       "    }\n",
       "</style>\n",
       "<table border=\"1\" class=\"dataframe\">\n",
       "  <thead>\n",
       "    <tr style=\"text-align: right;\">\n",
       "      <th></th>\n",
       "      <th>customer lifetime value</th>\n",
       "      <th>income</th>\n",
       "      <th>monthly premium auto</th>\n",
       "      <th>months since last claim</th>\n",
       "      <th>months since policy inception</th>\n",
       "      <th>number of open complaints</th>\n",
       "      <th>number of policies</th>\n",
       "      <th>total claim amount</th>\n",
       "      <th>response rate</th>\n",
       "    </tr>\n",
       "  </thead>\n",
       "  <tbody>\n",
       "    <tr>\n",
       "      <th>count</th>\n",
       "      <td>4543.000000</td>\n",
       "      <td>4543.000000</td>\n",
       "      <td>4543.000000</td>\n",
       "      <td>4543.000000</td>\n",
       "      <td>4543.000000</td>\n",
       "      <td>4543.000000</td>\n",
       "      <td>4543.000000</td>\n",
       "      <td>4543.000000</td>\n",
       "      <td>4543.000000</td>\n",
       "    </tr>\n",
       "    <tr>\n",
       "      <th>mean</th>\n",
       "      <td>8033.714059</td>\n",
       "      <td>37453.033238</td>\n",
       "      <td>93.773278</td>\n",
       "      <td>15.111820</td>\n",
       "      <td>48.153863</td>\n",
       "      <td>0.386309</td>\n",
       "      <td>2.980189</td>\n",
       "      <td>436.477525</td>\n",
       "      <td>0.141096</td>\n",
       "    </tr>\n",
       "    <tr>\n",
       "      <th>std</th>\n",
       "      <td>6959.529443</td>\n",
       "      <td>30257.399536</td>\n",
       "      <td>35.093661</td>\n",
       "      <td>10.157925</td>\n",
       "      <td>28.146904</td>\n",
       "      <td>0.907553</td>\n",
       "      <td>2.390362</td>\n",
       "      <td>295.026990</td>\n",
       "      <td>0.348159</td>\n",
       "    </tr>\n",
       "    <tr>\n",
       "      <th>min</th>\n",
       "      <td>1904.000852</td>\n",
       "      <td>0.000000</td>\n",
       "      <td>61.000000</td>\n",
       "      <td>0.000000</td>\n",
       "      <td>0.000000</td>\n",
       "      <td>0.000000</td>\n",
       "      <td>1.000000</td>\n",
       "      <td>0.099007</td>\n",
       "      <td>0.000000</td>\n",
       "    </tr>\n",
       "    <tr>\n",
       "      <th>25%</th>\n",
       "      <td>4039.089902</td>\n",
       "      <td>0.000000</td>\n",
       "      <td>69.000000</td>\n",
       "      <td>6.000000</td>\n",
       "      <td>24.000000</td>\n",
       "      <td>0.000000</td>\n",
       "      <td>1.000000</td>\n",
       "      <td>265.686145</td>\n",
       "      <td>0.000000</td>\n",
       "    </tr>\n",
       "    <tr>\n",
       "      <th>50%</th>\n",
       "      <td>5846.520588</td>\n",
       "      <td>34455.000000</td>\n",
       "      <td>83.000000</td>\n",
       "      <td>14.000000</td>\n",
       "      <td>47.000000</td>\n",
       "      <td>0.000000</td>\n",
       "      <td>2.000000</td>\n",
       "      <td>384.000000</td>\n",
       "      <td>0.000000</td>\n",
       "    </tr>\n",
       "    <tr>\n",
       "      <th>75%</th>\n",
       "      <td>8936.596938</td>\n",
       "      <td>61560.000000</td>\n",
       "      <td>110.000000</td>\n",
       "      <td>23.000000</td>\n",
       "      <td>72.000000</td>\n",
       "      <td>0.000000</td>\n",
       "      <td>4.000000</td>\n",
       "      <td>552.000000</td>\n",
       "      <td>0.000000</td>\n",
       "    </tr>\n",
       "    <tr>\n",
       "      <th>max</th>\n",
       "      <td>83325.381190</td>\n",
       "      <td>99961.000000</td>\n",
       "      <td>298.000000</td>\n",
       "      <td>35.000000</td>\n",
       "      <td>99.000000</td>\n",
       "      <td>5.000000</td>\n",
       "      <td>9.000000</td>\n",
       "      <td>2893.239678</td>\n",
       "      <td>1.000000</td>\n",
       "    </tr>\n",
       "  </tbody>\n",
       "</table>\n",
       "</div>"
      ],
      "text/plain": [
       "       customer lifetime value        income  monthly premium auto  \\\n",
       "count              4543.000000   4543.000000           4543.000000   \n",
       "mean               8033.714059  37453.033238             93.773278   \n",
       "std                6959.529443  30257.399536             35.093661   \n",
       "min                1904.000852      0.000000             61.000000   \n",
       "25%                4039.089902      0.000000             69.000000   \n",
       "50%                5846.520588  34455.000000             83.000000   \n",
       "75%                8936.596938  61560.000000            110.000000   \n",
       "max               83325.381190  99961.000000            298.000000   \n",
       "\n",
       "       months since last claim  months since policy inception  \\\n",
       "count              4543.000000                    4543.000000   \n",
       "mean                 15.111820                      48.153863   \n",
       "std                  10.157925                      28.146904   \n",
       "min                   0.000000                       0.000000   \n",
       "25%                   6.000000                      24.000000   \n",
       "50%                  14.000000                      47.000000   \n",
       "75%                  23.000000                      72.000000   \n",
       "max                  35.000000                      99.000000   \n",
       "\n",
       "       number of open complaints  number of policies  total claim amount  \\\n",
       "count                4543.000000         4543.000000         4543.000000   \n",
       "mean                    0.386309            2.980189          436.477525   \n",
       "std                     0.907553            2.390362          295.026990   \n",
       "min                     0.000000            1.000000            0.099007   \n",
       "25%                     0.000000            1.000000          265.686145   \n",
       "50%                     0.000000            2.000000          384.000000   \n",
       "75%                     0.000000            4.000000          552.000000   \n",
       "max                     5.000000            9.000000         2893.239678   \n",
       "\n",
       "       response rate  \n",
       "count    4543.000000  \n",
       "mean        0.141096  \n",
       "std         0.348159  \n",
       "min         0.000000  \n",
       "25%         0.000000  \n",
       "50%         0.000000  \n",
       "75%         0.000000  \n",
       "max         1.000000  "
      ]
     },
     "execution_count": 3173,
     "metadata": {},
     "output_type": "execute_result"
    }
   ],
   "source": [
    "numerical.describe()"
   ]
  },
  {
   "cell_type": "code",
   "execution_count": 3174,
   "id": "7f87a71f",
   "metadata": {},
   "outputs": [
    {
     "data": {
      "text/html": [
       "<div>\n",
       "<style scoped>\n",
       "    .dataframe tbody tr th:only-of-type {\n",
       "        vertical-align: middle;\n",
       "    }\n",
       "\n",
       "    .dataframe tbody tr th {\n",
       "        vertical-align: top;\n",
       "    }\n",
       "\n",
       "    .dataframe thead th {\n",
       "        text-align: right;\n",
       "    }\n",
       "</style>\n",
       "<table border=\"1\" class=\"dataframe\">\n",
       "  <thead>\n",
       "    <tr style=\"text-align: right;\">\n",
       "      <th></th>\n",
       "      <th>customer lifetime value</th>\n",
       "      <th>income</th>\n",
       "      <th>monthly premium auto</th>\n",
       "      <th>months since last claim</th>\n",
       "      <th>months since policy inception</th>\n",
       "      <th>number of open complaints</th>\n",
       "      <th>number of policies</th>\n",
       "      <th>total claim amount</th>\n",
       "      <th>response rate</th>\n",
       "    </tr>\n",
       "  </thead>\n",
       "  <tbody>\n",
       "    <tr>\n",
       "      <th>customer lifetime value</th>\n",
       "      <td>1.000000</td>\n",
       "      <td>0.015914</td>\n",
       "      <td>0.413739</td>\n",
       "      <td>0.029199</td>\n",
       "      <td>0.022465</td>\n",
       "      <td>-0.034924</td>\n",
       "      <td>0.015397</td>\n",
       "      <td>0.228579</td>\n",
       "      <td>-0.018783</td>\n",
       "    </tr>\n",
       "    <tr>\n",
       "      <th>income</th>\n",
       "      <td>0.015914</td>\n",
       "      <td>1.000000</td>\n",
       "      <td>-0.007594</td>\n",
       "      <td>-0.010556</td>\n",
       "      <td>-0.007987</td>\n",
       "      <td>0.001149</td>\n",
       "      <td>-0.013199</td>\n",
       "      <td>-0.355311</td>\n",
       "      <td>0.019743</td>\n",
       "    </tr>\n",
       "    <tr>\n",
       "      <th>monthly premium auto</th>\n",
       "      <td>0.413739</td>\n",
       "      <td>-0.007594</td>\n",
       "      <td>1.000000</td>\n",
       "      <td>0.000890</td>\n",
       "      <td>0.033422</td>\n",
       "      <td>-0.002469</td>\n",
       "      <td>-0.025578</td>\n",
       "      <td>0.630894</td>\n",
       "      <td>0.013683</td>\n",
       "    </tr>\n",
       "    <tr>\n",
       "      <th>months since last claim</th>\n",
       "      <td>0.029199</td>\n",
       "      <td>-0.010556</td>\n",
       "      <td>0.000890</td>\n",
       "      <td>1.000000</td>\n",
       "      <td>-0.036879</td>\n",
       "      <td>-0.000364</td>\n",
       "      <td>0.001089</td>\n",
       "      <td>-0.011449</td>\n",
       "      <td>-0.013800</td>\n",
       "    </tr>\n",
       "    <tr>\n",
       "      <th>months since policy inception</th>\n",
       "      <td>0.022465</td>\n",
       "      <td>-0.007987</td>\n",
       "      <td>0.033422</td>\n",
       "      <td>-0.036879</td>\n",
       "      <td>1.000000</td>\n",
       "      <td>-0.001965</td>\n",
       "      <td>-0.009029</td>\n",
       "      <td>0.012610</td>\n",
       "      <td>-0.005092</td>\n",
       "    </tr>\n",
       "    <tr>\n",
       "      <th>number of open complaints</th>\n",
       "      <td>-0.034924</td>\n",
       "      <td>0.001149</td>\n",
       "      <td>-0.002469</td>\n",
       "      <td>-0.000364</td>\n",
       "      <td>-0.001965</td>\n",
       "      <td>1.000000</td>\n",
       "      <td>0.014388</td>\n",
       "      <td>-0.003433</td>\n",
       "      <td>-0.008796</td>\n",
       "    </tr>\n",
       "    <tr>\n",
       "      <th>number of policies</th>\n",
       "      <td>0.015397</td>\n",
       "      <td>-0.013199</td>\n",
       "      <td>-0.025578</td>\n",
       "      <td>0.001089</td>\n",
       "      <td>-0.009029</td>\n",
       "      <td>0.014388</td>\n",
       "      <td>1.000000</td>\n",
       "      <td>0.002864</td>\n",
       "      <td>-0.015159</td>\n",
       "    </tr>\n",
       "    <tr>\n",
       "      <th>total claim amount</th>\n",
       "      <td>0.228579</td>\n",
       "      <td>-0.355311</td>\n",
       "      <td>0.630894</td>\n",
       "      <td>-0.011449</td>\n",
       "      <td>0.012610</td>\n",
       "      <td>-0.003433</td>\n",
       "      <td>0.002864</td>\n",
       "      <td>1.000000</td>\n",
       "      <td>0.018033</td>\n",
       "    </tr>\n",
       "    <tr>\n",
       "      <th>response rate</th>\n",
       "      <td>-0.018783</td>\n",
       "      <td>0.019743</td>\n",
       "      <td>0.013683</td>\n",
       "      <td>-0.013800</td>\n",
       "      <td>-0.005092</td>\n",
       "      <td>-0.008796</td>\n",
       "      <td>-0.015159</td>\n",
       "      <td>0.018033</td>\n",
       "      <td>1.000000</td>\n",
       "    </tr>\n",
       "  </tbody>\n",
       "</table>\n",
       "</div>"
      ],
      "text/plain": [
       "                               customer lifetime value    income  \\\n",
       "customer lifetime value                       1.000000  0.015914   \n",
       "income                                        0.015914  1.000000   \n",
       "monthly premium auto                          0.413739 -0.007594   \n",
       "months since last claim                       0.029199 -0.010556   \n",
       "months since policy inception                 0.022465 -0.007987   \n",
       "number of open complaints                    -0.034924  0.001149   \n",
       "number of policies                            0.015397 -0.013199   \n",
       "total claim amount                            0.228579 -0.355311   \n",
       "response rate                                -0.018783  0.019743   \n",
       "\n",
       "                               monthly premium auto  months since last claim  \\\n",
       "customer lifetime value                    0.413739                 0.029199   \n",
       "income                                    -0.007594                -0.010556   \n",
       "monthly premium auto                       1.000000                 0.000890   \n",
       "months since last claim                    0.000890                 1.000000   \n",
       "months since policy inception              0.033422                -0.036879   \n",
       "number of open complaints                 -0.002469                -0.000364   \n",
       "number of policies                        -0.025578                 0.001089   \n",
       "total claim amount                         0.630894                -0.011449   \n",
       "response rate                              0.013683                -0.013800   \n",
       "\n",
       "                               months since policy inception  \\\n",
       "customer lifetime value                             0.022465   \n",
       "income                                             -0.007987   \n",
       "monthly premium auto                                0.033422   \n",
       "months since last claim                            -0.036879   \n",
       "months since policy inception                       1.000000   \n",
       "number of open complaints                          -0.001965   \n",
       "number of policies                                 -0.009029   \n",
       "total claim amount                                  0.012610   \n",
       "response rate                                      -0.005092   \n",
       "\n",
       "                               number of open complaints  number of policies  \\\n",
       "customer lifetime value                        -0.034924            0.015397   \n",
       "income                                          0.001149           -0.013199   \n",
       "monthly premium auto                           -0.002469           -0.025578   \n",
       "months since last claim                        -0.000364            0.001089   \n",
       "months since policy inception                  -0.001965           -0.009029   \n",
       "number of open complaints                       1.000000            0.014388   \n",
       "number of policies                              0.014388            1.000000   \n",
       "total claim amount                             -0.003433            0.002864   \n",
       "response rate                                  -0.008796           -0.015159   \n",
       "\n",
       "                               total claim amount  response rate  \n",
       "customer lifetime value                  0.228579      -0.018783  \n",
       "income                                  -0.355311       0.019743  \n",
       "monthly premium auto                     0.630894       0.013683  \n",
       "months since last claim                 -0.011449      -0.013800  \n",
       "months since policy inception            0.012610      -0.005092  \n",
       "number of open complaints               -0.003433      -0.008796  \n",
       "number of policies                       0.002864      -0.015159  \n",
       "total claim amount                       1.000000       0.018033  \n",
       "response rate                            0.018033       1.000000  "
      ]
     },
     "execution_count": 3174,
     "metadata": {},
     "output_type": "execute_result"
    }
   ],
   "source": [
    "# Generating a correlation matrix for NUMERICAL MATRIX\n",
    "correlations_matrix = numerical.corr()\n",
    "correlations_matrix"
   ]
  },
  {
   "cell_type": "code",
   "execution_count": 3175,
   "id": "65ef85cb",
   "metadata": {},
   "outputs": [
    {
     "data": {
      "text/plain": [
       "<AxesSubplot:>"
      ]
     },
     "execution_count": 3175,
     "metadata": {},
     "output_type": "execute_result"
    },
    {
     "data": {
      "image/png": "[encoded data removed]",
      "text/plain": [
       "<Figure size 640x480 with 2 Axes>"
      ]
     },
     "metadata": {},
     "output_type": "display_data"
    }
   ],
   "source": [
    "# Plotting a heatmap\n",
    "sns.heatmap(correlations_matrix, annot = True)"
   ]
  },
  {
   "cell_type": "markdown",
   "id": "932387a7",
   "metadata": {},
   "source": [
    "##### Correlations:\n",
    "As most values are close to 0, most features are vaguely correlated (both negative and positive correlation).\n",
    "\n",
    "Highest correlation found in this heatmap is 0.63 between 'Total Claim amount' & 'Monthly Premium Auto'."
   ]
  },
  {
   "cell_type": "code",
   "execution_count": null,
   "id": "57ac0f4e",
   "metadata": {},
   "outputs": [],
   "source": []
  },
  {
   "cell_type": "markdown",
   "id": "31a458f7",
   "metadata": {},
   "source": [
    "## Lab | Customer Analysis Round 5"
   ]
  },
  {
   "cell_type": "markdown",
   "id": "d3424949",
   "metadata": {},
   "source": [
    "#### For this lab, we still keep using the marketing_customer_analysis.csv file that you can find in the files_for_lab folder.\n",
    "\n",
    "#### Processing Data (Further processing...)\n",
    "\n",
    "1. X-y split. (target = 'total claim amount)\n",
    "2.  Normalize (numerical)."
   ]
  },
  {
   "cell_type": "markdown",
   "id": "9067b699",
   "metadata": {},
   "source": [
    "#### 1. X-y split. --> TARGET: 'total claim amount' "
   ]
  },
  {
   "cell_type": "code",
   "execution_count": 3176,
   "id": "65f8c7ca",
   "metadata": {},
   "outputs": [],
   "source": [
    "#Splitting features to select target (Y) and matrix (X)\n",
    "\n",
    "y = mca_file['total claim amount']\n",
    "X = mca_file.drop(['total claim amount'], axis=1) # (everything else but y)\n",
    "\n",
    "#(df. should be 'numerical' or 'mca_file?') --> mca_file"
   ]
  },
  {
   "cell_type": "code",
   "execution_count": 3177,
   "id": "5f79e13e",
   "metadata": {},
   "outputs": [
    {
     "data": {
      "text/html": [
       "<div>\n",
       "<style scoped>\n",
       "    .dataframe tbody tr th:only-of-type {\n",
       "        vertical-align: middle;\n",
       "    }\n",
       "\n",
       "    .dataframe tbody tr th {\n",
       "        vertical-align: top;\n",
       "    }\n",
       "\n",
       "    .dataframe thead th {\n",
       "        text-align: right;\n",
       "    }\n",
       "</style>\n",
       "<table border=\"1\" class=\"dataframe\">\n",
       "  <thead>\n",
       "    <tr style=\"text-align: right;\">\n",
       "      <th></th>\n",
       "      <th>customer</th>\n",
       "      <th>state</th>\n",
       "      <th>customer lifetime value</th>\n",
       "      <th>response</th>\n",
       "      <th>coverage</th>\n",
       "      <th>education</th>\n",
       "      <th>employmentstatus</th>\n",
       "      <th>gender</th>\n",
       "      <th>income</th>\n",
       "      <th>location code</th>\n",
       "      <th>...</th>\n",
       "      <th>policy</th>\n",
       "      <th>renew offer type</th>\n",
       "      <th>sales channel</th>\n",
       "      <th>vehicle class</th>\n",
       "      <th>vehicle size</th>\n",
       "      <th>vehicle type</th>\n",
       "      <th>months</th>\n",
       "      <th>response rate</th>\n",
       "      <th>total claim range</th>\n",
       "      <th>income range</th>\n",
       "    </tr>\n",
       "  </thead>\n",
       "  <tbody>\n",
       "    <tr>\n",
       "      <th>2</th>\n",
       "      <td>LZ68649</td>\n",
       "      <td>Washington</td>\n",
       "      <td>14947.917300</td>\n",
       "      <td>No</td>\n",
       "      <td>Basic</td>\n",
       "      <td>Bachelor</td>\n",
       "      <td>Employed</td>\n",
       "      <td>M</td>\n",
       "      <td>22139</td>\n",
       "      <td>Suburban</td>\n",
       "      <td>...</td>\n",
       "      <td>Personal L3</td>\n",
       "      <td>Offer3</td>\n",
       "      <td>Call Center</td>\n",
       "      <td>SUV</td>\n",
       "      <td>Medsize</td>\n",
       "      <td>A</td>\n",
       "      <td>February</td>\n",
       "      <td>0</td>\n",
       "      <td>250-500</td>\n",
       "      <td>0-20000</td>\n",
       "    </tr>\n",
       "    <tr>\n",
       "      <th>3</th>\n",
       "      <td>XL78013</td>\n",
       "      <td>Oregon</td>\n",
       "      <td>22332.439460</td>\n",
       "      <td>Yes</td>\n",
       "      <td>Extended</td>\n",
       "      <td>College</td>\n",
       "      <td>Employed</td>\n",
       "      <td>M</td>\n",
       "      <td>49078</td>\n",
       "      <td>Suburban</td>\n",
       "      <td>...</td>\n",
       "      <td>Corporate L3</td>\n",
       "      <td>Offer2</td>\n",
       "      <td>Branch</td>\n",
       "      <td>Four-Door Car</td>\n",
       "      <td>Medsize</td>\n",
       "      <td>A</td>\n",
       "      <td>January</td>\n",
       "      <td>1</td>\n",
       "      <td>250-500</td>\n",
       "      <td>20000-40000</td>\n",
       "    </tr>\n",
       "    <tr>\n",
       "      <th>10</th>\n",
       "      <td>HG93801</td>\n",
       "      <td>Arizona</td>\n",
       "      <td>5154.764074</td>\n",
       "      <td>No</td>\n",
       "      <td>Extended</td>\n",
       "      <td>High School or Below</td>\n",
       "      <td>Employed</td>\n",
       "      <td>M</td>\n",
       "      <td>82730</td>\n",
       "      <td>Urban</td>\n",
       "      <td>...</td>\n",
       "      <td>Corporate L3</td>\n",
       "      <td>Offer2</td>\n",
       "      <td>Branch</td>\n",
       "      <td>SUV</td>\n",
       "      <td>Large</td>\n",
       "      <td>A</td>\n",
       "      <td>January</td>\n",
       "      <td>0</td>\n",
       "      <td>250-500</td>\n",
       "      <td>&gt;80000</td>\n",
       "    </tr>\n",
       "    <tr>\n",
       "      <th>13</th>\n",
       "      <td>KR82385</td>\n",
       "      <td>California</td>\n",
       "      <td>5454.587929</td>\n",
       "      <td>No</td>\n",
       "      <td>Basic</td>\n",
       "      <td>Master</td>\n",
       "      <td>Employed</td>\n",
       "      <td>M</td>\n",
       "      <td>66334</td>\n",
       "      <td>Suburban</td>\n",
       "      <td>...</td>\n",
       "      <td>Personal L3</td>\n",
       "      <td>Offer4</td>\n",
       "      <td>Call Center</td>\n",
       "      <td>Two-Door Car</td>\n",
       "      <td>Medsize</td>\n",
       "      <td>A</td>\n",
       "      <td>January</td>\n",
       "      <td>0</td>\n",
       "      <td>250-500</td>\n",
       "      <td>60000-80000</td>\n",
       "    </tr>\n",
       "    <tr>\n",
       "      <th>16</th>\n",
       "      <td>FH51383</td>\n",
       "      <td>California</td>\n",
       "      <td>5326.677654</td>\n",
       "      <td>No</td>\n",
       "      <td>Basic</td>\n",
       "      <td>High School or Below</td>\n",
       "      <td>Employed</td>\n",
       "      <td>F</td>\n",
       "      <td>76717</td>\n",
       "      <td>Urban</td>\n",
       "      <td>...</td>\n",
       "      <td>Personal L3</td>\n",
       "      <td>Offer4</td>\n",
       "      <td>Call Center</td>\n",
       "      <td>Two-Door Car</td>\n",
       "      <td>Large</td>\n",
       "      <td>A</td>\n",
       "      <td>February</td>\n",
       "      <td>0</td>\n",
       "      <td>250-500</td>\n",
       "      <td>&gt;80000</td>\n",
       "    </tr>\n",
       "  </tbody>\n",
       "</table>\n",
       "<p>5 rows × 27 columns</p>\n",
       "</div>"
      ],
      "text/plain": [
       "   customer       state  customer lifetime value response  coverage  \\\n",
       "2   LZ68649  Washington             14947.917300       No     Basic   \n",
       "3   XL78013      Oregon             22332.439460      Yes  Extended   \n",
       "10  HG93801     Arizona              5154.764074       No  Extended   \n",
       "13  KR82385  California              5454.587929       No     Basic   \n",
       "16  FH51383  California              5326.677654       No     Basic   \n",
       "\n",
       "               education employmentstatus gender  income location code  ...  \\\n",
       "2               Bachelor         Employed      M   22139      Suburban  ...   \n",
       "3                College         Employed      M   49078      Suburban  ...   \n",
       "10  High School or Below         Employed      M   82730         Urban  ...   \n",
       "13                Master         Employed      M   66334      Suburban  ...   \n",
       "16  High School or Below         Employed      F   76717         Urban  ...   \n",
       "\n",
       "          policy  renew offer type  sales channel  vehicle class  \\\n",
       "2    Personal L3            Offer3    Call Center            SUV   \n",
       "3   Corporate L3            Offer2         Branch  Four-Door Car   \n",
       "10  Corporate L3            Offer2         Branch            SUV   \n",
       "13   Personal L3            Offer4    Call Center   Two-Door Car   \n",
       "16   Personal L3            Offer4    Call Center   Two-Door Car   \n",
       "\n",
       "    vehicle size  vehicle type    months response rate total claim range  \\\n",
       "2        Medsize             A  February             0           250-500   \n",
       "3        Medsize             A   January             1           250-500   \n",
       "10         Large             A   January             0           250-500   \n",
       "13       Medsize             A   January             0           250-500   \n",
       "16         Large             A  February             0           250-500   \n",
       "\n",
       "   income range  \n",
       "2       0-20000  \n",
       "3   20000-40000  \n",
       "10       >80000  \n",
       "13  60000-80000  \n",
       "16       >80000  \n",
       "\n",
       "[5 rows x 27 columns]"
      ]
     },
     "execution_count": 3177,
     "metadata": {},
     "output_type": "execute_result"
    }
   ],
   "source": [
    "X.head()"
   ]
  },
  {
   "cell_type": "code",
   "execution_count": 3178,
   "id": "9a3ed2ea",
   "metadata": {},
   "outputs": [],
   "source": [
    "# Splitting in numerical/categorical\n",
    "X_num = X.select_dtypes(include = np.number) \n",
    "X_cat = X.select_dtypes(include = object)"
   ]
  },
  {
   "cell_type": "code",
   "execution_count": 3179,
   "id": "857bbc0d",
   "metadata": {},
   "outputs": [
    {
     "data": {
      "text/plain": [
       "'X_num columns: '"
      ]
     },
     "metadata": {},
     "output_type": "display_data"
    },
    {
     "data": {
      "text/plain": [
       "Index(['customer lifetime value', 'income', 'monthly premium auto',\n",
       "       'months since last claim', 'months since policy inception',\n",
       "       'number of open complaints', 'number of policies', 'response rate'],\n",
       "      dtype='object')"
      ]
     },
     "metadata": {},
     "output_type": "display_data"
    },
    {
     "data": {
      "text/plain": [
       "'X_cat columns: '"
      ]
     },
     "metadata": {},
     "output_type": "display_data"
    },
    {
     "data": {
      "text/plain": [
       "Index(['customer', 'state', 'response', 'coverage', 'education',\n",
       "       'employmentstatus', 'gender', 'location code', 'marital status',\n",
       "       'policy type', 'policy', 'renew offer type', 'sales channel',\n",
       "       'vehicle class', 'vehicle size', 'vehicle type', 'months'],\n",
       "      dtype='object')"
      ]
     },
     "metadata": {},
     "output_type": "display_data"
    },
    {
     "data": {
      "text/plain": [
       "'Y: '"
      ]
     },
     "metadata": {},
     "output_type": "display_data"
    },
    {
     "data": {
      "text/plain": [
       "'total claim amount'"
      ]
     },
     "metadata": {},
     "output_type": "display_data"
    }
   ],
   "source": [
    "# Checking splitting worked\n",
    "display(\"X_num columns: \",X_num.columns)\n",
    "display(\"X_cat columns: \",X_cat.columns)\n",
    "display(\"Y: \",y.name)\n"
   ]
  },
  {
   "cell_type": "markdown",
   "id": "942c4573",
   "metadata": {},
   "source": [
    "##### 2. Normalize (numerical). "
   ]
  },
  {
   "cell_type": "code",
   "execution_count": 3180,
   "id": "14cbf484",
   "metadata": {},
   "outputs": [
    {
     "data": {
      "text/html": [
       "<div>\n",
       "<style scoped>\n",
       "    .dataframe tbody tr th:only-of-type {\n",
       "        vertical-align: middle;\n",
       "    }\n",
       "\n",
       "    .dataframe tbody tr th {\n",
       "        vertical-align: top;\n",
       "    }\n",
       "\n",
       "    .dataframe thead th {\n",
       "        text-align: right;\n",
       "    }\n",
       "</style>\n",
       "<table border=\"1\" class=\"dataframe\">\n",
       "  <thead>\n",
       "    <tr style=\"text-align: right;\">\n",
       "      <th></th>\n",
       "      <th>customer lifetime value</th>\n",
       "      <th>income</th>\n",
       "      <th>monthly premium auto</th>\n",
       "      <th>months since last claim</th>\n",
       "      <th>months since policy inception</th>\n",
       "      <th>number of open complaints</th>\n",
       "      <th>number of policies</th>\n",
       "      <th>response rate</th>\n",
       "    </tr>\n",
       "  </thead>\n",
       "  <tbody>\n",
       "    <tr>\n",
       "      <th>2</th>\n",
       "      <td>14947.917300</td>\n",
       "      <td>22139</td>\n",
       "      <td>100</td>\n",
       "      <td>34.0</td>\n",
       "      <td>31</td>\n",
       "      <td>0.0</td>\n",
       "      <td>2</td>\n",
       "      <td>0</td>\n",
       "    </tr>\n",
       "    <tr>\n",
       "      <th>3</th>\n",
       "      <td>22332.439460</td>\n",
       "      <td>49078</td>\n",
       "      <td>97</td>\n",
       "      <td>10.0</td>\n",
       "      <td>3</td>\n",
       "      <td>0.0</td>\n",
       "      <td>2</td>\n",
       "      <td>1</td>\n",
       "    </tr>\n",
       "    <tr>\n",
       "      <th>10</th>\n",
       "      <td>5154.764074</td>\n",
       "      <td>82730</td>\n",
       "      <td>127</td>\n",
       "      <td>13.0</td>\n",
       "      <td>31</td>\n",
       "      <td>0.0</td>\n",
       "      <td>1</td>\n",
       "      <td>0</td>\n",
       "    </tr>\n",
       "    <tr>\n",
       "      <th>13</th>\n",
       "      <td>5454.587929</td>\n",
       "      <td>66334</td>\n",
       "      <td>69</td>\n",
       "      <td>25.0</td>\n",
       "      <td>25</td>\n",
       "      <td>0.0</td>\n",
       "      <td>4</td>\n",
       "      <td>0</td>\n",
       "    </tr>\n",
       "    <tr>\n",
       "      <th>16</th>\n",
       "      <td>5326.677654</td>\n",
       "      <td>76717</td>\n",
       "      <td>66</td>\n",
       "      <td>26.0</td>\n",
       "      <td>10</td>\n",
       "      <td>0.0</td>\n",
       "      <td>6</td>\n",
       "      <td>0</td>\n",
       "    </tr>\n",
       "  </tbody>\n",
       "</table>\n",
       "</div>"
      ],
      "text/plain": [
       "    customer lifetime value  income  monthly premium auto  \\\n",
       "2              14947.917300   22139                   100   \n",
       "3              22332.439460   49078                    97   \n",
       "10              5154.764074   82730                   127   \n",
       "13              5454.587929   66334                    69   \n",
       "16              5326.677654   76717                    66   \n",
       "\n",
       "    months since last claim  months since policy inception  \\\n",
       "2                      34.0                             31   \n",
       "3                      10.0                              3   \n",
       "10                     13.0                             31   \n",
       "13                     25.0                             25   \n",
       "16                     26.0                             10   \n",
       "\n",
       "    number of open complaints  number of policies  response rate  \n",
       "2                         0.0                   2              0  \n",
       "3                         0.0                   2              1  \n",
       "10                        0.0                   1              0  \n",
       "13                        0.0                   4              0  \n",
       "16                        0.0                   6              0  "
      ]
     },
     "metadata": {},
     "output_type": "display_data"
    },
    {
     "data": {
      "text/plain": [
       "(4543, 8)"
      ]
     },
     "metadata": {},
     "output_type": "display_data"
    }
   ],
   "source": [
    "display(X_num.head())\n",
    "display(X_num.shape)"
   ]
  },
  {
   "cell_type": "code",
   "execution_count": 3181,
   "id": "e7c7eab8",
   "metadata": {},
   "outputs": [
    {
     "name": "stdout",
     "output_type": "stream",
     "text": [
      "(4543, 8)\n"
     ]
    },
    {
     "data": {
      "text/html": [
       "<div>\n",
       "<style scoped>\n",
       "    .dataframe tbody tr th:only-of-type {\n",
       "        vertical-align: middle;\n",
       "    }\n",
       "\n",
       "    .dataframe tbody tr th {\n",
       "        vertical-align: top;\n",
       "    }\n",
       "\n",
       "    .dataframe thead th {\n",
       "        text-align: right;\n",
       "    }\n",
       "</style>\n",
       "<table border=\"1\" class=\"dataframe\">\n",
       "  <thead>\n",
       "    <tr style=\"text-align: right;\">\n",
       "      <th></th>\n",
       "      <th>customer lifetime value</th>\n",
       "      <th>income</th>\n",
       "      <th>monthly premium auto</th>\n",
       "      <th>months since last claim</th>\n",
       "      <th>months since policy inception</th>\n",
       "      <th>number of open complaints</th>\n",
       "      <th>number of policies</th>\n",
       "      <th>response rate</th>\n",
       "    </tr>\n",
       "  </thead>\n",
       "  <tbody>\n",
       "    <tr>\n",
       "      <th>0</th>\n",
       "      <td>0.160203</td>\n",
       "      <td>0.221476</td>\n",
       "      <td>0.164557</td>\n",
       "      <td>0.971429</td>\n",
       "      <td>0.313131</td>\n",
       "      <td>0.0</td>\n",
       "      <td>0.125</td>\n",
       "      <td>0.0</td>\n",
       "    </tr>\n",
       "    <tr>\n",
       "      <th>1</th>\n",
       "      <td>0.250898</td>\n",
       "      <td>0.490971</td>\n",
       "      <td>0.151899</td>\n",
       "      <td>0.285714</td>\n",
       "      <td>0.030303</td>\n",
       "      <td>0.0</td>\n",
       "      <td>0.125</td>\n",
       "      <td>1.0</td>\n",
       "    </tr>\n",
       "    <tr>\n",
       "      <th>2</th>\n",
       "      <td>0.039925</td>\n",
       "      <td>0.827623</td>\n",
       "      <td>0.278481</td>\n",
       "      <td>0.371429</td>\n",
       "      <td>0.313131</td>\n",
       "      <td>0.0</td>\n",
       "      <td>0.000</td>\n",
       "      <td>0.0</td>\n",
       "    </tr>\n",
       "    <tr>\n",
       "      <th>3</th>\n",
       "      <td>0.043608</td>\n",
       "      <td>0.663599</td>\n",
       "      <td>0.033755</td>\n",
       "      <td>0.714286</td>\n",
       "      <td>0.252525</td>\n",
       "      <td>0.0</td>\n",
       "      <td>0.375</td>\n",
       "      <td>0.0</td>\n",
       "    </tr>\n",
       "    <tr>\n",
       "      <th>4</th>\n",
       "      <td>0.042037</td>\n",
       "      <td>0.767469</td>\n",
       "      <td>0.021097</td>\n",
       "      <td>0.742857</td>\n",
       "      <td>0.101010</td>\n",
       "      <td>0.0</td>\n",
       "      <td>0.625</td>\n",
       "      <td>0.0</td>\n",
       "    </tr>\n",
       "  </tbody>\n",
       "</table>\n",
       "</div>"
      ],
      "text/plain": [
       "   customer lifetime value    income  monthly premium auto  \\\n",
       "0                 0.160203  0.221476              0.164557   \n",
       "1                 0.250898  0.490971              0.151899   \n",
       "2                 0.039925  0.827623              0.278481   \n",
       "3                 0.043608  0.663599              0.033755   \n",
       "4                 0.042037  0.767469              0.021097   \n",
       "\n",
       "   months since last claim  months since policy inception  \\\n",
       "0                 0.971429                       0.313131   \n",
       "1                 0.285714                       0.030303   \n",
       "2                 0.371429                       0.313131   \n",
       "3                 0.714286                       0.252525   \n",
       "4                 0.742857                       0.101010   \n",
       "\n",
       "   number of open complaints  number of policies  response rate  \n",
       "0                        0.0               0.125            0.0  \n",
       "1                        0.0               0.125            1.0  \n",
       "2                        0.0               0.000            0.0  \n",
       "3                        0.0               0.375            0.0  \n",
       "4                        0.0               0.625            0.0  "
      ]
     },
     "execution_count": 3181,
     "metadata": {},
     "output_type": "execute_result"
    }
   ],
   "source": [
    "# Methods of scalating (only numerical): MinMaxScaler , StandardScaler. \n",
    "# MinMaxScaler\n",
    "\n",
    "from sklearn.preprocessing import MinMaxScaler \n",
    "#from sklearn.preprocessing import StandardScaler - not needed \n",
    "\n",
    "# Fitting the transformer with data from X_num\n",
    "transformer = MinMaxScaler().fit(X_num)\n",
    "\n",
    "# Applying the transformer \n",
    "X_normalized = transformer.transform(X_num)\n",
    "print(X_normalized.shape)\n",
    "\n",
    "# Finally converting it to a dataframe\n",
    "X_normalized = pd.DataFrame(X_normalized, columns=X_num.columns)\n",
    "\n",
    "# Checking if normalization worked\n",
    "X_normalized.head()"
   ]
  },
  {
   "cell_type": "code",
   "execution_count": 3182,
   "id": "5b301e02",
   "metadata": {
    "scrolled": true
   },
   "outputs": [
    {
     "data": {
      "text/html": [
       "<div>\n",
       "<style scoped>\n",
       "    .dataframe tbody tr th:only-of-type {\n",
       "        vertical-align: middle;\n",
       "    }\n",
       "\n",
       "    .dataframe tbody tr th {\n",
       "        vertical-align: top;\n",
       "    }\n",
       "\n",
       "    .dataframe thead th {\n",
       "        text-align: right;\n",
       "    }\n",
       "</style>\n",
       "<table border=\"1\" class=\"dataframe\">\n",
       "  <thead>\n",
       "    <tr style=\"text-align: right;\">\n",
       "      <th></th>\n",
       "      <th>count</th>\n",
       "      <th>mean</th>\n",
       "      <th>std</th>\n",
       "      <th>min</th>\n",
       "      <th>25%</th>\n",
       "      <th>50%</th>\n",
       "      <th>75%</th>\n",
       "      <th>max</th>\n",
       "    </tr>\n",
       "  </thead>\n",
       "  <tbody>\n",
       "    <tr>\n",
       "      <th>customer lifetime value</th>\n",
       "      <td>4543.0</td>\n",
       "      <td>0.075284</td>\n",
       "      <td>0.085475</td>\n",
       "      <td>0.0</td>\n",
       "      <td>0.026223</td>\n",
       "      <td>0.048421</td>\n",
       "      <td>0.086373</td>\n",
       "      <td>1.0</td>\n",
       "    </tr>\n",
       "    <tr>\n",
       "      <th>income</th>\n",
       "      <td>4543.0</td>\n",
       "      <td>0.374676</td>\n",
       "      <td>0.302692</td>\n",
       "      <td>0.0</td>\n",
       "      <td>0.000000</td>\n",
       "      <td>0.344684</td>\n",
       "      <td>0.615840</td>\n",
       "      <td>1.0</td>\n",
       "    </tr>\n",
       "    <tr>\n",
       "      <th>monthly premium auto</th>\n",
       "      <td>4543.0</td>\n",
       "      <td>0.138284</td>\n",
       "      <td>0.148075</td>\n",
       "      <td>0.0</td>\n",
       "      <td>0.033755</td>\n",
       "      <td>0.092827</td>\n",
       "      <td>0.206751</td>\n",
       "      <td>1.0</td>\n",
       "    </tr>\n",
       "    <tr>\n",
       "      <th>months since last claim</th>\n",
       "      <td>4543.0</td>\n",
       "      <td>0.431766</td>\n",
       "      <td>0.290226</td>\n",
       "      <td>0.0</td>\n",
       "      <td>0.171429</td>\n",
       "      <td>0.400000</td>\n",
       "      <td>0.657143</td>\n",
       "      <td>1.0</td>\n",
       "    </tr>\n",
       "    <tr>\n",
       "      <th>months since policy inception</th>\n",
       "      <td>4543.0</td>\n",
       "      <td>0.486403</td>\n",
       "      <td>0.284312</td>\n",
       "      <td>0.0</td>\n",
       "      <td>0.242424</td>\n",
       "      <td>0.474747</td>\n",
       "      <td>0.727273</td>\n",
       "      <td>1.0</td>\n",
       "    </tr>\n",
       "    <tr>\n",
       "      <th>number of open complaints</th>\n",
       "      <td>4543.0</td>\n",
       "      <td>0.077262</td>\n",
       "      <td>0.181511</td>\n",
       "      <td>0.0</td>\n",
       "      <td>0.000000</td>\n",
       "      <td>0.000000</td>\n",
       "      <td>0.000000</td>\n",
       "      <td>1.0</td>\n",
       "    </tr>\n",
       "    <tr>\n",
       "      <th>number of policies</th>\n",
       "      <td>4543.0</td>\n",
       "      <td>0.247524</td>\n",
       "      <td>0.298795</td>\n",
       "      <td>0.0</td>\n",
       "      <td>0.000000</td>\n",
       "      <td>0.125000</td>\n",
       "      <td>0.375000</td>\n",
       "      <td>1.0</td>\n",
       "    </tr>\n",
       "    <tr>\n",
       "      <th>response rate</th>\n",
       "      <td>4543.0</td>\n",
       "      <td>0.141096</td>\n",
       "      <td>0.348159</td>\n",
       "      <td>0.0</td>\n",
       "      <td>0.000000</td>\n",
       "      <td>0.000000</td>\n",
       "      <td>0.000000</td>\n",
       "      <td>1.0</td>\n",
       "    </tr>\n",
       "  </tbody>\n",
       "</table>\n",
       "</div>"
      ],
      "text/plain": [
       "                                count      mean       std  min       25%  \\\n",
       "customer lifetime value        4543.0  0.075284  0.085475  0.0  0.026223   \n",
       "income                         4543.0  0.374676  0.302692  0.0  0.000000   \n",
       "monthly premium auto           4543.0  0.138284  0.148075  0.0  0.033755   \n",
       "months since last claim        4543.0  0.431766  0.290226  0.0  0.171429   \n",
       "months since policy inception  4543.0  0.486403  0.284312  0.0  0.242424   \n",
       "number of open complaints      4543.0  0.077262  0.181511  0.0  0.000000   \n",
       "number of policies             4543.0  0.247524  0.298795  0.0  0.000000   \n",
       "response rate                  4543.0  0.141096  0.348159  0.0  0.000000   \n",
       "\n",
       "                                    50%       75%  max  \n",
       "customer lifetime value        0.048421  0.086373  1.0  \n",
       "income                         0.344684  0.615840  1.0  \n",
       "monthly premium auto           0.092827  0.206751  1.0  \n",
       "months since last claim        0.400000  0.657143  1.0  \n",
       "months since policy inception  0.474747  0.727273  1.0  \n",
       "number of open complaints      0.000000  0.000000  1.0  \n",
       "number of policies             0.125000  0.375000  1.0  \n",
       "response rate                  0.000000  0.000000  1.0  "
      ]
     },
     "execution_count": 3182,
     "metadata": {},
     "output_type": "execute_result"
    }
   ],
   "source": [
    "# All values between 0 (min) - 1 (max)\n",
    "X_normalized.describe().T"
   ]
  },
  {
   "cell_type": "code",
   "execution_count": null,
   "id": "2e794fc6",
   "metadata": {},
   "outputs": [],
   "source": []
  },
  {
   "cell_type": "markdown",
   "id": "a80071d7",
   "metadata": {},
   "source": [
    "## Lab | Customer Analysis Round 6"
   ]
  },
  {
   "cell_type": "markdown",
   "id": "f75d3c00",
   "metadata": {},
   "source": [
    "### For this lab, we still keep using the marketing_customer_analysis.csv file that you can find in the files_for_lab folder.\n",
    "\n",
    "#### Processing Data (Further processing...)\n",
    "\n",
    "1. lab 5- X-y split. ------------------------- (done)\n",
    "2. lab 5- Normalize (numerical). ---------- (done) \n",
    "3. One Hot/Label Encoding (categorical).\n",
    "4. Concat DataFrames\n",
    "\n",
    "#### Linear Regression\n",
    "5. Train-test split.\n",
    "6. Apply linear regression.\n",
    "\n",
    "#### Model Validation\n",
    "7. Description: R2, MSE, RMSE, MAE."
   ]
  },
  {
   "cell_type": "markdown",
   "id": "be904321",
   "metadata": {},
   "source": [
    "#### 3. One Hot / Label Encoding (categorical)"
   ]
  },
  {
   "cell_type": "code",
   "execution_count": 3183,
   "id": "61849dc4",
   "metadata": {},
   "outputs": [
    {
     "data": {
      "text/html": [
       "<div>\n",
       "<style scoped>\n",
       "    .dataframe tbody tr th:only-of-type {\n",
       "        vertical-align: middle;\n",
       "    }\n",
       "\n",
       "    .dataframe tbody tr th {\n",
       "        vertical-align: top;\n",
       "    }\n",
       "\n",
       "    .dataframe thead th {\n",
       "        text-align: right;\n",
       "    }\n",
       "</style>\n",
       "<table border=\"1\" class=\"dataframe\">\n",
       "  <thead>\n",
       "    <tr style=\"text-align: right;\">\n",
       "      <th></th>\n",
       "      <th>customer</th>\n",
       "      <th>state</th>\n",
       "      <th>response</th>\n",
       "      <th>coverage</th>\n",
       "      <th>education</th>\n",
       "      <th>employmentstatus</th>\n",
       "      <th>gender</th>\n",
       "      <th>location code</th>\n",
       "      <th>marital status</th>\n",
       "      <th>policy type</th>\n",
       "      <th>policy</th>\n",
       "      <th>renew offer type</th>\n",
       "      <th>sales channel</th>\n",
       "      <th>vehicle class</th>\n",
       "      <th>vehicle size</th>\n",
       "      <th>vehicle type</th>\n",
       "      <th>months</th>\n",
       "    </tr>\n",
       "  </thead>\n",
       "  <tbody>\n",
       "    <tr>\n",
       "      <th>2</th>\n",
       "      <td>LZ68649</td>\n",
       "      <td>Washington</td>\n",
       "      <td>No</td>\n",
       "      <td>Basic</td>\n",
       "      <td>Bachelor</td>\n",
       "      <td>Employed</td>\n",
       "      <td>M</td>\n",
       "      <td>Suburban</td>\n",
       "      <td>Single</td>\n",
       "      <td>Personal Auto</td>\n",
       "      <td>Personal L3</td>\n",
       "      <td>Offer3</td>\n",
       "      <td>Call Center</td>\n",
       "      <td>SUV</td>\n",
       "      <td>Medsize</td>\n",
       "      <td>A</td>\n",
       "      <td>February</td>\n",
       "    </tr>\n",
       "    <tr>\n",
       "      <th>3</th>\n",
       "      <td>XL78013</td>\n",
       "      <td>Oregon</td>\n",
       "      <td>Yes</td>\n",
       "      <td>Extended</td>\n",
       "      <td>College</td>\n",
       "      <td>Employed</td>\n",
       "      <td>M</td>\n",
       "      <td>Suburban</td>\n",
       "      <td>Single</td>\n",
       "      <td>Corporate Auto</td>\n",
       "      <td>Corporate L3</td>\n",
       "      <td>Offer2</td>\n",
       "      <td>Branch</td>\n",
       "      <td>Four-Door Car</td>\n",
       "      <td>Medsize</td>\n",
       "      <td>A</td>\n",
       "      <td>January</td>\n",
       "    </tr>\n",
       "    <tr>\n",
       "      <th>10</th>\n",
       "      <td>HG93801</td>\n",
       "      <td>Arizona</td>\n",
       "      <td>No</td>\n",
       "      <td>Extended</td>\n",
       "      <td>High School or Below</td>\n",
       "      <td>Employed</td>\n",
       "      <td>M</td>\n",
       "      <td>Urban</td>\n",
       "      <td>Married</td>\n",
       "      <td>Corporate Auto</td>\n",
       "      <td>Corporate L3</td>\n",
       "      <td>Offer2</td>\n",
       "      <td>Branch</td>\n",
       "      <td>SUV</td>\n",
       "      <td>Large</td>\n",
       "      <td>A</td>\n",
       "      <td>January</td>\n",
       "    </tr>\n",
       "    <tr>\n",
       "      <th>13</th>\n",
       "      <td>KR82385</td>\n",
       "      <td>California</td>\n",
       "      <td>No</td>\n",
       "      <td>Basic</td>\n",
       "      <td>Master</td>\n",
       "      <td>Employed</td>\n",
       "      <td>M</td>\n",
       "      <td>Suburban</td>\n",
       "      <td>Single</td>\n",
       "      <td>Personal Auto</td>\n",
       "      <td>Personal L3</td>\n",
       "      <td>Offer4</td>\n",
       "      <td>Call Center</td>\n",
       "      <td>Two-Door Car</td>\n",
       "      <td>Medsize</td>\n",
       "      <td>A</td>\n",
       "      <td>January</td>\n",
       "    </tr>\n",
       "    <tr>\n",
       "      <th>16</th>\n",
       "      <td>FH51383</td>\n",
       "      <td>California</td>\n",
       "      <td>No</td>\n",
       "      <td>Basic</td>\n",
       "      <td>High School or Below</td>\n",
       "      <td>Employed</td>\n",
       "      <td>F</td>\n",
       "      <td>Urban</td>\n",
       "      <td>Married</td>\n",
       "      <td>Personal Auto</td>\n",
       "      <td>Personal L3</td>\n",
       "      <td>Offer4</td>\n",
       "      <td>Call Center</td>\n",
       "      <td>Two-Door Car</td>\n",
       "      <td>Large</td>\n",
       "      <td>A</td>\n",
       "      <td>February</td>\n",
       "    </tr>\n",
       "  </tbody>\n",
       "</table>\n",
       "</div>"
      ],
      "text/plain": [
       "   customer       state response  coverage             education  \\\n",
       "2   LZ68649  Washington       No     Basic              Bachelor   \n",
       "3   XL78013      Oregon      Yes  Extended               College   \n",
       "10  HG93801     Arizona       No  Extended  High School or Below   \n",
       "13  KR82385  California       No     Basic                Master   \n",
       "16  FH51383  California       No     Basic  High School or Below   \n",
       "\n",
       "   employmentstatus gender location code marital status     policy type  \\\n",
       "2          Employed      M      Suburban         Single   Personal Auto   \n",
       "3          Employed      M      Suburban         Single  Corporate Auto   \n",
       "10         Employed      M         Urban        Married  Corporate Auto   \n",
       "13         Employed      M      Suburban         Single   Personal Auto   \n",
       "16         Employed      F         Urban        Married   Personal Auto   \n",
       "\n",
       "          policy renew offer type sales channel  vehicle class vehicle size  \\\n",
       "2    Personal L3           Offer3   Call Center            SUV      Medsize   \n",
       "3   Corporate L3           Offer2        Branch  Four-Door Car      Medsize   \n",
       "10  Corporate L3           Offer2        Branch            SUV        Large   \n",
       "13   Personal L3           Offer4   Call Center   Two-Door Car      Medsize   \n",
       "16   Personal L3           Offer4   Call Center   Two-Door Car        Large   \n",
       "\n",
       "   vehicle type    months  \n",
       "2             A  February  \n",
       "3             A   January  \n",
       "10            A   January  \n",
       "13            A   January  \n",
       "16            A  February  "
      ]
     },
     "metadata": {},
     "output_type": "display_data"
    },
    {
     "data": {
      "text/plain": [
       "(4543, 17)"
      ]
     },
     "metadata": {},
     "output_type": "display_data"
    }
   ],
   "source": [
    "# Getting info from X_cat (categorical values)\n",
    "display(X_cat.head())\n",
    "display(X_cat.shape)"
   ]
  },
  {
   "cell_type": "code",
   "execution_count": 3184,
   "id": "3e0bb743",
   "metadata": {},
   "outputs": [
    {
     "name": "stdout",
     "output_type": "stream",
     "text": [
      "customer            4543\n",
      "state                  5\n",
      "response               2\n",
      "coverage               3\n",
      "education              5\n",
      "employmentstatus       5\n",
      "gender                 2\n",
      "location code          3\n",
      "marital status         3\n",
      "policy type            3\n",
      "policy                 9\n",
      "renew offer type       4\n",
      "sales channel          4\n",
      "vehicle class          6\n",
      "vehicle size           3\n",
      "vehicle type           1\n",
      "months                 2\n",
      "dtype: int64\n"
     ]
    }
   ],
   "source": [
    "# Checking for unique values in each column\n",
    "uniqueValues = X_cat.nunique()\n",
    "print(uniqueValues)"
   ]
  },
  {
   "cell_type": "markdown",
   "id": "d6886f2f",
   "metadata": {},
   "source": [
    "As 'Customer' has so many unique values (one per customer) and it's mere value doesn't add any extra information, I proceed to drop that column."
   ]
  },
  {
   "cell_type": "code",
   "execution_count": 3185,
   "id": "8bb80c3d",
   "metadata": {},
   "outputs": [
    {
     "data": {
      "text/html": [
       "<div>\n",
       "<style scoped>\n",
       "    .dataframe tbody tr th:only-of-type {\n",
       "        vertical-align: middle;\n",
       "    }\n",
       "\n",
       "    .dataframe tbody tr th {\n",
       "        vertical-align: top;\n",
       "    }\n",
       "\n",
       "    .dataframe thead th {\n",
       "        text-align: right;\n",
       "    }\n",
       "</style>\n",
       "<table border=\"1\" class=\"dataframe\">\n",
       "  <thead>\n",
       "    <tr style=\"text-align: right;\">\n",
       "      <th></th>\n",
       "      <th>state</th>\n",
       "      <th>response</th>\n",
       "      <th>coverage</th>\n",
       "      <th>education</th>\n",
       "      <th>employmentstatus</th>\n",
       "      <th>gender</th>\n",
       "      <th>location code</th>\n",
       "      <th>marital status</th>\n",
       "      <th>policy type</th>\n",
       "      <th>policy</th>\n",
       "      <th>renew offer type</th>\n",
       "      <th>sales channel</th>\n",
       "      <th>vehicle class</th>\n",
       "      <th>vehicle size</th>\n",
       "      <th>vehicle type</th>\n",
       "      <th>months</th>\n",
       "    </tr>\n",
       "  </thead>\n",
       "  <tbody>\n",
       "    <tr>\n",
       "      <th>2</th>\n",
       "      <td>Washington</td>\n",
       "      <td>No</td>\n",
       "      <td>Basic</td>\n",
       "      <td>Bachelor</td>\n",
       "      <td>Employed</td>\n",
       "      <td>M</td>\n",
       "      <td>Suburban</td>\n",
       "      <td>Single</td>\n",
       "      <td>Personal Auto</td>\n",
       "      <td>Personal L3</td>\n",
       "      <td>Offer3</td>\n",
       "      <td>Call Center</td>\n",
       "      <td>SUV</td>\n",
       "      <td>Medsize</td>\n",
       "      <td>A</td>\n",
       "      <td>February</td>\n",
       "    </tr>\n",
       "    <tr>\n",
       "      <th>3</th>\n",
       "      <td>Oregon</td>\n",
       "      <td>Yes</td>\n",
       "      <td>Extended</td>\n",
       "      <td>College</td>\n",
       "      <td>Employed</td>\n",
       "      <td>M</td>\n",
       "      <td>Suburban</td>\n",
       "      <td>Single</td>\n",
       "      <td>Corporate Auto</td>\n",
       "      <td>Corporate L3</td>\n",
       "      <td>Offer2</td>\n",
       "      <td>Branch</td>\n",
       "      <td>Four-Door Car</td>\n",
       "      <td>Medsize</td>\n",
       "      <td>A</td>\n",
       "      <td>January</td>\n",
       "    </tr>\n",
       "    <tr>\n",
       "      <th>10</th>\n",
       "      <td>Arizona</td>\n",
       "      <td>No</td>\n",
       "      <td>Extended</td>\n",
       "      <td>High School or Below</td>\n",
       "      <td>Employed</td>\n",
       "      <td>M</td>\n",
       "      <td>Urban</td>\n",
       "      <td>Married</td>\n",
       "      <td>Corporate Auto</td>\n",
       "      <td>Corporate L3</td>\n",
       "      <td>Offer2</td>\n",
       "      <td>Branch</td>\n",
       "      <td>SUV</td>\n",
       "      <td>Large</td>\n",
       "      <td>A</td>\n",
       "      <td>January</td>\n",
       "    </tr>\n",
       "    <tr>\n",
       "      <th>13</th>\n",
       "      <td>California</td>\n",
       "      <td>No</td>\n",
       "      <td>Basic</td>\n",
       "      <td>Master</td>\n",
       "      <td>Employed</td>\n",
       "      <td>M</td>\n",
       "      <td>Suburban</td>\n",
       "      <td>Single</td>\n",
       "      <td>Personal Auto</td>\n",
       "      <td>Personal L3</td>\n",
       "      <td>Offer4</td>\n",
       "      <td>Call Center</td>\n",
       "      <td>Two-Door Car</td>\n",
       "      <td>Medsize</td>\n",
       "      <td>A</td>\n",
       "      <td>January</td>\n",
       "    </tr>\n",
       "    <tr>\n",
       "      <th>16</th>\n",
       "      <td>California</td>\n",
       "      <td>No</td>\n",
       "      <td>Basic</td>\n",
       "      <td>High School or Below</td>\n",
       "      <td>Employed</td>\n",
       "      <td>F</td>\n",
       "      <td>Urban</td>\n",
       "      <td>Married</td>\n",
       "      <td>Personal Auto</td>\n",
       "      <td>Personal L3</td>\n",
       "      <td>Offer4</td>\n",
       "      <td>Call Center</td>\n",
       "      <td>Two-Door Car</td>\n",
       "      <td>Large</td>\n",
       "      <td>A</td>\n",
       "      <td>February</td>\n",
       "    </tr>\n",
       "  </tbody>\n",
       "</table>\n",
       "</div>"
      ],
      "text/plain": [
       "         state response  coverage             education employmentstatus  \\\n",
       "2   Washington       No     Basic              Bachelor         Employed   \n",
       "3       Oregon      Yes  Extended               College         Employed   \n",
       "10     Arizona       No  Extended  High School or Below         Employed   \n",
       "13  California       No     Basic                Master         Employed   \n",
       "16  California       No     Basic  High School or Below         Employed   \n",
       "\n",
       "   gender location code marital status     policy type        policy  \\\n",
       "2       M      Suburban         Single   Personal Auto   Personal L3   \n",
       "3       M      Suburban         Single  Corporate Auto  Corporate L3   \n",
       "10      M         Urban        Married  Corporate Auto  Corporate L3   \n",
       "13      M      Suburban         Single   Personal Auto   Personal L3   \n",
       "16      F         Urban        Married   Personal Auto   Personal L3   \n",
       "\n",
       "   renew offer type sales channel  vehicle class vehicle size vehicle type  \\\n",
       "2            Offer3   Call Center            SUV      Medsize            A   \n",
       "3            Offer2        Branch  Four-Door Car      Medsize            A   \n",
       "10           Offer2        Branch            SUV        Large            A   \n",
       "13           Offer4   Call Center   Two-Door Car      Medsize            A   \n",
       "16           Offer4   Call Center   Two-Door Car        Large            A   \n",
       "\n",
       "      months  \n",
       "2   February  \n",
       "3    January  \n",
       "10   January  \n",
       "13   January  \n",
       "16  February  "
      ]
     },
     "metadata": {},
     "output_type": "display_data"
    },
    {
     "data": {
      "text/plain": [
       "(4543, 16)"
      ]
     },
     "metadata": {},
     "output_type": "display_data"
    }
   ],
   "source": [
    "#Dropping 'customer' column\n",
    "X_cat = X_cat.drop(['customer'], axis=1)\n",
    "\n",
    "# New dataset\n",
    "display(X_cat.head())\n",
    "display(X_cat.shape)\n"
   ]
  },
  {
   "cell_type": "code",
   "execution_count": 3186,
   "id": "4d07b17d",
   "metadata": {
    "scrolled": true
   },
   "outputs": [
    {
     "name": "stderr",
     "output_type": "stream",
     "text": [
      "/Users/albertlleidaestival/opt/anaconda3/lib/python3.9/site-packages/sklearn/utils/deprecation.py:87: FutureWarning: Function get_feature_names is deprecated; get_feature_names is deprecated in 1.0 and will be removed in 1.2. Please use get_feature_names_out instead.\n",
      "  warnings.warn(msg, category=FutureWarning)\n"
     ]
    },
    {
     "data": {
      "text/html": [
       "<div>\n",
       "<style scoped>\n",
       "    .dataframe tbody tr th:only-of-type {\n",
       "        vertical-align: middle;\n",
       "    }\n",
       "\n",
       "    .dataframe tbody tr th {\n",
       "        vertical-align: top;\n",
       "    }\n",
       "\n",
       "    .dataframe thead th {\n",
       "        text-align: right;\n",
       "    }\n",
       "</style>\n",
       "<table border=\"1\" class=\"dataframe\">\n",
       "  <thead>\n",
       "    <tr style=\"text-align: right;\">\n",
       "      <th></th>\n",
       "      <th>state_California</th>\n",
       "      <th>state_Nevada</th>\n",
       "      <th>state_Oregon</th>\n",
       "      <th>state_Washington</th>\n",
       "      <th>response_Yes</th>\n",
       "      <th>coverage_Extended</th>\n",
       "      <th>coverage_Premium</th>\n",
       "      <th>education_College</th>\n",
       "      <th>education_Doctor</th>\n",
       "      <th>education_High School or Below</th>\n",
       "      <th>...</th>\n",
       "      <th>sales channel_Call Center</th>\n",
       "      <th>sales channel_Web</th>\n",
       "      <th>vehicle class_Luxury Car</th>\n",
       "      <th>vehicle class_Luxury SUV</th>\n",
       "      <th>vehicle class_SUV</th>\n",
       "      <th>vehicle class_Sports Car</th>\n",
       "      <th>vehicle class_Two-Door Car</th>\n",
       "      <th>vehicle size_Medsize</th>\n",
       "      <th>vehicle size_Small</th>\n",
       "      <th>months_January</th>\n",
       "    </tr>\n",
       "  </thead>\n",
       "  <tbody>\n",
       "    <tr>\n",
       "      <th>0</th>\n",
       "      <td>0.0</td>\n",
       "      <td>0.0</td>\n",
       "      <td>0.0</td>\n",
       "      <td>1.0</td>\n",
       "      <td>0.0</td>\n",
       "      <td>0.0</td>\n",
       "      <td>0.0</td>\n",
       "      <td>0.0</td>\n",
       "      <td>0.0</td>\n",
       "      <td>0.0</td>\n",
       "      <td>...</td>\n",
       "      <td>1.0</td>\n",
       "      <td>0.0</td>\n",
       "      <td>0.0</td>\n",
       "      <td>0.0</td>\n",
       "      <td>1.0</td>\n",
       "      <td>0.0</td>\n",
       "      <td>0.0</td>\n",
       "      <td>1.0</td>\n",
       "      <td>0.0</td>\n",
       "      <td>0.0</td>\n",
       "    </tr>\n",
       "    <tr>\n",
       "      <th>1</th>\n",
       "      <td>0.0</td>\n",
       "      <td>0.0</td>\n",
       "      <td>1.0</td>\n",
       "      <td>0.0</td>\n",
       "      <td>1.0</td>\n",
       "      <td>1.0</td>\n",
       "      <td>0.0</td>\n",
       "      <td>1.0</td>\n",
       "      <td>0.0</td>\n",
       "      <td>0.0</td>\n",
       "      <td>...</td>\n",
       "      <td>0.0</td>\n",
       "      <td>0.0</td>\n",
       "      <td>0.0</td>\n",
       "      <td>0.0</td>\n",
       "      <td>0.0</td>\n",
       "      <td>0.0</td>\n",
       "      <td>0.0</td>\n",
       "      <td>1.0</td>\n",
       "      <td>0.0</td>\n",
       "      <td>1.0</td>\n",
       "    </tr>\n",
       "    <tr>\n",
       "      <th>2</th>\n",
       "      <td>0.0</td>\n",
       "      <td>0.0</td>\n",
       "      <td>0.0</td>\n",
       "      <td>0.0</td>\n",
       "      <td>0.0</td>\n",
       "      <td>1.0</td>\n",
       "      <td>0.0</td>\n",
       "      <td>0.0</td>\n",
       "      <td>0.0</td>\n",
       "      <td>1.0</td>\n",
       "      <td>...</td>\n",
       "      <td>0.0</td>\n",
       "      <td>0.0</td>\n",
       "      <td>0.0</td>\n",
       "      <td>0.0</td>\n",
       "      <td>1.0</td>\n",
       "      <td>0.0</td>\n",
       "      <td>0.0</td>\n",
       "      <td>0.0</td>\n",
       "      <td>0.0</td>\n",
       "      <td>1.0</td>\n",
       "    </tr>\n",
       "    <tr>\n",
       "      <th>3</th>\n",
       "      <td>1.0</td>\n",
       "      <td>0.0</td>\n",
       "      <td>0.0</td>\n",
       "      <td>0.0</td>\n",
       "      <td>0.0</td>\n",
       "      <td>0.0</td>\n",
       "      <td>0.0</td>\n",
       "      <td>0.0</td>\n",
       "      <td>0.0</td>\n",
       "      <td>0.0</td>\n",
       "      <td>...</td>\n",
       "      <td>1.0</td>\n",
       "      <td>0.0</td>\n",
       "      <td>0.0</td>\n",
       "      <td>0.0</td>\n",
       "      <td>0.0</td>\n",
       "      <td>0.0</td>\n",
       "      <td>1.0</td>\n",
       "      <td>1.0</td>\n",
       "      <td>0.0</td>\n",
       "      <td>1.0</td>\n",
       "    </tr>\n",
       "    <tr>\n",
       "      <th>4</th>\n",
       "      <td>1.0</td>\n",
       "      <td>0.0</td>\n",
       "      <td>0.0</td>\n",
       "      <td>0.0</td>\n",
       "      <td>0.0</td>\n",
       "      <td>0.0</td>\n",
       "      <td>0.0</td>\n",
       "      <td>0.0</td>\n",
       "      <td>0.0</td>\n",
       "      <td>1.0</td>\n",
       "      <td>...</td>\n",
       "      <td>1.0</td>\n",
       "      <td>0.0</td>\n",
       "      <td>0.0</td>\n",
       "      <td>0.0</td>\n",
       "      <td>0.0</td>\n",
       "      <td>0.0</td>\n",
       "      <td>1.0</td>\n",
       "      <td>0.0</td>\n",
       "      <td>0.0</td>\n",
       "      <td>0.0</td>\n",
       "    </tr>\n",
       "  </tbody>\n",
       "</table>\n",
       "<p>5 rows × 44 columns</p>\n",
       "</div>"
      ],
      "text/plain": [
       "   state_California  state_Nevada  state_Oregon  state_Washington  \\\n",
       "0               0.0           0.0           0.0               1.0   \n",
       "1               0.0           0.0           1.0               0.0   \n",
       "2               0.0           0.0           0.0               0.0   \n",
       "3               1.0           0.0           0.0               0.0   \n",
       "4               1.0           0.0           0.0               0.0   \n",
       "\n",
       "   response_Yes  coverage_Extended  coverage_Premium  education_College  \\\n",
       "0           0.0                0.0               0.0                0.0   \n",
       "1           1.0                1.0               0.0                1.0   \n",
       "2           0.0                1.0               0.0                0.0   \n",
       "3           0.0                0.0               0.0                0.0   \n",
       "4           0.0                0.0               0.0                0.0   \n",
       "\n",
       "   education_Doctor  education_High School or Below  ...  \\\n",
       "0               0.0                             0.0  ...   \n",
       "1               0.0                             0.0  ...   \n",
       "2               0.0                             1.0  ...   \n",
       "3               0.0                             0.0  ...   \n",
       "4               0.0                             1.0  ...   \n",
       "\n",
       "   sales channel_Call Center  sales channel_Web  vehicle class_Luxury Car  \\\n",
       "0                        1.0                0.0                       0.0   \n",
       "1                        0.0                0.0                       0.0   \n",
       "2                        0.0                0.0                       0.0   \n",
       "3                        1.0                0.0                       0.0   \n",
       "4                        1.0                0.0                       0.0   \n",
       "\n",
       "   vehicle class_Luxury SUV  vehicle class_SUV  vehicle class_Sports Car  \\\n",
       "0                       0.0                1.0                       0.0   \n",
       "1                       0.0                0.0                       0.0   \n",
       "2                       0.0                1.0                       0.0   \n",
       "3                       0.0                0.0                       0.0   \n",
       "4                       0.0                0.0                       0.0   \n",
       "\n",
       "   vehicle class_Two-Door Car  vehicle size_Medsize  vehicle size_Small  \\\n",
       "0                         0.0                   1.0                 0.0   \n",
       "1                         0.0                   1.0                 0.0   \n",
       "2                         0.0                   0.0                 0.0   \n",
       "3                         1.0                   1.0                 0.0   \n",
       "4                         1.0                   0.0                 0.0   \n",
       "\n",
       "   months_January  \n",
       "0             0.0  \n",
       "1             1.0  \n",
       "2             1.0  \n",
       "3             1.0  \n",
       "4             0.0  \n",
       "\n",
       "[5 rows x 44 columns]"
      ]
     },
     "execution_count": 3186,
     "metadata": {},
     "output_type": "execute_result"
    }
   ],
   "source": [
    "# Proceeding to apply ONE HOT ENCODER\n",
    "\n",
    "from sklearn.preprocessing import OneHotEncoder\n",
    "\n",
    "# Generating encoder\n",
    "encoder = OneHotEncoder(drop='first').fit(X_cat)\n",
    "\n",
    "# Applying encoder\n",
    "cols = encoder.get_feature_names(input_features = X_cat.columns)\n",
    "\n",
    "# Converting to a datafram\n",
    "X_cat_encode = pd.DataFrame(encoder.transform(X_cat).toarray(),columns=cols)\n",
    "\n",
    "# Checking if encoding worked (all values should be 0 or 1)\n",
    "X_cat_encode.head()"
   ]
  },
  {
   "cell_type": "markdown",
   "id": "e96dc358",
   "metadata": {},
   "source": [
    "#### 4. Concat DataFrames\n",
    "Clear the existing index and reset it in the result by setting the ignore_index option to True."
   ]
  },
  {
   "cell_type": "code",
   "execution_count": 3187,
   "id": "ba99496f",
   "metadata": {},
   "outputs": [],
   "source": [
    "#Concatenatig both dataframes: X_normalized (normalized numerical values) and X_cat_encode (encoded categorical values)\n",
    "X = pd.concat([X_normalized, X_cat_encode], axis=1)"
   ]
  },
  {
   "cell_type": "code",
   "execution_count": 3188,
   "id": "e48ad99b",
   "metadata": {},
   "outputs": [
    {
     "data": {
      "text/html": [
       "<div>\n",
       "<style scoped>\n",
       "    .dataframe tbody tr th:only-of-type {\n",
       "        vertical-align: middle;\n",
       "    }\n",
       "\n",
       "    .dataframe tbody tr th {\n",
       "        vertical-align: top;\n",
       "    }\n",
       "\n",
       "    .dataframe thead th {\n",
       "        text-align: right;\n",
       "    }\n",
       "</style>\n",
       "<table border=\"1\" class=\"dataframe\">\n",
       "  <thead>\n",
       "    <tr style=\"text-align: right;\">\n",
       "      <th></th>\n",
       "      <th>customer lifetime value</th>\n",
       "      <th>income</th>\n",
       "      <th>monthly premium auto</th>\n",
       "      <th>months since last claim</th>\n",
       "      <th>months since policy inception</th>\n",
       "      <th>number of open complaints</th>\n",
       "      <th>number of policies</th>\n",
       "      <th>response rate</th>\n",
       "      <th>state_California</th>\n",
       "      <th>state_Nevada</th>\n",
       "      <th>...</th>\n",
       "      <th>sales channel_Call Center</th>\n",
       "      <th>sales channel_Web</th>\n",
       "      <th>vehicle class_Luxury Car</th>\n",
       "      <th>vehicle class_Luxury SUV</th>\n",
       "      <th>vehicle class_SUV</th>\n",
       "      <th>vehicle class_Sports Car</th>\n",
       "      <th>vehicle class_Two-Door Car</th>\n",
       "      <th>vehicle size_Medsize</th>\n",
       "      <th>vehicle size_Small</th>\n",
       "      <th>months_January</th>\n",
       "    </tr>\n",
       "  </thead>\n",
       "  <tbody>\n",
       "    <tr>\n",
       "      <th>0</th>\n",
       "      <td>0.160203</td>\n",
       "      <td>0.221476</td>\n",
       "      <td>0.164557</td>\n",
       "      <td>0.971429</td>\n",
       "      <td>0.313131</td>\n",
       "      <td>0.0</td>\n",
       "      <td>0.125</td>\n",
       "      <td>0.0</td>\n",
       "      <td>0.0</td>\n",
       "      <td>0.0</td>\n",
       "      <td>...</td>\n",
       "      <td>1.0</td>\n",
       "      <td>0.0</td>\n",
       "      <td>0.0</td>\n",
       "      <td>0.0</td>\n",
       "      <td>1.0</td>\n",
       "      <td>0.0</td>\n",
       "      <td>0.0</td>\n",
       "      <td>1.0</td>\n",
       "      <td>0.0</td>\n",
       "      <td>0.0</td>\n",
       "    </tr>\n",
       "    <tr>\n",
       "      <th>1</th>\n",
       "      <td>0.250898</td>\n",
       "      <td>0.490971</td>\n",
       "      <td>0.151899</td>\n",
       "      <td>0.285714</td>\n",
       "      <td>0.030303</td>\n",
       "      <td>0.0</td>\n",
       "      <td>0.125</td>\n",
       "      <td>1.0</td>\n",
       "      <td>0.0</td>\n",
       "      <td>0.0</td>\n",
       "      <td>...</td>\n",
       "      <td>0.0</td>\n",
       "      <td>0.0</td>\n",
       "      <td>0.0</td>\n",
       "      <td>0.0</td>\n",
       "      <td>0.0</td>\n",
       "      <td>0.0</td>\n",
       "      <td>0.0</td>\n",
       "      <td>1.0</td>\n",
       "      <td>0.0</td>\n",
       "      <td>1.0</td>\n",
       "    </tr>\n",
       "    <tr>\n",
       "      <th>2</th>\n",
       "      <td>0.039925</td>\n",
       "      <td>0.827623</td>\n",
       "      <td>0.278481</td>\n",
       "      <td>0.371429</td>\n",
       "      <td>0.313131</td>\n",
       "      <td>0.0</td>\n",
       "      <td>0.000</td>\n",
       "      <td>0.0</td>\n",
       "      <td>0.0</td>\n",
       "      <td>0.0</td>\n",
       "      <td>...</td>\n",
       "      <td>0.0</td>\n",
       "      <td>0.0</td>\n",
       "      <td>0.0</td>\n",
       "      <td>0.0</td>\n",
       "      <td>1.0</td>\n",
       "      <td>0.0</td>\n",
       "      <td>0.0</td>\n",
       "      <td>0.0</td>\n",
       "      <td>0.0</td>\n",
       "      <td>1.0</td>\n",
       "    </tr>\n",
       "    <tr>\n",
       "      <th>3</th>\n",
       "      <td>0.043608</td>\n",
       "      <td>0.663599</td>\n",
       "      <td>0.033755</td>\n",
       "      <td>0.714286</td>\n",
       "      <td>0.252525</td>\n",
       "      <td>0.0</td>\n",
       "      <td>0.375</td>\n",
       "      <td>0.0</td>\n",
       "      <td>1.0</td>\n",
       "      <td>0.0</td>\n",
       "      <td>...</td>\n",
       "      <td>1.0</td>\n",
       "      <td>0.0</td>\n",
       "      <td>0.0</td>\n",
       "      <td>0.0</td>\n",
       "      <td>0.0</td>\n",
       "      <td>0.0</td>\n",
       "      <td>1.0</td>\n",
       "      <td>1.0</td>\n",
       "      <td>0.0</td>\n",
       "      <td>1.0</td>\n",
       "    </tr>\n",
       "    <tr>\n",
       "      <th>4</th>\n",
       "      <td>0.042037</td>\n",
       "      <td>0.767469</td>\n",
       "      <td>0.021097</td>\n",
       "      <td>0.742857</td>\n",
       "      <td>0.101010</td>\n",
       "      <td>0.0</td>\n",
       "      <td>0.625</td>\n",
       "      <td>0.0</td>\n",
       "      <td>1.0</td>\n",
       "      <td>0.0</td>\n",
       "      <td>...</td>\n",
       "      <td>1.0</td>\n",
       "      <td>0.0</td>\n",
       "      <td>0.0</td>\n",
       "      <td>0.0</td>\n",
       "      <td>0.0</td>\n",
       "      <td>0.0</td>\n",
       "      <td>1.0</td>\n",
       "      <td>0.0</td>\n",
       "      <td>0.0</td>\n",
       "      <td>0.0</td>\n",
       "    </tr>\n",
       "  </tbody>\n",
       "</table>\n",
       "<p>5 rows × 52 columns</p>\n",
       "</div>"
      ],
      "text/plain": [
       "   customer lifetime value    income  monthly premium auto  \\\n",
       "0                 0.160203  0.221476              0.164557   \n",
       "1                 0.250898  0.490971              0.151899   \n",
       "2                 0.039925  0.827623              0.278481   \n",
       "3                 0.043608  0.663599              0.033755   \n",
       "4                 0.042037  0.767469              0.021097   \n",
       "\n",
       "   months since last claim  months since policy inception  \\\n",
       "0                 0.971429                       0.313131   \n",
       "1                 0.285714                       0.030303   \n",
       "2                 0.371429                       0.313131   \n",
       "3                 0.714286                       0.252525   \n",
       "4                 0.742857                       0.101010   \n",
       "\n",
       "   number of open complaints  number of policies  response rate  \\\n",
       "0                        0.0               0.125            0.0   \n",
       "1                        0.0               0.125            1.0   \n",
       "2                        0.0               0.000            0.0   \n",
       "3                        0.0               0.375            0.0   \n",
       "4                        0.0               0.625            0.0   \n",
       "\n",
       "   state_California  state_Nevada  ...  sales channel_Call Center  \\\n",
       "0               0.0           0.0  ...                        1.0   \n",
       "1               0.0           0.0  ...                        0.0   \n",
       "2               0.0           0.0  ...                        0.0   \n",
       "3               1.0           0.0  ...                        1.0   \n",
       "4               1.0           0.0  ...                        1.0   \n",
       "\n",
       "   sales channel_Web  vehicle class_Luxury Car  vehicle class_Luxury SUV  \\\n",
       "0                0.0                       0.0                       0.0   \n",
       "1                0.0                       0.0                       0.0   \n",
       "2                0.0                       0.0                       0.0   \n",
       "3                0.0                       0.0                       0.0   \n",
       "4                0.0                       0.0                       0.0   \n",
       "\n",
       "   vehicle class_SUV  vehicle class_Sports Car  vehicle class_Two-Door Car  \\\n",
       "0                1.0                       0.0                         0.0   \n",
       "1                0.0                       0.0                         0.0   \n",
       "2                1.0                       0.0                         0.0   \n",
       "3                0.0                       0.0                         1.0   \n",
       "4                0.0                       0.0                         1.0   \n",
       "\n",
       "   vehicle size_Medsize  vehicle size_Small  months_January  \n",
       "0                   1.0                 0.0             0.0  \n",
       "1                   1.0                 0.0             1.0  \n",
       "2                   0.0                 0.0             1.0  \n",
       "3                   1.0                 0.0             1.0  \n",
       "4                   0.0                 0.0             0.0  \n",
       "\n",
       "[5 rows x 52 columns]"
      ]
     },
     "metadata": {},
     "output_type": "display_data"
    },
    {
     "data": {
      "text/plain": [
       "(4543, 52)"
      ]
     },
     "metadata": {},
     "output_type": "display_data"
    }
   ],
   "source": [
    "display(X.head())\n",
    "display(X.shape)"
   ]
  },
  {
   "cell_type": "markdown",
   "id": "42fb52bb",
   "metadata": {},
   "source": [
    "### Linear Regression"
   ]
  },
  {
   "cell_type": "markdown",
   "id": "ef2f55dc",
   "metadata": {},
   "source": [
    "#### 6. Train-test split."
   ]
  },
  {
   "cell_type": "code",
   "execution_count": 3189,
   "id": "9817c82e",
   "metadata": {},
   "outputs": [],
   "source": [
    "from sklearn.model_selection import train_test_split"
   ]
  },
  {
   "cell_type": "code",
   "execution_count": 3190,
   "id": "4d109e21",
   "metadata": {},
   "outputs": [
    {
     "data": {
      "text/plain": [
       "2     480.000000\n",
       "3     484.013411\n",
       "10    442.521087\n",
       "13    331.200000\n",
       "16    300.528579\n",
       "Name: total claim amount, dtype: float64"
      ]
     },
     "execution_count": 3190,
     "metadata": {},
     "output_type": "execute_result"
    }
   ],
   "source": [
    "# Target to predict: 'Total claim amount' (Y)\n",
    "y.head()"
   ]
  },
  {
   "cell_type": "code",
   "execution_count": 3191,
   "id": "6d69f16e",
   "metadata": {},
   "outputs": [
    {
     "name": "stdout",
     "output_type": "stream",
     "text": [
      "X_train:  (3634, 52)\n",
      "X_test:  (909, 52)\n",
      "y_train:  (3634,)\n",
      "y_test:  (909,)\n"
     ]
    }
   ],
   "source": [
    "# Training and testing data: randomly selected 80% data for training, 20% for testing.\n",
    "X_train, X_test, y_train, y_test = train_test_split(X, y, test_size=0.2)\n",
    "\n",
    "print(\"X_train: \", X_train.shape)\n",
    "print(\"X_test: \", X_test.shape)\n",
    "print(\"y_train: \",y_train.shape)\n",
    "print(\"y_test: \",y_test.shape)"
   ]
  },
  {
   "cell_type": "code",
   "execution_count": 3192,
   "id": "e3f5875a",
   "metadata": {},
   "outputs": [
    {
     "data": {
      "text/html": [
       "<div>\n",
       "<style scoped>\n",
       "    .dataframe tbody tr th:only-of-type {\n",
       "        vertical-align: middle;\n",
       "    }\n",
       "\n",
       "    .dataframe tbody tr th {\n",
       "        vertical-align: top;\n",
       "    }\n",
       "\n",
       "    .dataframe thead th {\n",
       "        text-align: right;\n",
       "    }\n",
       "</style>\n",
       "<table border=\"1\" class=\"dataframe\">\n",
       "  <thead>\n",
       "    <tr style=\"text-align: right;\">\n",
       "      <th></th>\n",
       "      <th>customer lifetime value</th>\n",
       "      <th>income</th>\n",
       "      <th>monthly premium auto</th>\n",
       "      <th>months since last claim</th>\n",
       "      <th>months since policy inception</th>\n",
       "      <th>number of open complaints</th>\n",
       "      <th>number of policies</th>\n",
       "      <th>response rate</th>\n",
       "      <th>state_California</th>\n",
       "      <th>state_Nevada</th>\n",
       "      <th>...</th>\n",
       "      <th>sales channel_Call Center</th>\n",
       "      <th>sales channel_Web</th>\n",
       "      <th>vehicle class_Luxury Car</th>\n",
       "      <th>vehicle class_Luxury SUV</th>\n",
       "      <th>vehicle class_SUV</th>\n",
       "      <th>vehicle class_Sports Car</th>\n",
       "      <th>vehicle class_Two-Door Car</th>\n",
       "      <th>vehicle size_Medsize</th>\n",
       "      <th>vehicle size_Small</th>\n",
       "      <th>months_January</th>\n",
       "    </tr>\n",
       "  </thead>\n",
       "  <tbody>\n",
       "    <tr>\n",
       "      <th>1442</th>\n",
       "      <td>0.102157</td>\n",
       "      <td>0.000000</td>\n",
       "      <td>0.308017</td>\n",
       "      <td>0.657143</td>\n",
       "      <td>0.161616</td>\n",
       "      <td>0.0</td>\n",
       "      <td>0.375</td>\n",
       "      <td>0.0</td>\n",
       "      <td>0.0</td>\n",
       "      <td>0.0</td>\n",
       "      <td>...</td>\n",
       "      <td>0.0</td>\n",
       "      <td>0.0</td>\n",
       "      <td>0.0</td>\n",
       "      <td>0.0</td>\n",
       "      <td>1.0</td>\n",
       "      <td>0.0</td>\n",
       "      <td>0.0</td>\n",
       "      <td>0.0</td>\n",
       "      <td>1.0</td>\n",
       "      <td>1.0</td>\n",
       "    </tr>\n",
       "    <tr>\n",
       "      <th>1325</th>\n",
       "      <td>0.005477</td>\n",
       "      <td>0.000000</td>\n",
       "      <td>0.037975</td>\n",
       "      <td>0.600000</td>\n",
       "      <td>0.050505</td>\n",
       "      <td>0.0</td>\n",
       "      <td>0.000</td>\n",
       "      <td>0.0</td>\n",
       "      <td>0.0</td>\n",
       "      <td>0.0</td>\n",
       "      <td>...</td>\n",
       "      <td>1.0</td>\n",
       "      <td>0.0</td>\n",
       "      <td>0.0</td>\n",
       "      <td>0.0</td>\n",
       "      <td>0.0</td>\n",
       "      <td>0.0</td>\n",
       "      <td>0.0</td>\n",
       "      <td>0.0</td>\n",
       "      <td>0.0</td>\n",
       "      <td>0.0</td>\n",
       "    </tr>\n",
       "    <tr>\n",
       "      <th>4218</th>\n",
       "      <td>0.035804</td>\n",
       "      <td>0.747592</td>\n",
       "      <td>0.000000</td>\n",
       "      <td>0.514286</td>\n",
       "      <td>0.848485</td>\n",
       "      <td>0.0</td>\n",
       "      <td>0.625</td>\n",
       "      <td>0.0</td>\n",
       "      <td>0.0</td>\n",
       "      <td>0.0</td>\n",
       "      <td>...</td>\n",
       "      <td>0.0</td>\n",
       "      <td>0.0</td>\n",
       "      <td>0.0</td>\n",
       "      <td>0.0</td>\n",
       "      <td>0.0</td>\n",
       "      <td>0.0</td>\n",
       "      <td>0.0</td>\n",
       "      <td>0.0</td>\n",
       "      <td>1.0</td>\n",
       "      <td>0.0</td>\n",
       "    </tr>\n",
       "    <tr>\n",
       "      <th>1465</th>\n",
       "      <td>0.076227</td>\n",
       "      <td>0.365683</td>\n",
       "      <td>0.037975</td>\n",
       "      <td>0.171429</td>\n",
       "      <td>0.626263</td>\n",
       "      <td>0.2</td>\n",
       "      <td>0.125</td>\n",
       "      <td>0.0</td>\n",
       "      <td>1.0</td>\n",
       "      <td>0.0</td>\n",
       "      <td>...</td>\n",
       "      <td>1.0</td>\n",
       "      <td>0.0</td>\n",
       "      <td>0.0</td>\n",
       "      <td>0.0</td>\n",
       "      <td>0.0</td>\n",
       "      <td>0.0</td>\n",
       "      <td>1.0</td>\n",
       "      <td>0.0</td>\n",
       "      <td>1.0</td>\n",
       "      <td>0.0</td>\n",
       "    </tr>\n",
       "    <tr>\n",
       "      <th>1103</th>\n",
       "      <td>0.006544</td>\n",
       "      <td>0.000000</td>\n",
       "      <td>0.016878</td>\n",
       "      <td>0.971429</td>\n",
       "      <td>0.848485</td>\n",
       "      <td>0.0</td>\n",
       "      <td>0.000</td>\n",
       "      <td>0.0</td>\n",
       "      <td>0.0</td>\n",
       "      <td>0.0</td>\n",
       "      <td>...</td>\n",
       "      <td>0.0</td>\n",
       "      <td>0.0</td>\n",
       "      <td>0.0</td>\n",
       "      <td>0.0</td>\n",
       "      <td>0.0</td>\n",
       "      <td>0.0</td>\n",
       "      <td>1.0</td>\n",
       "      <td>0.0</td>\n",
       "      <td>0.0</td>\n",
       "      <td>0.0</td>\n",
       "    </tr>\n",
       "  </tbody>\n",
       "</table>\n",
       "<p>5 rows × 52 columns</p>\n",
       "</div>"
      ],
      "text/plain": [
       "      customer lifetime value    income  monthly premium auto  \\\n",
       "1442                 0.102157  0.000000              0.308017   \n",
       "1325                 0.005477  0.000000              0.037975   \n",
       "4218                 0.035804  0.747592              0.000000   \n",
       "1465                 0.076227  0.365683              0.037975   \n",
       "1103                 0.006544  0.000000              0.016878   \n",
       "\n",
       "      months since last claim  months since policy inception  \\\n",
       "1442                 0.657143                       0.161616   \n",
       "1325                 0.600000                       0.050505   \n",
       "4218                 0.514286                       0.848485   \n",
       "1465                 0.171429                       0.626263   \n",
       "1103                 0.971429                       0.848485   \n",
       "\n",
       "      number of open complaints  number of policies  response rate  \\\n",
       "1442                        0.0               0.375            0.0   \n",
       "1325                        0.0               0.000            0.0   \n",
       "4218                        0.0               0.625            0.0   \n",
       "1465                        0.2               0.125            0.0   \n",
       "1103                        0.0               0.000            0.0   \n",
       "\n",
       "      state_California  state_Nevada  ...  sales channel_Call Center  \\\n",
       "1442               0.0           0.0  ...                        0.0   \n",
       "1325               0.0           0.0  ...                        1.0   \n",
       "4218               0.0           0.0  ...                        0.0   \n",
       "1465               1.0           0.0  ...                        1.0   \n",
       "1103               0.0           0.0  ...                        0.0   \n",
       "\n",
       "      sales channel_Web  vehicle class_Luxury Car  vehicle class_Luxury SUV  \\\n",
       "1442                0.0                       0.0                       0.0   \n",
       "1325                0.0                       0.0                       0.0   \n",
       "4218                0.0                       0.0                       0.0   \n",
       "1465                0.0                       0.0                       0.0   \n",
       "1103                0.0                       0.0                       0.0   \n",
       "\n",
       "      vehicle class_SUV  vehicle class_Sports Car  vehicle class_Two-Door Car  \\\n",
       "1442                1.0                       0.0                         0.0   \n",
       "1325                0.0                       0.0                         0.0   \n",
       "4218                0.0                       0.0                         0.0   \n",
       "1465                0.0                       0.0                         1.0   \n",
       "1103                0.0                       0.0                         1.0   \n",
       "\n",
       "      vehicle size_Medsize  vehicle size_Small  months_January  \n",
       "1442                   0.0                 1.0             1.0  \n",
       "1325                   0.0                 0.0             0.0  \n",
       "4218                   0.0                 1.0             0.0  \n",
       "1465                   0.0                 1.0             0.0  \n",
       "1103                   0.0                 0.0             0.0  \n",
       "\n",
       "[5 rows x 52 columns]"
      ]
     },
     "execution_count": 3192,
     "metadata": {},
     "output_type": "execute_result"
    }
   ],
   "source": [
    "X_train.head()"
   ]
  },
  {
   "cell_type": "code",
   "execution_count": 3193,
   "id": "6c553447",
   "metadata": {},
   "outputs": [
    {
     "data": {
      "text/plain": [
       "3602     643.200000\n",
       "3317     716.672760\n",
       "10142    421.235276\n",
       "3653     433.388420\n",
       "2788     149.241472\n",
       "Name: total claim amount, dtype: float64"
      ]
     },
     "execution_count": 3193,
     "metadata": {},
     "output_type": "execute_result"
    }
   ],
   "source": [
    "y_train.head()"
   ]
  },
  {
   "cell_type": "markdown",
   "id": "3bac3409",
   "metadata": {},
   "source": [
    "#### 6. Apply linear regression"
   ]
  },
  {
   "cell_type": "code",
   "execution_count": 3194,
   "id": "ad565ad3",
   "metadata": {},
   "outputs": [],
   "source": [
    "from sklearn import linear_model"
   ]
  },
  {
   "cell_type": "code",
   "execution_count": 3195,
   "id": "2ab0d183",
   "metadata": {},
   "outputs": [
    {
     "data": {
      "text/plain": [
       "LinearRegression()"
      ]
     },
     "execution_count": 3195,
     "metadata": {},
     "output_type": "execute_result"
    }
   ],
   "source": [
    "# Creating the model of linear regression and training it (80% of data)\n",
    "lm = linear_model.LinearRegression()\n",
    "lm.fit(X_train,y_train)"
   ]
  },
  {
   "cell_type": "code",
   "execution_count": 3196,
   "id": "4c7f576c",
   "metadata": {},
   "outputs": [
    {
     "data": {
      "text/plain": [
       "array([768.3955551 , 557.44877776, 424.24931487, 403.40275725,\n",
       "        56.13688811])"
      ]
     },
     "execution_count": 3196,
     "metadata": {},
     "output_type": "execute_result"
    }
   ],
   "source": [
    "# Now we can first generate predictions with the TRAINING data\n",
    "#from sklearn.metrics import r2_score\n",
    "\n",
    "predictions = lm.predict(X_train)\n",
    "predictions[:5]\n",
    "#r2_score(y_train, predictions)"
   ]
  },
  {
   "cell_type": "code",
   "execution_count": 3197,
   "id": "e73b6d03",
   "metadata": {},
   "outputs": [
    {
     "data": {
      "text/plain": [
       "array([  92.41703948,   89.00029143,  391.36345061,  705.47270354,\n",
       "       1428.83989104])"
      ]
     },
     "execution_count": 3197,
     "metadata": {},
     "output_type": "execute_result"
    }
   ],
   "source": [
    "# Then we proceed equally for the TEST portion of the data \n",
    "predictions_test = lm.predict(X_test)\n",
    "predictions_test[:5]\n",
    "#r2_score(y_test, predictions_test)"
   ]
  },
  {
   "cell_type": "code",
   "execution_count": 3198,
   "id": "15bfab4f",
   "metadata": {},
   "outputs": [
    {
     "data": {
      "text/plain": [
       "'y_test results'"
      ]
     },
     "metadata": {},
     "output_type": "display_data"
    },
    {
     "data": {
      "text/plain": [
       "8976       4.719043\n",
       "1611      17.558721\n",
       "7364     321.600000\n",
       "4253     542.400000\n",
       "1158    1965.600000\n",
       "Name: total claim amount, dtype: float64"
      ]
     },
     "metadata": {},
     "output_type": "display_data"
    },
    {
     "data": {
      "text/plain": [
       "'predictions_test results'"
      ]
     },
     "metadata": {},
     "output_type": "display_data"
    },
    {
     "data": {
      "text/plain": [
       "array([  92.41703948,   89.00029143,  391.36345061,  705.47270354,\n",
       "       1428.83989104])"
      ]
     },
     "metadata": {},
     "output_type": "display_data"
    }
   ],
   "source": [
    "# Finally we can compare the prediction of both types.\n",
    "display(\"y_test results\", y_test[:5] )\n",
    "display (\"predictions_test results\", predictions_test[:5])"
   ]
  },
  {
   "cell_type": "markdown",
   "id": "91aae6ba",
   "metadata": {},
   "source": [
    "### Model Validation"
   ]
  },
  {
   "cell_type": "markdown",
   "id": "eb6f2123",
   "metadata": {},
   "source": [
    "#### 7. Description R2, MSE, RMSE, MAE\n",
    "Explain the errors and predictive ability of the model."
   ]
  },
  {
   "cell_type": "markdown",
   "id": "6dd031fc",
   "metadata": {},
   "source": [
    "###### R2"
   ]
  },
  {
   "cell_type": "markdown",
   "id": "a0132139",
   "metadata": {},
   "source": [
    "R-squared (Coefficient of determination) represents the coefficient of how well the values fit compared to the original values. The value from 0 to 1 interpreted as percentages. The higher the value is, the better the model is.\n"
   ]
  },
  {
   "cell_type": "code",
   "execution_count": 3199,
   "id": "03316588",
   "metadata": {},
   "outputs": [],
   "source": [
    "from sklearn.metrics import r2_score"
   ]
  },
  {
   "cell_type": "code",
   "execution_count": 3200,
   "id": "2726138d",
   "metadata": {},
   "outputs": [
    {
     "name": "stdout",
     "output_type": "stream",
     "text": [
      "R-squared error coefficient with TRAINING data is: 0.7730450504125146\n"
     ]
    }
   ],
   "source": [
    "# Getting same 'y_test' and 'predictions_test' values from last exercise\n",
    "y_test\n",
    "predictions_test\n",
    "\n",
    "r2_sytrain = r2_score(y_train, predictions)\n",
    "\n",
    "print(\"R-squared error coefficient with TRAINING data is:\", r2_sytrain)"
   ]
  },
  {
   "cell_type": "code",
   "execution_count": 3201,
   "id": "136c2a01",
   "metadata": {},
   "outputs": [
    {
     "name": "stdout",
     "output_type": "stream",
     "text": [
      "R-squared error coefficient with TEST data is: 0.7609095438616293\n"
     ]
    }
   ],
   "source": [
    "# Getting same 'predictions-test' values from last exercise\n",
    "predictions_test \n",
    "\n",
    "r2_sytest = r2_score(y_test, predictions_test)\n",
    "\n",
    "print(\"R-squared error coefficient with TEST data is:\", r2_sytest)"
   ]
  },
  {
   "cell_type": "markdown",
   "id": "c9bc8784",
   "metadata": {},
   "source": [
    "###### MSE"
   ]
  },
  {
   "cell_type": "markdown",
   "id": "5cb85759",
   "metadata": {},
   "source": [
    "Mean Squared Error represents the difference between the original and predicted values extracted by squared the average difference over the data set.\n"
   ]
  },
  {
   "cell_type": "code",
   "execution_count": 3202,
   "id": "8c7e988a",
   "metadata": {},
   "outputs": [],
   "source": [
    "from sklearn.metrics import mean_squared_error"
   ]
  },
  {
   "cell_type": "code",
   "execution_count": 3203,
   "id": "6b35dce1",
   "metadata": {},
   "outputs": [
    {
     "name": "stdout",
     "output_type": "stream",
     "text": [
      "Mean Squared Error value with test data is: 23516.54754964827\n"
     ]
    }
   ],
   "source": [
    "# Getting same 'y_test' and 'predictions_test' values from last exercise\n",
    "y_test\n",
    "predictions_test\n",
    "\n",
    "mse=mean_squared_error(y_test,predictions_test)\n",
    "mse\n",
    "\n",
    "print(\"Mean Squared Error value with test data is:\", mse)"
   ]
  },
  {
   "cell_type": "markdown",
   "id": "d73e7965",
   "metadata": {},
   "source": [
    "###### RMSE"
   ]
  },
  {
   "cell_type": "markdown",
   "id": "9c110ea0",
   "metadata": {},
   "source": [
    "Root Mean Squared Error is the error rate by the square root of MSE."
   ]
  },
  {
   "cell_type": "code",
   "execution_count": 3204,
   "id": "cb439c3e",
   "metadata": {},
   "outputs": [
    {
     "name": "stdout",
     "output_type": "stream",
     "text": [
      "Root Mean Squared Error value with test data is: 153.35105982564409\n"
     ]
    }
   ],
   "source": [
    "# Getting same 'y_test' and 'predictions_test' values from last exercise\n",
    "y_test\n",
    "predictions_test\n",
    "\n",
    "rmse = np.sqrt(mean_squared_error(y_test,predictions_test))\n",
    "rmse\n",
    "\n",
    "print(\"Root Mean Squared Error value with test data is:\", rmse)"
   ]
  },
  {
   "cell_type": "markdown",
   "id": "2da4af76",
   "metadata": {},
   "source": [
    "###### MAE"
   ]
  },
  {
   "cell_type": "markdown",
   "id": "1e70cc95",
   "metadata": {},
   "source": [
    "Mean absolute error represents the difference between the original and predicted values extracted by averaged the absolute difference over the data set."
   ]
  },
  {
   "cell_type": "code",
   "execution_count": 3205,
   "id": "8f4894c4",
   "metadata": {},
   "outputs": [],
   "source": [
    "from sklearn.metrics import mean_absolute_error, r2_score"
   ]
  },
  {
   "cell_type": "code",
   "execution_count": 3206,
   "id": "7f892c52",
   "metadata": {},
   "outputs": [
    {
     "name": "stdout",
     "output_type": "stream",
     "text": [
      "Mean Absolute Error value with test data is: 98.13607734163472\n"
     ]
    }
   ],
   "source": [
    "# Getting same 'y_test' values from last exercise\n",
    "y_test\n",
    "predictions_test\n",
    "\n",
    "mae = mean_absolute_error(y_test, predictions_test)\n",
    "mae                          \n",
    "#mean_y_test = y_test.mean()\n",
    "\n",
    "print(\"Mean Absolute Error value with test data is:\", mae)"
   ]
  },
  {
   "cell_type": "code",
   "execution_count": 3207,
   "id": "24313010",
   "metadata": {},
   "outputs": [
    {
     "data": {
      "text/plain": [
       "count    4543.000000\n",
       "mean      436.477525\n",
       "std       295.026990\n",
       "min         0.099007\n",
       "25%       265.686145\n",
       "50%       384.000000\n",
       "75%       552.000000\n",
       "max      2893.239678\n",
       "Name: total claim amount, dtype: float64"
      ]
     },
     "execution_count": 3207,
     "metadata": {},
     "output_type": "execute_result"
    }
   ],
   "source": [
    "y.describe().T"
   ]
  },
  {
   "cell_type": "markdown",
   "id": "9188db5e",
   "metadata": {},
   "source": [
    "## Lab | Customer Analysis Round 7"
   ]
  },
  {
   "cell_type": "markdown",
   "id": "d29e4222",
   "metadata": {},
   "source": [
    "### 1. Try to improve the linear regression model.\n",
    "\n",
    "- Ex: change ratio Train-Test-Split, if normalized (MinMax) now try to standardize (Standard Scaler), etc."
   ]
  },
  {
   "cell_type": "markdown",
   "id": "4bee7827",
   "metadata": {},
   "source": [
    "##### Changing ratio to Train-Test-Split (80% training - 20% testing)"
   ]
  },
  {
   "cell_type": "code",
   "execution_count": 3208,
   "id": "f980a340",
   "metadata": {
    "scrolled": true
   },
   "outputs": [
    {
     "data": {
      "text/plain": [
       "2     480.000000\n",
       "3     484.013411\n",
       "10    442.521087\n",
       "13    331.200000\n",
       "16    300.528579\n",
       "Name: total claim amount, dtype: float64"
      ]
     },
     "execution_count": 3208,
     "metadata": {},
     "output_type": "execute_result"
    }
   ],
   "source": [
    "# Same Target for prediction as before = 'total claim amount'\n",
    "y.head()"
   ]
  },
  {
   "cell_type": "code",
   "execution_count": 3209,
   "id": "eec28922",
   "metadata": {
    "scrolled": true
   },
   "outputs": [
    {
     "data": {
      "text/html": [
       "<div>\n",
       "<style scoped>\n",
       "    .dataframe tbody tr th:only-of-type {\n",
       "        vertical-align: middle;\n",
       "    }\n",
       "\n",
       "    .dataframe tbody tr th {\n",
       "        vertical-align: top;\n",
       "    }\n",
       "\n",
       "    .dataframe thead th {\n",
       "        text-align: right;\n",
       "    }\n",
       "</style>\n",
       "<table border=\"1\" class=\"dataframe\">\n",
       "  <thead>\n",
       "    <tr style=\"text-align: right;\">\n",
       "      <th></th>\n",
       "      <th>customer lifetime value</th>\n",
       "      <th>income</th>\n",
       "      <th>monthly premium auto</th>\n",
       "      <th>months since last claim</th>\n",
       "      <th>months since policy inception</th>\n",
       "      <th>number of open complaints</th>\n",
       "      <th>number of policies</th>\n",
       "      <th>response rate</th>\n",
       "      <th>state_California</th>\n",
       "      <th>state_Nevada</th>\n",
       "      <th>...</th>\n",
       "      <th>sales channel_Call Center</th>\n",
       "      <th>sales channel_Web</th>\n",
       "      <th>vehicle class_Luxury Car</th>\n",
       "      <th>vehicle class_Luxury SUV</th>\n",
       "      <th>vehicle class_SUV</th>\n",
       "      <th>vehicle class_Sports Car</th>\n",
       "      <th>vehicle class_Two-Door Car</th>\n",
       "      <th>vehicle size_Medsize</th>\n",
       "      <th>vehicle size_Small</th>\n",
       "      <th>months_January</th>\n",
       "    </tr>\n",
       "  </thead>\n",
       "  <tbody>\n",
       "    <tr>\n",
       "      <th>1442</th>\n",
       "      <td>0.102157</td>\n",
       "      <td>0.000000</td>\n",
       "      <td>0.308017</td>\n",
       "      <td>0.657143</td>\n",
       "      <td>0.161616</td>\n",
       "      <td>0.0</td>\n",
       "      <td>0.375</td>\n",
       "      <td>0.0</td>\n",
       "      <td>0.0</td>\n",
       "      <td>0.0</td>\n",
       "      <td>...</td>\n",
       "      <td>0.0</td>\n",
       "      <td>0.0</td>\n",
       "      <td>0.0</td>\n",
       "      <td>0.0</td>\n",
       "      <td>1.0</td>\n",
       "      <td>0.0</td>\n",
       "      <td>0.0</td>\n",
       "      <td>0.0</td>\n",
       "      <td>1.0</td>\n",
       "      <td>1.0</td>\n",
       "    </tr>\n",
       "    <tr>\n",
       "      <th>1325</th>\n",
       "      <td>0.005477</td>\n",
       "      <td>0.000000</td>\n",
       "      <td>0.037975</td>\n",
       "      <td>0.600000</td>\n",
       "      <td>0.050505</td>\n",
       "      <td>0.0</td>\n",
       "      <td>0.000</td>\n",
       "      <td>0.0</td>\n",
       "      <td>0.0</td>\n",
       "      <td>0.0</td>\n",
       "      <td>...</td>\n",
       "      <td>1.0</td>\n",
       "      <td>0.0</td>\n",
       "      <td>0.0</td>\n",
       "      <td>0.0</td>\n",
       "      <td>0.0</td>\n",
       "      <td>0.0</td>\n",
       "      <td>0.0</td>\n",
       "      <td>0.0</td>\n",
       "      <td>0.0</td>\n",
       "      <td>0.0</td>\n",
       "    </tr>\n",
       "    <tr>\n",
       "      <th>4218</th>\n",
       "      <td>0.035804</td>\n",
       "      <td>0.747592</td>\n",
       "      <td>0.000000</td>\n",
       "      <td>0.514286</td>\n",
       "      <td>0.848485</td>\n",
       "      <td>0.0</td>\n",
       "      <td>0.625</td>\n",
       "      <td>0.0</td>\n",
       "      <td>0.0</td>\n",
       "      <td>0.0</td>\n",
       "      <td>...</td>\n",
       "      <td>0.0</td>\n",
       "      <td>0.0</td>\n",
       "      <td>0.0</td>\n",
       "      <td>0.0</td>\n",
       "      <td>0.0</td>\n",
       "      <td>0.0</td>\n",
       "      <td>0.0</td>\n",
       "      <td>0.0</td>\n",
       "      <td>1.0</td>\n",
       "      <td>0.0</td>\n",
       "    </tr>\n",
       "    <tr>\n",
       "      <th>1465</th>\n",
       "      <td>0.076227</td>\n",
       "      <td>0.365683</td>\n",
       "      <td>0.037975</td>\n",
       "      <td>0.171429</td>\n",
       "      <td>0.626263</td>\n",
       "      <td>0.2</td>\n",
       "      <td>0.125</td>\n",
       "      <td>0.0</td>\n",
       "      <td>1.0</td>\n",
       "      <td>0.0</td>\n",
       "      <td>...</td>\n",
       "      <td>1.0</td>\n",
       "      <td>0.0</td>\n",
       "      <td>0.0</td>\n",
       "      <td>0.0</td>\n",
       "      <td>0.0</td>\n",
       "      <td>0.0</td>\n",
       "      <td>1.0</td>\n",
       "      <td>0.0</td>\n",
       "      <td>1.0</td>\n",
       "      <td>0.0</td>\n",
       "    </tr>\n",
       "    <tr>\n",
       "      <th>1103</th>\n",
       "      <td>0.006544</td>\n",
       "      <td>0.000000</td>\n",
       "      <td>0.016878</td>\n",
       "      <td>0.971429</td>\n",
       "      <td>0.848485</td>\n",
       "      <td>0.0</td>\n",
       "      <td>0.000</td>\n",
       "      <td>0.0</td>\n",
       "      <td>0.0</td>\n",
       "      <td>0.0</td>\n",
       "      <td>...</td>\n",
       "      <td>0.0</td>\n",
       "      <td>0.0</td>\n",
       "      <td>0.0</td>\n",
       "      <td>0.0</td>\n",
       "      <td>0.0</td>\n",
       "      <td>0.0</td>\n",
       "      <td>1.0</td>\n",
       "      <td>0.0</td>\n",
       "      <td>0.0</td>\n",
       "      <td>0.0</td>\n",
       "    </tr>\n",
       "    <tr>\n",
       "      <th>...</th>\n",
       "      <td>...</td>\n",
       "      <td>...</td>\n",
       "      <td>...</td>\n",
       "      <td>...</td>\n",
       "      <td>...</td>\n",
       "      <td>...</td>\n",
       "      <td>...</td>\n",
       "      <td>...</td>\n",
       "      <td>...</td>\n",
       "      <td>...</td>\n",
       "      <td>...</td>\n",
       "      <td>...</td>\n",
       "      <td>...</td>\n",
       "      <td>...</td>\n",
       "      <td>...</td>\n",
       "      <td>...</td>\n",
       "      <td>...</td>\n",
       "      <td>...</td>\n",
       "      <td>...</td>\n",
       "      <td>...</td>\n",
       "      <td>...</td>\n",
       "    </tr>\n",
       "    <tr>\n",
       "      <th>58</th>\n",
       "      <td>0.039171</td>\n",
       "      <td>0.918498</td>\n",
       "      <td>0.008439</td>\n",
       "      <td>0.857143</td>\n",
       "      <td>1.000000</td>\n",
       "      <td>0.0</td>\n",
       "      <td>0.250</td>\n",
       "      <td>0.0</td>\n",
       "      <td>1.0</td>\n",
       "      <td>0.0</td>\n",
       "      <td>...</td>\n",
       "      <td>1.0</td>\n",
       "      <td>0.0</td>\n",
       "      <td>0.0</td>\n",
       "      <td>0.0</td>\n",
       "      <td>0.0</td>\n",
       "      <td>0.0</td>\n",
       "      <td>1.0</td>\n",
       "      <td>1.0</td>\n",
       "      <td>0.0</td>\n",
       "      <td>1.0</td>\n",
       "    </tr>\n",
       "    <tr>\n",
       "      <th>452</th>\n",
       "      <td>0.058720</td>\n",
       "      <td>0.562920</td>\n",
       "      <td>0.092827</td>\n",
       "      <td>0.657143</td>\n",
       "      <td>0.020202</td>\n",
       "      <td>0.0</td>\n",
       "      <td>0.375</td>\n",
       "      <td>0.0</td>\n",
       "      <td>0.0</td>\n",
       "      <td>0.0</td>\n",
       "      <td>...</td>\n",
       "      <td>0.0</td>\n",
       "      <td>0.0</td>\n",
       "      <td>0.0</td>\n",
       "      <td>0.0</td>\n",
       "      <td>0.0</td>\n",
       "      <td>0.0</td>\n",
       "      <td>0.0</td>\n",
       "      <td>1.0</td>\n",
       "      <td>0.0</td>\n",
       "      <td>0.0</td>\n",
       "    </tr>\n",
       "    <tr>\n",
       "      <th>3876</th>\n",
       "      <td>0.095228</td>\n",
       "      <td>0.000000</td>\n",
       "      <td>0.295359</td>\n",
       "      <td>0.971429</td>\n",
       "      <td>0.616162</td>\n",
       "      <td>0.0</td>\n",
       "      <td>1.000</td>\n",
       "      <td>1.0</td>\n",
       "      <td>1.0</td>\n",
       "      <td>0.0</td>\n",
       "      <td>...</td>\n",
       "      <td>0.0</td>\n",
       "      <td>0.0</td>\n",
       "      <td>0.0</td>\n",
       "      <td>0.0</td>\n",
       "      <td>1.0</td>\n",
       "      <td>0.0</td>\n",
       "      <td>0.0</td>\n",
       "      <td>1.0</td>\n",
       "      <td>0.0</td>\n",
       "      <td>1.0</td>\n",
       "    </tr>\n",
       "    <tr>\n",
       "      <th>3810</th>\n",
       "      <td>0.165692</td>\n",
       "      <td>0.358360</td>\n",
       "      <td>0.573840</td>\n",
       "      <td>0.714286</td>\n",
       "      <td>0.797980</td>\n",
       "      <td>0.0</td>\n",
       "      <td>0.750</td>\n",
       "      <td>0.0</td>\n",
       "      <td>0.0</td>\n",
       "      <td>0.0</td>\n",
       "      <td>...</td>\n",
       "      <td>0.0</td>\n",
       "      <td>0.0</td>\n",
       "      <td>0.0</td>\n",
       "      <td>0.0</td>\n",
       "      <td>1.0</td>\n",
       "      <td>0.0</td>\n",
       "      <td>0.0</td>\n",
       "      <td>1.0</td>\n",
       "      <td>0.0</td>\n",
       "      <td>1.0</td>\n",
       "    </tr>\n",
       "    <tr>\n",
       "      <th>1209</th>\n",
       "      <td>0.070184</td>\n",
       "      <td>0.419163</td>\n",
       "      <td>0.008439</td>\n",
       "      <td>0.000000</td>\n",
       "      <td>0.343434</td>\n",
       "      <td>0.0</td>\n",
       "      <td>0.125</td>\n",
       "      <td>0.0</td>\n",
       "      <td>0.0</td>\n",
       "      <td>0.0</td>\n",
       "      <td>...</td>\n",
       "      <td>0.0</td>\n",
       "      <td>1.0</td>\n",
       "      <td>0.0</td>\n",
       "      <td>0.0</td>\n",
       "      <td>0.0</td>\n",
       "      <td>0.0</td>\n",
       "      <td>0.0</td>\n",
       "      <td>0.0</td>\n",
       "      <td>0.0</td>\n",
       "      <td>0.0</td>\n",
       "    </tr>\n",
       "  </tbody>\n",
       "</table>\n",
       "<p>3634 rows × 52 columns</p>\n",
       "</div>"
      ],
      "text/plain": [
       "      customer lifetime value    income  monthly premium auto  \\\n",
       "1442                 0.102157  0.000000              0.308017   \n",
       "1325                 0.005477  0.000000              0.037975   \n",
       "4218                 0.035804  0.747592              0.000000   \n",
       "1465                 0.076227  0.365683              0.037975   \n",
       "1103                 0.006544  0.000000              0.016878   \n",
       "...                       ...       ...                   ...   \n",
       "58                   0.039171  0.918498              0.008439   \n",
       "452                  0.058720  0.562920              0.092827   \n",
       "3876                 0.095228  0.000000              0.295359   \n",
       "3810                 0.165692  0.358360              0.573840   \n",
       "1209                 0.070184  0.419163              0.008439   \n",
       "\n",
       "      months since last claim  months since policy inception  \\\n",
       "1442                 0.657143                       0.161616   \n",
       "1325                 0.600000                       0.050505   \n",
       "4218                 0.514286                       0.848485   \n",
       "1465                 0.171429                       0.626263   \n",
       "1103                 0.971429                       0.848485   \n",
       "...                       ...                            ...   \n",
       "58                   0.857143                       1.000000   \n",
       "452                  0.657143                       0.020202   \n",
       "3876                 0.971429                       0.616162   \n",
       "3810                 0.714286                       0.797980   \n",
       "1209                 0.000000                       0.343434   \n",
       "\n",
       "      number of open complaints  number of policies  response rate  \\\n",
       "1442                        0.0               0.375            0.0   \n",
       "1325                        0.0               0.000            0.0   \n",
       "4218                        0.0               0.625            0.0   \n",
       "1465                        0.2               0.125            0.0   \n",
       "1103                        0.0               0.000            0.0   \n",
       "...                         ...                 ...            ...   \n",
       "58                          0.0               0.250            0.0   \n",
       "452                         0.0               0.375            0.0   \n",
       "3876                        0.0               1.000            1.0   \n",
       "3810                        0.0               0.750            0.0   \n",
       "1209                        0.0               0.125            0.0   \n",
       "\n",
       "      state_California  state_Nevada  ...  sales channel_Call Center  \\\n",
       "1442               0.0           0.0  ...                        0.0   \n",
       "1325               0.0           0.0  ...                        1.0   \n",
       "4218               0.0           0.0  ...                        0.0   \n",
       "1465               1.0           0.0  ...                        1.0   \n",
       "1103               0.0           0.0  ...                        0.0   \n",
       "...                ...           ...  ...                        ...   \n",
       "58                 1.0           0.0  ...                        1.0   \n",
       "452                0.0           0.0  ...                        0.0   \n",
       "3876               1.0           0.0  ...                        0.0   \n",
       "3810               0.0           0.0  ...                        0.0   \n",
       "1209               0.0           0.0  ...                        0.0   \n",
       "\n",
       "      sales channel_Web  vehicle class_Luxury Car  vehicle class_Luxury SUV  \\\n",
       "1442                0.0                       0.0                       0.0   \n",
       "1325                0.0                       0.0                       0.0   \n",
       "4218                0.0                       0.0                       0.0   \n",
       "1465                0.0                       0.0                       0.0   \n",
       "1103                0.0                       0.0                       0.0   \n",
       "...                 ...                       ...                       ...   \n",
       "58                  0.0                       0.0                       0.0   \n",
       "452                 0.0                       0.0                       0.0   \n",
       "3876                0.0                       0.0                       0.0   \n",
       "3810                0.0                       0.0                       0.0   \n",
       "1209                1.0                       0.0                       0.0   \n",
       "\n",
       "      vehicle class_SUV  vehicle class_Sports Car  vehicle class_Two-Door Car  \\\n",
       "1442                1.0                       0.0                         0.0   \n",
       "1325                0.0                       0.0                         0.0   \n",
       "4218                0.0                       0.0                         0.0   \n",
       "1465                0.0                       0.0                         1.0   \n",
       "1103                0.0                       0.0                         1.0   \n",
       "...                 ...                       ...                         ...   \n",
       "58                  0.0                       0.0                         1.0   \n",
       "452                 0.0                       0.0                         0.0   \n",
       "3876                1.0                       0.0                         0.0   \n",
       "3810                1.0                       0.0                         0.0   \n",
       "1209                0.0                       0.0                         0.0   \n",
       "\n",
       "      vehicle size_Medsize  vehicle size_Small  months_January  \n",
       "1442                   0.0                 1.0             1.0  \n",
       "1325                   0.0                 0.0             0.0  \n",
       "4218                   0.0                 1.0             0.0  \n",
       "1465                   0.0                 1.0             0.0  \n",
       "1103                   0.0                 0.0             0.0  \n",
       "...                    ...                 ...             ...  \n",
       "58                     1.0                 0.0             1.0  \n",
       "452                    1.0                 0.0             0.0  \n",
       "3876                   1.0                 0.0             1.0  \n",
       "3810                   1.0                 0.0             1.0  \n",
       "1209                   0.0                 0.0             0.0  \n",
       "\n",
       "[3634 rows x 52 columns]"
      ]
     },
     "execution_count": 3209,
     "metadata": {},
     "output_type": "execute_result"
    }
   ],
   "source": [
    "X_train"
   ]
  },
  {
   "cell_type": "code",
   "execution_count": 3210,
   "id": "92643b96",
   "metadata": {},
   "outputs": [],
   "source": [
    "# Getting error values from the previous test (80%-20%)\n",
    "previous_r2_sytrain = r2_sytrain\n",
    "previous_r2_sytest = r2_sytest\n",
    "previous_mse = mse\n",
    "previous_rmse = rmse\n",
    "previous_mae = mae"
   ]
  },
  {
   "cell_type": "code",
   "execution_count": 3211,
   "id": "b6b20e98",
   "metadata": {},
   "outputs": [
    {
     "name": "stdout",
     "output_type": "stream",
     "text": [
      "70% of data for training, 30% to test the model:\n",
      "X_train:  (3180, 52)\n",
      "X_test:  (1363, 52)\n",
      "y_train:  (3180,)\n",
      "y_test:  (1363,)\n"
     ]
    }
   ],
   "source": [
    "# Now we train the model with 70% of the data, and 30% for testing.\n",
    "X_train, X_test, y_train, y_test = train_test_split(X, y, test_size=0.30)\n",
    "\n",
    "print(\"70% of data for training, 30% to test the model:\")\n",
    "print(\"X_train: \", X_train.shape)\n",
    "print(\"X_test: \", X_test.shape)\n",
    "print(\"y_train: \",y_train.shape)\n",
    "print(\"y_test: \",y_test.shape)"
   ]
  },
  {
   "cell_type": "code",
   "execution_count": 3212,
   "id": "f604e7ce",
   "metadata": {},
   "outputs": [
    {
     "data": {
      "text/plain": [
       "LinearRegression()"
      ]
     },
     "execution_count": 3212,
     "metadata": {},
     "output_type": "execute_result"
    }
   ],
   "source": [
    "# We created the model of linear regression before (lm), so we just train it again with the new proportions of data (70%-30%)\n",
    "lm.fit(X_train,y_train)"
   ]
  },
  {
   "cell_type": "code",
   "execution_count": 3213,
   "id": "90117148",
   "metadata": {},
   "outputs": [
    {
     "data": {
      "text/plain": [
       "array([827.48876363, 588.87767965,  86.44115621, 531.4498232 ,\n",
       "       587.10021383])"
      ]
     },
     "execution_count": 3213,
     "metadata": {},
     "output_type": "execute_result"
    }
   ],
   "source": [
    "# Now we fit and generate predictions with the TRAINING data\n",
    "predictions = lm.predict(X_train)\n",
    "predictions[:5]"
   ]
  },
  {
   "cell_type": "code",
   "execution_count": 3214,
   "id": "d8b39ef5",
   "metadata": {},
   "outputs": [
    {
     "data": {
      "text/plain": [
       "array([501.50756246,  28.78173238, 830.0435732 , 731.88514912,\n",
       "       474.53283102])"
      ]
     },
     "execution_count": 3214,
     "metadata": {},
     "output_type": "execute_result"
    }
   ],
   "source": [
    "# Then we proceed equally for the TEST portion of the data \n",
    "predictions_test = lm.predict(X_test)\n",
    "predictions_test[:5]"
   ]
  },
  {
   "cell_type": "code",
   "execution_count": 3215,
   "id": "792226c3",
   "metadata": {},
   "outputs": [],
   "source": [
    "# Calculating new error values (R2, MSE, RMSE, MAE) and comparing them to the ones from the previous models"
   ]
  },
  {
   "cell_type": "code",
   "execution_count": 3234,
   "id": "a0cbfb5b",
   "metadata": {
    "scrolled": true
   },
   "outputs": [
    {
     "data": {
      "text/plain": [
       "'Previous (80-20%) R-squared error coefficient with TRAINING data was:'"
      ]
     },
     "metadata": {},
     "output_type": "display_data"
    },
    {
     "data": {
      "text/plain": [
       "0.7730450504125146"
      ]
     },
     "metadata": {},
     "output_type": "display_data"
    },
    {
     "data": {
      "text/plain": [
       "'New (70-30%) R-squared error coefficient with TRAINING data is:'"
      ]
     },
     "metadata": {},
     "output_type": "display_data"
    },
    {
     "data": {
      "text/plain": [
       "0.7696282798481149"
      ]
     },
     "metadata": {},
     "output_type": "display_data"
    },
    {
     "data": {
      "text/plain": [
       "'Previous (80-20%) R-squared error coefficient with TESTING data was:'"
      ]
     },
     "metadata": {},
     "output_type": "display_data"
    },
    {
     "data": {
      "text/plain": [
       "0.7609095438616293"
      ]
     },
     "metadata": {},
     "output_type": "display_data"
    },
    {
     "data": {
      "text/plain": [
       "'New (70-30%) R-squared error coefficient with TESTING data is:'"
      ]
     },
     "metadata": {},
     "output_type": "display_data"
    },
    {
     "data": {
      "text/plain": [
       "0.7685205242197337"
      ]
     },
     "metadata": {},
     "output_type": "display_data"
    }
   ],
   "source": [
    "# R2 (70%-30%)\n",
    "new_r2_sytrain = r2_score(y_train, predictions)\n",
    "\n",
    "display(\"Previous (80-20%) R-squared error coefficient with TRAINING data was:\", previous_r2_sytrain)\n",
    "display(\"New (70-30%) R-squared error coefficient with TRAINING data is:\", new_r2_sytrain)\n",
    "\n",
    "new_r2_sytest = r2_score(y_test, predictions_test)\n",
    "\n",
    "display(\"Previous (80-20%) R-squared error coefficient with TESTING data was:\", previous_r2_sytest)\n",
    "display(\"New (70-30%) R-squared error coefficient with TESTING data is:\", new_r2_sytest)"
   ]
  },
  {
   "cell_type": "markdown",
   "id": "a2d69ca2",
   "metadata": {},
   "source": [
    "R_squared error coefficient is slightly worse as the model is trained with less data than before."
   ]
  },
  {
   "cell_type": "code",
   "execution_count": 3235,
   "id": "67197ba4",
   "metadata": {},
   "outputs": [
    {
     "data": {
      "text/plain": [
       "'Previous (80-20%) MSE value with TRAINING data was:'"
      ]
     },
     "metadata": {},
     "output_type": "display_data"
    },
    {
     "data": {
      "text/plain": [
       "23516.54754964827"
      ]
     },
     "metadata": {},
     "output_type": "display_data"
    },
    {
     "data": {
      "text/plain": [
       "'New (70-30%) MSE value with TRAINING data is:'"
      ]
     },
     "metadata": {},
     "output_type": "display_data"
    },
    {
     "data": {
      "text/plain": [
       "20613.061769515025"
      ]
     },
     "metadata": {},
     "output_type": "display_data"
    }
   ],
   "source": [
    "# MSE (70%-30%)\n",
    "new_mse = mean_squared_error(y_test,predictions_test)\n",
    "\n",
    "display(\"Previous (80-20%) MSE value with TRAINING data was:\", previous_mse)\n",
    "display(\"New (70-30%) MSE value with TRAINING data is:\", new_mse)\n"
   ]
  },
  {
   "cell_type": "code",
   "execution_count": 3236,
   "id": "75dcd020",
   "metadata": {},
   "outputs": [
    {
     "data": {
      "text/plain": [
       "'Previous (80-20%) MAE value with TRAINING data was:'"
      ]
     },
     "metadata": {},
     "output_type": "display_data"
    },
    {
     "data": {
      "text/plain": [
       "98.13607734163472"
      ]
     },
     "metadata": {},
     "output_type": "display_data"
    },
    {
     "data": {
      "text/plain": [
       "'New (70-30%) MSE value with TRAINING data is:'"
      ]
     },
     "metadata": {},
     "output_type": "display_data"
    },
    {
     "data": {
      "text/plain": [
       "98.07615630957727"
      ]
     },
     "metadata": {},
     "output_type": "display_data"
    }
   ],
   "source": [
    "#MAE (70%-30%)\n",
    "new_mae = mean_absolute_error(y_test, predictions_test)\n",
    "\n",
    "display(\"Previous (80-20%) MAE value with TRAINING data was:\", previous_mae)\n",
    "display(\"New (70-30%) MSE value with TRAINING data is:\", new_mae)\n"
   ]
  },
  {
   "cell_type": "markdown",
   "id": "7c22d8c5",
   "metadata": {},
   "source": [
    "Result"
   ]
  },
  {
   "cell_type": "markdown",
   "id": "2d19be30",
   "metadata": {},
   "source": [
    "##### Comparing X_normalized (MinMaxScaler) Vs X_standardized (StandardScaler)"
   ]
  },
  {
   "cell_type": "code",
   "execution_count": 3219,
   "id": "e90903e1",
   "metadata": {},
   "outputs": [
    {
     "name": "stdout",
     "output_type": "stream",
     "text": [
      "(4543, 8)\n"
     ]
    },
    {
     "data": {
      "text/html": [
       "<div>\n",
       "<style scoped>\n",
       "    .dataframe tbody tr th:only-of-type {\n",
       "        vertical-align: middle;\n",
       "    }\n",
       "\n",
       "    .dataframe tbody tr th {\n",
       "        vertical-align: top;\n",
       "    }\n",
       "\n",
       "    .dataframe thead th {\n",
       "        text-align: right;\n",
       "    }\n",
       "</style>\n",
       "<table border=\"1\" class=\"dataframe\">\n",
       "  <thead>\n",
       "    <tr style=\"text-align: right;\">\n",
       "      <th></th>\n",
       "      <th>customer lifetime value</th>\n",
       "      <th>income</th>\n",
       "      <th>monthly premium auto</th>\n",
       "      <th>months since last claim</th>\n",
       "      <th>months since policy inception</th>\n",
       "      <th>number of open complaints</th>\n",
       "      <th>number of policies</th>\n",
       "      <th>response rate</th>\n",
       "    </tr>\n",
       "  </thead>\n",
       "  <tbody>\n",
       "    <tr>\n",
       "      <th>0</th>\n",
       "      <td>0.993597</td>\n",
       "      <td>-0.506181</td>\n",
       "      <td>0.177451</td>\n",
       "      <td>1.859657</td>\n",
       "      <td>-0.609508</td>\n",
       "      <td>-0.425706</td>\n",
       "      <td>-0.410104</td>\n",
       "      <td>-0.405308</td>\n",
       "    </tr>\n",
       "    <tr>\n",
       "      <th>1</th>\n",
       "      <td>2.054780</td>\n",
       "      <td>0.384245</td>\n",
       "      <td>0.091956</td>\n",
       "      <td>-0.503290</td>\n",
       "      <td>-1.604398</td>\n",
       "      <td>-0.425706</td>\n",
       "      <td>-0.410104</td>\n",
       "      <td>2.467258</td>\n",
       "    </tr>\n",
       "    <tr>\n",
       "      <th>2</th>\n",
       "      <td>-0.413716</td>\n",
       "      <td>1.496558</td>\n",
       "      <td>0.946905</td>\n",
       "      <td>-0.207922</td>\n",
       "      <td>-0.609508</td>\n",
       "      <td>-0.425706</td>\n",
       "      <td>-0.828497</td>\n",
       "      <td>-0.405308</td>\n",
       "    </tr>\n",
       "    <tr>\n",
       "      <th>3</th>\n",
       "      <td>-0.370630</td>\n",
       "      <td>0.954614</td>\n",
       "      <td>-0.705997</td>\n",
       "      <td>0.973552</td>\n",
       "      <td>-0.822698</td>\n",
       "      <td>-0.425706</td>\n",
       "      <td>0.426681</td>\n",
       "      <td>-0.405308</td>\n",
       "    </tr>\n",
       "    <tr>\n",
       "      <th>4</th>\n",
       "      <td>-0.389011</td>\n",
       "      <td>1.297808</td>\n",
       "      <td>-0.791492</td>\n",
       "      <td>1.072008</td>\n",
       "      <td>-1.355675</td>\n",
       "      <td>-0.425706</td>\n",
       "      <td>1.263467</td>\n",
       "      <td>-0.405308</td>\n",
       "    </tr>\n",
       "  </tbody>\n",
       "</table>\n",
       "</div>"
      ],
      "text/plain": [
       "   customer lifetime value    income  monthly premium auto  \\\n",
       "0                 0.993597 -0.506181              0.177451   \n",
       "1                 2.054780  0.384245              0.091956   \n",
       "2                -0.413716  1.496558              0.946905   \n",
       "3                -0.370630  0.954614             -0.705997   \n",
       "4                -0.389011  1.297808             -0.791492   \n",
       "\n",
       "   months since last claim  months since policy inception  \\\n",
       "0                 1.859657                      -0.609508   \n",
       "1                -0.503290                      -1.604398   \n",
       "2                -0.207922                      -0.609508   \n",
       "3                 0.973552                      -0.822698   \n",
       "4                 1.072008                      -1.355675   \n",
       "\n",
       "   number of open complaints  number of policies  response rate  \n",
       "0                  -0.425706           -0.410104      -0.405308  \n",
       "1                  -0.425706           -0.410104       2.467258  \n",
       "2                  -0.425706           -0.828497      -0.405308  \n",
       "3                  -0.425706            0.426681      -0.405308  \n",
       "4                  -0.425706            1.263467      -0.405308  "
      ]
     },
     "execution_count": 3219,
     "metadata": {},
     "output_type": "execute_result"
    }
   ],
   "source": [
    "# Applying Standard Scaler transformer and getting a standardized dataframe\n",
    "\n",
    "from sklearn.preprocessing import StandardScaler\n",
    "\n",
    "Standardtransformer = StandardScaler().fit(X_num)\n",
    "X_standardized = Standardtransformer.transform(X_num)\n",
    "\n",
    "print(X_standardized.shape)\n",
    "X_standardized = pd.DataFrame(X_standardized,columns=X_num.columns)\n",
    "X_standardized.head()"
   ]
  },
  {
   "cell_type": "code",
   "execution_count": 3220,
   "id": "eb4ef272",
   "metadata": {},
   "outputs": [
    {
     "data": {
      "text/html": [
       "<div>\n",
       "<style scoped>\n",
       "    .dataframe tbody tr th:only-of-type {\n",
       "        vertical-align: middle;\n",
       "    }\n",
       "\n",
       "    .dataframe tbody tr th {\n",
       "        vertical-align: top;\n",
       "    }\n",
       "\n",
       "    .dataframe thead th {\n",
       "        text-align: right;\n",
       "    }\n",
       "</style>\n",
       "<table border=\"1\" class=\"dataframe\">\n",
       "  <thead>\n",
       "    <tr style=\"text-align: right;\">\n",
       "      <th></th>\n",
       "      <th>count</th>\n",
       "      <th>mean</th>\n",
       "      <th>std</th>\n",
       "      <th>min</th>\n",
       "      <th>25%</th>\n",
       "      <th>50%</th>\n",
       "      <th>75%</th>\n",
       "      <th>max</th>\n",
       "    </tr>\n",
       "  </thead>\n",
       "  <tbody>\n",
       "    <tr>\n",
       "      <th>customer lifetime value</th>\n",
       "      <td>4543.0</td>\n",
       "      <td>9.758135e-17</td>\n",
       "      <td>1.00011</td>\n",
       "      <td>-0.880862</td>\n",
       "      <td>-0.574042</td>\n",
       "      <td>-0.314308</td>\n",
       "      <td>0.129748</td>\n",
       "      <td>10.819691</td>\n",
       "    </tr>\n",
       "    <tr>\n",
       "      <th>income</th>\n",
       "      <td>4543.0</td>\n",
       "      <td>-3.228273e-17</td>\n",
       "      <td>1.00011</td>\n",
       "      <td>-1.237950</td>\n",
       "      <td>-1.237950</td>\n",
       "      <td>-0.099095</td>\n",
       "      <td>0.796817</td>\n",
       "      <td>2.066101</td>\n",
       "    </tr>\n",
       "    <tr>\n",
       "      <th>monthly premium auto</th>\n",
       "      <td>4543.0</td>\n",
       "      <td>-8.846593e-18</td>\n",
       "      <td>1.00011</td>\n",
       "      <td>-0.933983</td>\n",
       "      <td>-0.705997</td>\n",
       "      <td>-0.307020</td>\n",
       "      <td>0.462434</td>\n",
       "      <td>5.820117</td>\n",
       "    </tr>\n",
       "    <tr>\n",
       "      <th>months since last claim</th>\n",
       "      <td>4543.0</td>\n",
       "      <td>-8.284517e-17</td>\n",
       "      <td>1.00011</td>\n",
       "      <td>-1.487851</td>\n",
       "      <td>-0.897115</td>\n",
       "      <td>-0.109466</td>\n",
       "      <td>0.776640</td>\n",
       "      <td>1.958113</td>\n",
       "    </tr>\n",
       "    <tr>\n",
       "      <th>months since policy inception</th>\n",
       "      <td>4543.0</td>\n",
       "      <td>1.224105e-16</td>\n",
       "      <td>1.00011</td>\n",
       "      <td>-1.710993</td>\n",
       "      <td>-0.858230</td>\n",
       "      <td>-0.040999</td>\n",
       "      <td>0.847296</td>\n",
       "      <td>1.806655</td>\n",
       "    </tr>\n",
       "    <tr>\n",
       "      <th>number of open complaints</th>\n",
       "      <td>4543.0</td>\n",
       "      <td>4.568948e-16</td>\n",
       "      <td>1.00011</td>\n",
       "      <td>-0.425706</td>\n",
       "      <td>-0.425706</td>\n",
       "      <td>-0.425706</td>\n",
       "      <td>-0.425706</td>\n",
       "      <td>5.084221</td>\n",
       "    </tr>\n",
       "    <tr>\n",
       "      <th>number of policies</th>\n",
       "      <td>4543.0</td>\n",
       "      <td>4.076276e-16</td>\n",
       "      <td>1.00011</td>\n",
       "      <td>-0.828497</td>\n",
       "      <td>-0.828497</td>\n",
       "      <td>-0.410104</td>\n",
       "      <td>0.426681</td>\n",
       "      <td>2.518645</td>\n",
       "    </tr>\n",
       "    <tr>\n",
       "      <th>response rate</th>\n",
       "      <td>4543.0</td>\n",
       "      <td>2.539363e-16</td>\n",
       "      <td>1.00011</td>\n",
       "      <td>-0.405308</td>\n",
       "      <td>-0.405308</td>\n",
       "      <td>-0.405308</td>\n",
       "      <td>-0.405308</td>\n",
       "      <td>2.467258</td>\n",
       "    </tr>\n",
       "  </tbody>\n",
       "</table>\n",
       "</div>"
      ],
      "text/plain": [
       "                                count          mean      std       min  \\\n",
       "customer lifetime value        4543.0  9.758135e-17  1.00011 -0.880862   \n",
       "income                         4543.0 -3.228273e-17  1.00011 -1.237950   \n",
       "monthly premium auto           4543.0 -8.846593e-18  1.00011 -0.933983   \n",
       "months since last claim        4543.0 -8.284517e-17  1.00011 -1.487851   \n",
       "months since policy inception  4543.0  1.224105e-16  1.00011 -1.710993   \n",
       "number of open complaints      4543.0  4.568948e-16  1.00011 -0.425706   \n",
       "number of policies             4543.0  4.076276e-16  1.00011 -0.828497   \n",
       "response rate                  4543.0  2.539363e-16  1.00011 -0.405308   \n",
       "\n",
       "                                    25%       50%       75%        max  \n",
       "customer lifetime value       -0.574042 -0.314308  0.129748  10.819691  \n",
       "income                        -1.237950 -0.099095  0.796817   2.066101  \n",
       "monthly premium auto          -0.705997 -0.307020  0.462434   5.820117  \n",
       "months since last claim       -0.897115 -0.109466  0.776640   1.958113  \n",
       "months since policy inception -0.858230 -0.040999  0.847296   1.806655  \n",
       "number of open complaints     -0.425706 -0.425706 -0.425706   5.084221  \n",
       "number of policies            -0.828497 -0.410104  0.426681   2.518645  \n",
       "response rate                 -0.405308 -0.405308 -0.405308   2.467258  "
      ]
     },
     "execution_count": 3220,
     "metadata": {},
     "output_type": "execute_result"
    }
   ],
   "source": [
    "#Getting data information from the standardized dataframe (mean = 0, std = 1)\n",
    "X_standardized.describe().T"
   ]
  },
  {
   "cell_type": "code",
   "execution_count": 3221,
   "id": "ee5e0b84",
   "metadata": {},
   "outputs": [
    {
     "data": {
      "text/html": [
       "<div>\n",
       "<style scoped>\n",
       "    .dataframe tbody tr th:only-of-type {\n",
       "        vertical-align: middle;\n",
       "    }\n",
       "\n",
       "    .dataframe tbody tr th {\n",
       "        vertical-align: top;\n",
       "    }\n",
       "\n",
       "    .dataframe thead th {\n",
       "        text-align: right;\n",
       "    }\n",
       "</style>\n",
       "<table border=\"1\" class=\"dataframe\">\n",
       "  <thead>\n",
       "    <tr style=\"text-align: right;\">\n",
       "      <th></th>\n",
       "      <th>count</th>\n",
       "      <th>mean</th>\n",
       "      <th>std</th>\n",
       "      <th>min</th>\n",
       "      <th>25%</th>\n",
       "      <th>50%</th>\n",
       "      <th>75%</th>\n",
       "      <th>max</th>\n",
       "    </tr>\n",
       "  </thead>\n",
       "  <tbody>\n",
       "    <tr>\n",
       "      <th>customer lifetime value</th>\n",
       "      <td>4543.0</td>\n",
       "      <td>0.075284</td>\n",
       "      <td>0.085475</td>\n",
       "      <td>0.0</td>\n",
       "      <td>0.026223</td>\n",
       "      <td>0.048421</td>\n",
       "      <td>0.086373</td>\n",
       "      <td>1.0</td>\n",
       "    </tr>\n",
       "    <tr>\n",
       "      <th>income</th>\n",
       "      <td>4543.0</td>\n",
       "      <td>0.374676</td>\n",
       "      <td>0.302692</td>\n",
       "      <td>0.0</td>\n",
       "      <td>0.000000</td>\n",
       "      <td>0.344684</td>\n",
       "      <td>0.615840</td>\n",
       "      <td>1.0</td>\n",
       "    </tr>\n",
       "    <tr>\n",
       "      <th>monthly premium auto</th>\n",
       "      <td>4543.0</td>\n",
       "      <td>0.138284</td>\n",
       "      <td>0.148075</td>\n",
       "      <td>0.0</td>\n",
       "      <td>0.033755</td>\n",
       "      <td>0.092827</td>\n",
       "      <td>0.206751</td>\n",
       "      <td>1.0</td>\n",
       "    </tr>\n",
       "    <tr>\n",
       "      <th>months since last claim</th>\n",
       "      <td>4543.0</td>\n",
       "      <td>0.431766</td>\n",
       "      <td>0.290226</td>\n",
       "      <td>0.0</td>\n",
       "      <td>0.171429</td>\n",
       "      <td>0.400000</td>\n",
       "      <td>0.657143</td>\n",
       "      <td>1.0</td>\n",
       "    </tr>\n",
       "    <tr>\n",
       "      <th>months since policy inception</th>\n",
       "      <td>4543.0</td>\n",
       "      <td>0.486403</td>\n",
       "      <td>0.284312</td>\n",
       "      <td>0.0</td>\n",
       "      <td>0.242424</td>\n",
       "      <td>0.474747</td>\n",
       "      <td>0.727273</td>\n",
       "      <td>1.0</td>\n",
       "    </tr>\n",
       "    <tr>\n",
       "      <th>number of open complaints</th>\n",
       "      <td>4543.0</td>\n",
       "      <td>0.077262</td>\n",
       "      <td>0.181511</td>\n",
       "      <td>0.0</td>\n",
       "      <td>0.000000</td>\n",
       "      <td>0.000000</td>\n",
       "      <td>0.000000</td>\n",
       "      <td>1.0</td>\n",
       "    </tr>\n",
       "    <tr>\n",
       "      <th>number of policies</th>\n",
       "      <td>4543.0</td>\n",
       "      <td>0.247524</td>\n",
       "      <td>0.298795</td>\n",
       "      <td>0.0</td>\n",
       "      <td>0.000000</td>\n",
       "      <td>0.125000</td>\n",
       "      <td>0.375000</td>\n",
       "      <td>1.0</td>\n",
       "    </tr>\n",
       "    <tr>\n",
       "      <th>response rate</th>\n",
       "      <td>4543.0</td>\n",
       "      <td>0.141096</td>\n",
       "      <td>0.348159</td>\n",
       "      <td>0.0</td>\n",
       "      <td>0.000000</td>\n",
       "      <td>0.000000</td>\n",
       "      <td>0.000000</td>\n",
       "      <td>1.0</td>\n",
       "    </tr>\n",
       "  </tbody>\n",
       "</table>\n",
       "</div>"
      ],
      "text/plain": [
       "                                count      mean       std  min       25%  \\\n",
       "customer lifetime value        4543.0  0.075284  0.085475  0.0  0.026223   \n",
       "income                         4543.0  0.374676  0.302692  0.0  0.000000   \n",
       "monthly premium auto           4543.0  0.138284  0.148075  0.0  0.033755   \n",
       "months since last claim        4543.0  0.431766  0.290226  0.0  0.171429   \n",
       "months since policy inception  4543.0  0.486403  0.284312  0.0  0.242424   \n",
       "number of open complaints      4543.0  0.077262  0.181511  0.0  0.000000   \n",
       "number of policies             4543.0  0.247524  0.298795  0.0  0.000000   \n",
       "response rate                  4543.0  0.141096  0.348159  0.0  0.000000   \n",
       "\n",
       "                                    50%       75%  max  \n",
       "customer lifetime value        0.048421  0.086373  1.0  \n",
       "income                         0.344684  0.615840  1.0  \n",
       "monthly premium auto           0.092827  0.206751  1.0  \n",
       "months since last claim        0.400000  0.657143  1.0  \n",
       "months since policy inception  0.474747  0.727273  1.0  \n",
       "number of open complaints      0.000000  0.000000  1.0  \n",
       "number of policies             0.125000  0.375000  1.0  \n",
       "response rate                  0.000000  0.000000  1.0  "
      ]
     },
     "execution_count": 3221,
     "metadata": {},
     "output_type": "execute_result"
    }
   ],
   "source": [
    "# Recovering and comparing results with data information of the MinMax normalizated dataframe (values 0 or 1)\n",
    "X_normalized.describe().T"
   ]
  },
  {
   "cell_type": "markdown",
   "id": "47e574b1",
   "metadata": {},
   "source": [
    "Checking extra low percentiles and max values from 'Customer lifetime Values'"
   ]
  },
  {
   "cell_type": "code",
   "execution_count": 3222,
   "id": "214f714a",
   "metadata": {},
   "outputs": [
    {
     "data": {
      "text/plain": [
       "count     4543.000000\n",
       "mean      8033.714059\n",
       "std       6959.529443\n",
       "min       1904.000852\n",
       "25%       4039.089902\n",
       "50%       5846.520588\n",
       "75%       8936.596938\n",
       "max      83325.381190\n",
       "Name: customer lifetime value, dtype: float64"
      ]
     },
     "execution_count": 3222,
     "metadata": {},
     "output_type": "execute_result"
    }
   ],
   "source": [
    "X_num['customer lifetime value'].describe().T"
   ]
  },
  {
   "cell_type": "markdown",
   "id": "af57fc05",
   "metadata": {},
   "source": [
    "75% of our data points have a value < 8936, but the maximum one is aprox. 10 times bigger (83325). Possible outliers?"
   ]
  },
  {
   "cell_type": "code",
   "execution_count": 3223,
   "id": "ad466ce5",
   "metadata": {},
   "outputs": [
    {
     "data": {
      "image/png": "[encoded data removed]",
      "text/plain": [
       "<Figure size 640x480 with 1 Axes>"
      ]
     },
     "metadata": {},
     "output_type": "display_data"
    }
   ],
   "source": [
    "#Checking for distribution of data\n",
    "plt.boxplot(X_num['customer lifetime value'])\n",
    "plt.show()"
   ]
  },
  {
   "cell_type": "code",
   "execution_count": 3224,
   "id": "f5c23bbc",
   "metadata": {},
   "outputs": [
    {
     "data": {
      "text/plain": [
       "(4543,)"
      ]
     },
     "execution_count": 3224,
     "metadata": {},
     "output_type": "execute_result"
    }
   ],
   "source": [
    "X_num['customer lifetime value'].shape"
   ]
  },
  {
   "cell_type": "code",
   "execution_count": 3225,
   "id": "f854f959",
   "metadata": {},
   "outputs": [],
   "source": [
    "# Removing outliers from the column.\n",
    "\n",
    "clv_iqr = np.percentile(X_num['customer lifetime value'],75) - np.percentile(X_num['customer lifetime value'],25)\n",
    "clv_upper_limit = np.percentile(X_num['customer lifetime value'],75) + 1.5*clv_iqr\n",
    "clv_lower_limit = np.percentile(X_num['customer lifetime value'],25) - 1.5*clv_iqr"
   ]
  },
  {
   "cell_type": "code",
   "execution_count": 3226,
   "id": "7ca6fcce",
   "metadata": {},
   "outputs": [
    {
     "data": {
      "text/plain": [
       "'clv_upper_limit: '"
      ]
     },
     "metadata": {},
     "output_type": "display_data"
    },
    {
     "data": {
      "text/plain": [
       "16282.857491249997"
      ]
     },
     "metadata": {},
     "output_type": "display_data"
    },
    {
     "data": {
      "text/plain": [
       "'clv_lower_limit: '"
      ]
     },
     "metadata": {},
     "output_type": "display_data"
    },
    {
     "data": {
      "text/plain": [
       "-3307.1706507499985"
      ]
     },
     "metadata": {},
     "output_type": "display_data"
    }
   ],
   "source": [
    "display(\"clv_upper_limit: \", clv_upper_limit)\n",
    "display(\"clv_lower_limit: \", clv_lower_limit)"
   ]
  },
  {
   "cell_type": "code",
   "execution_count": 3227,
   "id": "c2e04055",
   "metadata": {
    "scrolled": true
   },
   "outputs": [
    {
     "data": {
      "image/png": "[encoded data removed]",
      "text/plain": [
       "<Figure size 500x500 with 1 Axes>"
      ]
     },
     "metadata": {},
     "output_type": "display_data"
    }
   ],
   "source": [
    "# Plotting new \"free-outliers\" data\n",
    "new_X_num = X_num[(X_num['customer lifetime value']>clv_lower_limit) & (X_num['customer lifetime value']<clv_upper_limit)].copy()\n",
    "sns.displot(data3['customer lifetime value'])\n",
    "plt.show()"
   ]
  },
  {
   "cell_type": "code",
   "execution_count": 3228,
   "id": "474e0a3b",
   "metadata": {},
   "outputs": [],
   "source": [
    "#Normalizing the new range values of'Customers Lifetime Value'"
   ]
  },
  {
   "cell_type": "code",
   "execution_count": 3229,
   "id": "8cdcee1b",
   "metadata": {},
   "outputs": [
    {
     "data": {
      "text/plain": [
       "'New data shape: '"
      ]
     },
     "metadata": {},
     "output_type": "display_data"
    },
    {
     "data": {
      "text/plain": [
       "(4140, 8)"
      ]
     },
     "metadata": {},
     "output_type": "display_data"
    },
    {
     "data": {
      "text/plain": [
       "'Previous data shape: '"
      ]
     },
     "metadata": {},
     "output_type": "display_data"
    },
    {
     "data": {
      "text/plain": [
       "(4543, 8)"
      ]
     },
     "metadata": {},
     "output_type": "display_data"
    }
   ],
   "source": [
    "display(\"New data shape: \", new_X_num.shape)\n",
    "display(\"Previous data shape: \", X_num.shape)"
   ]
  },
  {
   "cell_type": "code",
   "execution_count": 3230,
   "id": "7080c9f8",
   "metadata": {},
   "outputs": [
    {
     "data": {
      "text/html": [
       "<div>\n",
       "<style scoped>\n",
       "    .dataframe tbody tr th:only-of-type {\n",
       "        vertical-align: middle;\n",
       "    }\n",
       "\n",
       "    .dataframe tbody tr th {\n",
       "        vertical-align: top;\n",
       "    }\n",
       "\n",
       "    .dataframe thead th {\n",
       "        text-align: right;\n",
       "    }\n",
       "</style>\n",
       "<table border=\"1\" class=\"dataframe\">\n",
       "  <thead>\n",
       "    <tr style=\"text-align: right;\">\n",
       "      <th></th>\n",
       "      <th>customer lifetime value</th>\n",
       "      <th>income</th>\n",
       "      <th>monthly premium auto</th>\n",
       "      <th>months since last claim</th>\n",
       "      <th>months since policy inception</th>\n",
       "      <th>number of open complaints</th>\n",
       "      <th>number of policies</th>\n",
       "      <th>response rate</th>\n",
       "    </tr>\n",
       "  </thead>\n",
       "  <tbody>\n",
       "    <tr>\n",
       "      <th>count</th>\n",
       "      <td>4140.000000</td>\n",
       "      <td>4140.000000</td>\n",
       "      <td>4140.000000</td>\n",
       "      <td>4140.000000</td>\n",
       "      <td>4140.000000</td>\n",
       "      <td>4140.000000</td>\n",
       "      <td>4140.000000</td>\n",
       "      <td>4140.000000</td>\n",
       "    </tr>\n",
       "    <tr>\n",
       "      <th>mean</th>\n",
       "      <td>6303.422309</td>\n",
       "      <td>37484.413043</td>\n",
       "      <td>91.353623</td>\n",
       "      <td>15.033575</td>\n",
       "      <td>48.115217</td>\n",
       "      <td>0.394928</td>\n",
       "      <td>3.054348</td>\n",
       "      <td>0.142512</td>\n",
       "    </tr>\n",
       "    <tr>\n",
       "      <th>std</th>\n",
       "      <td>3219.143058</td>\n",
       "      <td>30352.426939</td>\n",
       "      <td>31.817090</td>\n",
       "      <td>10.114521</td>\n",
       "      <td>28.179815</td>\n",
       "      <td>0.923675</td>\n",
       "      <td>2.470056</td>\n",
       "      <td>0.349617</td>\n",
       "    </tr>\n",
       "    <tr>\n",
       "      <th>min</th>\n",
       "      <td>1904.000852</td>\n",
       "      <td>0.000000</td>\n",
       "      <td>61.000000</td>\n",
       "      <td>0.000000</td>\n",
       "      <td>0.000000</td>\n",
       "      <td>0.000000</td>\n",
       "      <td>1.000000</td>\n",
       "      <td>0.000000</td>\n",
       "    </tr>\n",
       "    <tr>\n",
       "      <th>25%</th>\n",
       "      <td>3803.169464</td>\n",
       "      <td>0.000000</td>\n",
       "      <td>68.000000</td>\n",
       "      <td>6.000000</td>\n",
       "      <td>24.000000</td>\n",
       "      <td>0.000000</td>\n",
       "      <td>1.000000</td>\n",
       "      <td>0.000000</td>\n",
       "    </tr>\n",
       "    <tr>\n",
       "      <th>50%</th>\n",
       "      <td>5510.333204</td>\n",
       "      <td>34453.500000</td>\n",
       "      <td>81.000000</td>\n",
       "      <td>14.000000</td>\n",
       "      <td>47.000000</td>\n",
       "      <td>0.000000</td>\n",
       "      <td>2.000000</td>\n",
       "      <td>0.000000</td>\n",
       "    </tr>\n",
       "    <tr>\n",
       "      <th>75%</th>\n",
       "      <td>8186.960925</td>\n",
       "      <td>61659.250000</td>\n",
       "      <td>108.000000</td>\n",
       "      <td>23.000000</td>\n",
       "      <td>72.000000</td>\n",
       "      <td>0.000000</td>\n",
       "      <td>4.000000</td>\n",
       "      <td>0.000000</td>\n",
       "    </tr>\n",
       "    <tr>\n",
       "      <th>max</th>\n",
       "      <td>16272.743220</td>\n",
       "      <td>99961.000000</td>\n",
       "      <td>298.000000</td>\n",
       "      <td>35.000000</td>\n",
       "      <td>99.000000</td>\n",
       "      <td>5.000000</td>\n",
       "      <td>9.000000</td>\n",
       "      <td>1.000000</td>\n",
       "    </tr>\n",
       "  </tbody>\n",
       "</table>\n",
       "</div>"
      ],
      "text/plain": [
       "       customer lifetime value        income  monthly premium auto  \\\n",
       "count              4140.000000   4140.000000           4140.000000   \n",
       "mean               6303.422309  37484.413043             91.353623   \n",
       "std                3219.143058  30352.426939             31.817090   \n",
       "min                1904.000852      0.000000             61.000000   \n",
       "25%                3803.169464      0.000000             68.000000   \n",
       "50%                5510.333204  34453.500000             81.000000   \n",
       "75%                8186.960925  61659.250000            108.000000   \n",
       "max               16272.743220  99961.000000            298.000000   \n",
       "\n",
       "       months since last claim  months since policy inception  \\\n",
       "count              4140.000000                    4140.000000   \n",
       "mean                 15.033575                      48.115217   \n",
       "std                  10.114521                      28.179815   \n",
       "min                   0.000000                       0.000000   \n",
       "25%                   6.000000                      24.000000   \n",
       "50%                  14.000000                      47.000000   \n",
       "75%                  23.000000                      72.000000   \n",
       "max                  35.000000                      99.000000   \n",
       "\n",
       "       number of open complaints  number of policies  response rate  \n",
       "count                4140.000000         4140.000000    4140.000000  \n",
       "mean                    0.394928            3.054348       0.142512  \n",
       "std                     0.923675            2.470056       0.349617  \n",
       "min                     0.000000            1.000000       0.000000  \n",
       "25%                     0.000000            1.000000       0.000000  \n",
       "50%                     0.000000            2.000000       0.000000  \n",
       "75%                     0.000000            4.000000       0.000000  \n",
       "max                     5.000000            9.000000       1.000000  "
      ]
     },
     "execution_count": 3230,
     "metadata": {},
     "output_type": "execute_result"
    }
   ],
   "source": [
    "new_X_num.describe()"
   ]
  },
  {
   "cell_type": "code",
   "execution_count": null,
   "id": "eeabff49",
   "metadata": {},
   "outputs": [],
   "source": [
    "#not finished"
   ]
  },
  {
   "cell_type": "code",
   "execution_count": 3231,
   "id": "6aa829d9",
   "metadata": {},
   "outputs": [
    {
     "data": {
      "text/plain": [
       "\"mca_file_copy=mca_file.copy()\\nmca_file_copy['customer_lifetime_value']=new_X_num['customer lifetime value']\\nmca_file_copy['customer_lifetime_value']\""
      ]
     },
     "execution_count": 3231,
     "metadata": {},
     "output_type": "execute_result"
    }
   ],
   "source": [
    "\"\"\"mca_file_copy=mca_file.copy()\n",
    "mca_file_copy['customer_lifetime_value']=new_X_num['customer lifetime value']\n",
    "mca_file_copy['customer_lifetime_value']\"\"\""
   ]
  },
  {
   "cell_type": "code",
   "execution_count": 3232,
   "id": "6adc5010",
   "metadata": {
    "scrolled": true
   },
   "outputs": [
    {
     "data": {
      "text/plain": [
       "'\\n# Removing null values\\nmca_file_copy = mca_file_copy.dropna()\\nnull_values3=mca_file_copy.isnull()\\n\\nprint(\"Checking no remaining Nan Values:\")\\nprint()\\nprint(null_values3.sum())\\n'"
      ]
     },
     "execution_count": 3232,
     "metadata": {},
     "output_type": "execute_result"
    }
   ],
   "source": [
    "\"\"\"\n",
    "# Removing null values\n",
    "mca_file_copy = mca_file_copy.dropna()\n",
    "null_values3=mca_file_copy.isnull()\n",
    "\n",
    "print(\"Checking no remaining Nan Values:\")\n",
    "print()\n",
    "print(null_values3.sum())\n",
    "\"\"\""
   ]
  },
  {
   "cell_type": "code",
   "execution_count": 3233,
   "id": "7b6a4fbc",
   "metadata": {},
   "outputs": [
    {
     "data": {
      "text/plain": [
       "\"mca_file_copy['customer_lifetime_value']\""
      ]
     },
     "execution_count": 3233,
     "metadata": {},
     "output_type": "execute_result"
    }
   ],
   "source": [
    "\"\"\"mca_file_copy['customer_lifetime_value']\"\"\""
   ]
  }
 ],
 "metadata": {
  "kernelspec": {
   "display_name": "Python 3 (ipykernel)",
   "language": "python",
   "name": "python3"
  },
  "language_info": {
   "codemirror_mode": {
    "name": "ipython",
    "version": 3
   },
   "file_extension": ".py",
   "mimetype": "text/x-python",
   "name": "python",
   "nbconvert_exporter": "python",
   "pygments_lexer": "ipython3",
   "version": "3.9.13"
  }
 },
 "nbformat": 4,
 "nbformat_minor": 5
}
